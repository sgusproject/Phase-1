{
  "nbformat": 4,
  "nbformat_minor": 0,
  "metadata": {
    "colab": {
      "name": "9StdDev_pd-Ver2.ipynb",
      "provenance": [],
      "collapsed_sections": [],
      "include_colab_link": true
    },
    "kernelspec": {
      "display_name": "Python 3",
      "language": "python",
      "name": "python3"
    },
    "language_info": {
      "codemirror_mode": {
        "name": "ipython",
        "version": 3
      },
      "file_extension": ".py",
      "mimetype": "text/x-python",
      "name": "python",
      "nbconvert_exporter": "python",
      "pygments_lexer": "ipython3",
      "version": "3.8.5"
    }
  },
  "cells": [
    {
      "cell_type": "markdown",
      "metadata": {
        "id": "view-in-github",
        "colab_type": "text"
      },
      "source": [
        "<a href=\"https://colab.research.google.com/github/sgusproject/PythonDataframe-Learn/blob/main/9StdDev_pd_Ver2.ipynb\" target=\"_parent\"><img src=\"https://colab.research.google.com/assets/colab-badge.svg\" alt=\"Open In Colab\"/></a>"
      ]
    },
    {
      "cell_type": "code",
      "metadata": {
        "id": "UvWjHv7mvRkL",
        "colab": {
          "base_uri": "https://localhost:8080/"
        },
        "outputId": "a58ddd9f-f30d-41d0-97fe-97202baeace6"
      },
      "source": [
        "# Import the libraries \n",
        "import pandas as pd\n",
        "# Create data frame\n",
        "df = pd.read_csv('C.csv')\n",
        "print(df)"
      ],
      "execution_count": null,
      "outputs": [
        {
          "output_type": "stream",
          "text": [
            "          Date       Open       High        Low      Close  Adj Close    Volume\n",
            "0    7/23/2020  51.450001  52.230000  51.130001  52.080002  50.147495  17090400\n",
            "1    7/24/2020  52.099998  52.480000  51.500000  51.669998  49.752705  16258900\n",
            "2    7/27/2020  51.459999  51.459999  50.610001  51.290001  49.386806  13991400\n",
            "3    7/28/2020  51.020000  51.660000  50.970001  51.270000  49.367554  13121400\n",
            "4    7/29/2020  51.169998  52.590000  50.990002  52.520000  50.571167  16991000\n",
            "..         ...        ...        ...        ...        ...        ...       ...\n",
            "247  7/16/2021  68.709999  68.760002  66.419998  66.900002  66.900002  19278900\n",
            "248  7/19/2021  65.459999  66.070000  64.360001  65.080002  65.080002  33318600\n",
            "249  7/20/2021  65.180000  66.779999  64.779999  66.290001  66.290001  20568400\n",
            "250  7/21/2021  67.010002  68.250000  66.930000  67.889999  67.889999  23387300\n",
            "251  7/22/2021  67.750000  67.790001  66.410004  66.930000  66.930000  15693622\n",
            "\n",
            "[252 rows x 7 columns]\n"
          ],
          "name": "stdout"
        }
      ]
    },
    {
      "cell_type": "code",
      "metadata": {
        "id": "oeMQ-mYkK8xv"
      },
      "source": [
        "# Print this to see whole data rows list\n",
        "# print(df.to_string())"
      ],
      "execution_count": null,
      "outputs": []
    },
    {
      "cell_type": "code",
      "metadata": {
        "id": "XQSEaWGoQeTr",
        "colab": {
          "base_uri": "https://localhost:8080/"
        },
        "outputId": "9ae61e7b-9715-49f0-dcc0-a5a2c2b287f3"
      },
      "source": [
        "# Standard Deviation of all data columns\n",
        "print(df.std())"
      ],
      "execution_count": null,
      "outputs": [
        {
          "output_type": "stream",
          "text": [
            "Open         1.139170e+01\n",
            "High         1.142904e+01\n",
            "Low          1.127709e+01\n",
            "Close        1.139588e+01\n",
            "Adj Close    1.180418e+01\n",
            "Volume       8.495986e+06\n",
            "dtype: float64\n"
          ],
          "name": "stdout"
        }
      ]
    },
    {
      "cell_type": "code",
      "metadata": {
        "colab": {
          "base_uri": "https://localhost:8080/"
        },
        "id": "Fjeg8Fc6Qk83",
        "outputId": "dccbf82c-4f4a-4376-babe-e967aba02ba5"
      },
      "source": [
        "# Standard Deviation for 'Close' column, using Pandas\n",
        "print(df['Close'].std())"
      ],
      "execution_count": null,
      "outputs": [
        {
          "output_type": "stream",
          "text": [
            "11.395878752517547\n"
          ],
          "name": "stdout"
        }
      ]
    },
    {
      "cell_type": "code",
      "metadata": {
        "colab": {
          "base_uri": "https://localhost:8080/"
        },
        "id": "0Yb8JPrzMDg0",
        "outputId": "a1d7f04f-708a-4b6d-9a72-41b9c147370d"
      },
      "source": [
        "# Standard Deviation for 'Close' column, using Numpy\n",
        "print(df.std()['Close'])"
      ],
      "execution_count": null,
      "outputs": [
        {
          "output_type": "stream",
          "text": [
            "11.395878752517547\n"
          ],
          "name": "stdout"
        }
      ]
    },
    {
      "cell_type": "code",
      "metadata": {
        "colab": {
          "base_uri": "https://localhost:8080/"
        },
        "id": "tFs5lR5ETpEr",
        "outputId": "e0157a64-0288-479d-c48c-0c87ce518980"
      },
      "source": [
        "print(df['Close'].mean())"
      ],
      "execution_count": null,
      "outputs": [
        {
          "output_type": "stream",
          "text": [
            "61.228293734127014\n"
          ],
          "name": "stdout"
        }
      ]
    },
    {
      "cell_type": "code",
      "metadata": {
        "id": "R5l3UgIpVbkg",
        "colab": {
          "base_uri": "https://localhost:8080/"
        },
        "outputId": "4b9a3f91-7753-498d-fac8-ad198fb80627"
      },
      "source": [
        "# Create a generic dataframe to allow fit variable stock\n",
        "import pandas as pd\n",
        "\n",
        "def get_dataframe_from_csv(filename):\n",
        "    df = pd.read_csv(filename)\n",
        "    return df\n",
        "\n",
        "stock = 'C'\n",
        "df = get_dataframe_from_csv('{}.csv'.format(stock))\n",
        "print(\"Stock: {} - Mean: {} - Standard Deviation: {}\".format(stock, df['Close'].mean(), df['Close'].std()))"
      ],
      "execution_count": null,
      "outputs": [
        {
          "output_type": "stream",
          "text": [
            "Stock: C - Mean: 61.228293734127014 - Standard Deviation: 11.395878752517547\n"
          ],
          "name": "stdout"
        }
      ]
    },
    {
      "cell_type": "code",
      "metadata": {
        "colab": {
          "base_uri": "https://localhost:8080/"
        },
        "id": "JtbnHPXsqoVN",
        "outputId": "3ee83bc9-8ddd-4b63-e29d-3f3142a5e8c8"
      },
      "source": [
        "# Create a tuple of Mean and Std Deviation, for computation of multiple stocks\n",
        "import pandas as pd\n",
        "\n",
        "def get_dataframe_from_csv(filename):\n",
        "    df = pd.read_csv(filename)\n",
        "    return df\n",
        "\n",
        "def get_stats(stock):\n",
        "    df = get_dataframe_from_csv('{}.csv'.format(stock))\n",
        "    return df['Close'].mean(), df['Close'].std()\n",
        "\n",
        "stocks = [\"C\", \"BA\", \"JPM\"]\n",
        "for stock in stocks:\n",
        "    stats = get_stats(stock)\n",
        "    print(\"Stock: {} - Mean: {} - Standard Deviation: {}\".format(stock, stats[0], stats[1]))"
      ],
      "execution_count": null,
      "outputs": [
        {
          "output_type": "stream",
          "text": [
            "Stock: C - Mean: 61.228293734127014 - Standard Deviation: 11.395878752517547\n",
            "Stock: BA - Mean: 209.2396429166667 - Standard Deviation: 33.15121862114065\n",
            "Stock: JPM - Mean: 130.82944416269845 - Standard Deviation: 24.36054745236629\n"
          ],
          "name": "stdout"
        }
      ]
    },
    {
      "cell_type": "code",
      "metadata": {
        "colab": {
          "base_uri": "https://localhost:8080/"
        },
        "id": "bNeTWsF3qoVP",
        "outputId": "bb75019c-0bef-4c2a-a512-dd1f1592831f"
      },
      "source": [
        "# Create Covariance and add to print tuple\n",
        "import pandas as pd\n",
        "\n",
        "def get_dataframe_from_csv(filename):\n",
        "    df = pd.read_csv(filename)\n",
        "    return df\n",
        "\n",
        "def get_stats(stock):\n",
        "    df = get_dataframe_from_csv('{}.csv'.format(stock))\n",
        "    mean = df['Close'].mean()\n",
        "    std = df['Close'].std()\n",
        "    cov = std / mean\n",
        "    return mean, std, cov\n",
        "\n",
        "stocks = [\"C\", \"BA\", \"JPM\"]\n",
        "for stock in stocks:\n",
        "    stats = get_stats(stock)\n",
        "    print(\"Stock: {} - Mean: {} - Standard Deviation: {} - Coefficient of Variation: {}\".format(stock, stats[0], stats[1], stats[2]))"
      ],
      "execution_count": null,
      "outputs": [
        {
          "output_type": "stream",
          "text": [
            "Stock: C - Mean: 61.228293734127014 - Standard Deviation: 11.395878752517547 - Coefficient of Variation: 0.18612112240138726\n",
            "Stock: BA - Mean: 209.2396429166667 - Standard Deviation: 33.15121862114065 - Coefficient of Variation: 0.15843660483756272\n",
            "Stock: JPM - Mean: 130.82944416269845 - Standard Deviation: 24.36054745236629 - Coefficient of Variation: 0.18620080218388538\n"
          ],
          "name": "stdout"
        }
      ]
    },
    {
      "cell_type": "code",
      "metadata": {
        "id": "gHTgDFooqoVR"
      },
      "source": [
        "# Standard Deviation comparison with pandas and numpy\n",
        "stock = \"BA\"\n",
        "df = get_dataframe_from_csv('{}.csv'.format(stock))"
      ],
      "execution_count": null,
      "outputs": []
    },
    {
      "cell_type": "code",
      "metadata": {
        "colab": {
          "base_uri": "https://localhost:8080/"
        },
        "id": "C_miNIsNqoVS",
        "outputId": "090d2261-63f7-4f2a-9aa5-e226d19fffaa"
      },
      "source": [
        "# SD with pandas\n",
        "print(df['Close'].std())"
      ],
      "execution_count": null,
      "outputs": [
        {
          "output_type": "stream",
          "text": [
            "33.15121862114065\n"
          ],
          "name": "stdout"
        }
      ]
    },
    {
      "cell_type": "code",
      "metadata": {
        "colab": {
          "base_uri": "https://localhost:8080/"
        },
        "id": "j54FcJMGqoVT",
        "outputId": "81cee19f-92c0-4687-fead-abfad98f8308"
      },
      "source": [
        "# SD with numpy, without ddof correction\n",
        "import numpy as np\n",
        "print(np.std(df['Close']))"
      ],
      "execution_count": null,
      "outputs": [
        {
          "output_type": "stream",
          "text": [
            "33.085377009729264\n"
          ],
          "name": "stdout"
        }
      ]
    },
    {
      "cell_type": "code",
      "metadata": {
        "colab": {
          "base_uri": "https://localhost:8080/"
        },
        "id": "onZFyLC3qoVU",
        "outputId": "4ace952c-02d1-440a-a05f-9ad398c923b7"
      },
      "source": [
        "# SD with numpy, with correction of parameter\n",
        "import numpy as np\n",
        "print(np.std(df['Close'], ddof=1))"
      ],
      "execution_count": null,
      "outputs": [
        {
          "output_type": "stream",
          "text": [
            "33.15121862114065\n"
          ],
          "name": "stdout"
        }
      ]
    },
    {
      "cell_type": "code",
      "metadata": {
        "colab": {
          "base_uri": "https://localhost:8080/",
          "height": 281
        },
        "id": "Q4yBb_dCqoVU",
        "outputId": "8552170f-3a78-4d52-e872-474749ec651a"
      },
      "source": [
        "import matplotlib.pyplot as plt\n",
        "\n",
        "data = df['Close']\n",
        "mean = df['Close'].mean()\n",
        "std = df['Close'].std()\n",
        "min_value = min(data)\n",
        "max_value = max(data)\n",
        "\n",
        "plt.title(\"BA Dataset\")\n",
        "plt.ylim(min_value - 100, max_value + 100)\n",
        "plt.scatter(x=df.index, y=df['Close'])\n",
        "plt.hlines(y=mean, xmin=0, xmax=len(data))\n",
        "plt.show()"
      ],
      "execution_count": null,
      "outputs": [
        {
          "output_type": "display_data",
          "data": {
            "image/png": "[encoded data removed]",
            "text/plain": [
              "<Figure size 432x288 with 1 Axes>"
            ]
          },
          "metadata": {
            "tags": [],
            "needs_background": "light"
          }
        }
      ]
    },
    {
      "cell_type": "markdown",
      "metadata": {
        "id": "xRw-bZHmtvB-"
      },
      "source": [
        "Example of distribution of the mean"
      ]
    },
    {
      "cell_type": "code",
      "metadata": {
        "id": "Oj6jqzeRqoVX"
      },
      "source": [
        "# Python Tutorial in Jupyter \n",
        "# https://www.youtube.com/watch?v=-MJ_kOlYmRk&t=311s"
      ],
      "execution_count": null,
      "outputs": []
    }
  ]
}