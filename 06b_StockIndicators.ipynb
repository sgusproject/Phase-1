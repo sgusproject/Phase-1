{
  "nbformat": 4,
  "nbformat_minor": 0,
  "metadata": {
    "colab": {
      "name": "6 StockIndicators.ipynb",
      "provenance": [],
      "collapsed_sections": [],
      "mount_file_id": "1AGp3fGK6xhFnxLG-FX9eX721dMxTBFBh",
      "authorship_tag": "ABX9TyNFcfqnuYeodwktTw2SB00l",
      "include_colab_link": true
    },
    "kernelspec": {
      "name": "python3",
      "display_name": "Python 3"
    },
    "language_info": {
      "name": "python"
    }
  },
  "cells": [
    {
      "cell_type": "markdown",
      "metadata": {
        "id": "view-in-github",
        "colab_type": "text"
      },
      "source": [
        "<a href=\"https://colab.research.google.com/github/sgusproject/PythonDataframe-Learn/blob/main/6_StockIndicators.ipynb\" target=\"_parent\"><img src=\"https://colab.research.google.com/assets/colab-badge.svg\" alt=\"Open In Colab\"/></a>"
      ]
    },
    {
      "cell_type": "markdown",
      "metadata": {
        "id": "RqyX1b8IBSPJ"
      },
      "source": [
        "# CALCULATE STOCK INDICATORS\n",
        "<li>Pct change</li>\n",
        "<li>Log returns</li>\n",
        "<li>Standard Deviation (Volatility)</li>\n",
        "<li>Rolling</li>\n",
        "    <li>Simple Moving Average</li>\n",
        "    <li>Exponential Moving Average</li>\n"
      ]
    },
    {
      "cell_type": "code",
      "metadata": {
        "id": "2eHB_OtmBMP3"
      },
      "source": [
        "import pandas as pd\n",
        "import matplotlib.pyplot as plt\n",
        "%matplotlib notebook"
      ],
      "execution_count": 1,
      "outputs": []
    },
    {
      "cell_type": "code",
      "metadata": {
        "id": "sPAelpXRBdyD"
      },
      "source": [
        "# using Boeing data\n",
        "data = pd.read_csv(\"BA.csv\", index_col=0, parse_dates=True)"
      ],
      "execution_count": 2,
      "outputs": []
    },
    {
      "cell_type": "code",
      "metadata": {
        "colab": {
          "base_uri": "https://localhost:8080/",
          "height": 234
        },
        "id": "7KOoSyQrBd1d",
        "outputId": "dfdc0914-078b-49b7-bb76-394c95d20a79"
      },
      "source": [
        "data.head()"
      ],
      "execution_count": 3,
      "outputs": [
        {
          "output_type": "execute_result",
          "data": {
            "text/html": [
              "<div>\n",
              "<style scoped>\n",
              "    .dataframe tbody tr th:only-of-type {\n",
              "        vertical-align: middle;\n",
              "    }\n",
              "\n",
              "    .dataframe tbody tr th {\n",
              "        vertical-align: top;\n",
              "    }\n",
              "\n",
              "    .dataframe thead th {\n",
              "        text-align: right;\n",
              "    }\n",
              "</style>\n",
              "<table border=\"1\" class=\"dataframe\">\n",
              "  <thead>\n",
              "    <tr style=\"text-align: right;\">\n",
              "      <th></th>\n",
              "      <th>Open</th>\n",
              "      <th>High</th>\n",
              "      <th>Low</th>\n",
              "      <th>Close</th>\n",
              "      <th>Adj Close</th>\n",
              "      <th>Volume</th>\n",
              "    </tr>\n",
              "    <tr>\n",
              "      <th>Date</th>\n",
              "      <th></th>\n",
              "      <th></th>\n",
              "      <th></th>\n",
              "      <th></th>\n",
              "      <th></th>\n",
              "      <th></th>\n",
              "    </tr>\n",
              "  </thead>\n",
              "  <tbody>\n",
              "    <tr>\n",
              "      <th>2020-07-23</th>\n",
              "      <td>178.000000</td>\n",
              "      <td>182.500000</td>\n",
              "      <td>175.419998</td>\n",
              "      <td>176.449997</td>\n",
              "      <td>176.449997</td>\n",
              "      <td>29587200</td>\n",
              "    </tr>\n",
              "    <tr>\n",
              "      <th>2020-07-24</th>\n",
              "      <td>175.679993</td>\n",
              "      <td>181.100006</td>\n",
              "      <td>173.600006</td>\n",
              "      <td>173.759995</td>\n",
              "      <td>173.759995</td>\n",
              "      <td>28548000</td>\n",
              "    </tr>\n",
              "    <tr>\n",
              "      <th>2020-07-27</th>\n",
              "      <td>173.190002</td>\n",
              "      <td>174.139999</td>\n",
              "      <td>169.000000</td>\n",
              "      <td>170.210007</td>\n",
              "      <td>170.210007</td>\n",
              "      <td>30243800</td>\n",
              "    </tr>\n",
              "    <tr>\n",
              "      <th>2020-07-28</th>\n",
              "      <td>168.500000</td>\n",
              "      <td>173.740005</td>\n",
              "      <td>168.229996</td>\n",
              "      <td>170.839996</td>\n",
              "      <td>170.839996</td>\n",
              "      <td>25349100</td>\n",
              "    </tr>\n",
              "    <tr>\n",
              "      <th>2020-07-29</th>\n",
              "      <td>172.899994</td>\n",
              "      <td>173.009995</td>\n",
              "      <td>162.250000</td>\n",
              "      <td>166.009995</td>\n",
              "      <td>166.009995</td>\n",
              "      <td>51709600</td>\n",
              "    </tr>\n",
              "  </tbody>\n",
              "</table>\n",
              "</div>"
            ],
            "text/plain": [
              "                  Open        High  ...   Adj Close    Volume\n",
              "Date                                ...                      \n",
              "2020-07-23  178.000000  182.500000  ...  176.449997  29587200\n",
              "2020-07-24  175.679993  181.100006  ...  173.759995  28548000\n",
              "2020-07-27  173.190002  174.139999  ...  170.210007  30243800\n",
              "2020-07-28  168.500000  173.740005  ...  170.839996  25349100\n",
              "2020-07-29  172.899994  173.009995  ...  166.009995  51709600\n",
              "\n",
              "[5 rows x 6 columns]"
            ]
          },
          "metadata": {
            "tags": []
          },
          "execution_count": 3
        }
      ]
    },
    {
      "cell_type": "code",
      "metadata": {
        "id": "ysikUa-bBd5d"
      },
      "source": [
        "# Pct change calculation\n",
        "data['%-chg'] = data['Close'].pct_change()"
      ],
      "execution_count": 4,
      "outputs": []
    },
    {
      "cell_type": "code",
      "metadata": {
        "colab": {
          "base_uri": "https://localhost:8080/",
          "height": 234
        },
        "id": "PNA7kEuRBd9m",
        "outputId": "62d5f89f-3c8f-4da0-93e5-0582dcd00513"
      },
      "source": [
        "data.head()"
      ],
      "execution_count": 5,
      "outputs": [
        {
          "output_type": "execute_result",
          "data": {
            "text/html": [
              "<div>\n",
              "<style scoped>\n",
              "    .dataframe tbody tr th:only-of-type {\n",
              "        vertical-align: middle;\n",
              "    }\n",
              "\n",
              "    .dataframe tbody tr th {\n",
              "        vertical-align: top;\n",
              "    }\n",
              "\n",
              "    .dataframe thead th {\n",
              "        text-align: right;\n",
              "    }\n",
              "</style>\n",
              "<table border=\"1\" class=\"dataframe\">\n",
              "  <thead>\n",
              "    <tr style=\"text-align: right;\">\n",
              "      <th></th>\n",
              "      <th>Open</th>\n",
              "      <th>High</th>\n",
              "      <th>Low</th>\n",
              "      <th>Close</th>\n",
              "      <th>Adj Close</th>\n",
              "      <th>Volume</th>\n",
              "      <th>%-chg</th>\n",
              "    </tr>\n",
              "    <tr>\n",
              "      <th>Date</th>\n",
              "      <th></th>\n",
              "      <th></th>\n",
              "      <th></th>\n",
              "      <th></th>\n",
              "      <th></th>\n",
              "      <th></th>\n",
              "      <th></th>\n",
              "    </tr>\n",
              "  </thead>\n",
              "  <tbody>\n",
              "    <tr>\n",
              "      <th>2020-07-23</th>\n",
              "      <td>178.000000</td>\n",
              "      <td>182.500000</td>\n",
              "      <td>175.419998</td>\n",
              "      <td>176.449997</td>\n",
              "      <td>176.449997</td>\n",
              "      <td>29587200</td>\n",
              "      <td>NaN</td>\n",
              "    </tr>\n",
              "    <tr>\n",
              "      <th>2020-07-24</th>\n",
              "      <td>175.679993</td>\n",
              "      <td>181.100006</td>\n",
              "      <td>173.600006</td>\n",
              "      <td>173.759995</td>\n",
              "      <td>173.759995</td>\n",
              "      <td>28548000</td>\n",
              "      <td>-0.015245</td>\n",
              "    </tr>\n",
              "    <tr>\n",
              "      <th>2020-07-27</th>\n",
              "      <td>173.190002</td>\n",
              "      <td>174.139999</td>\n",
              "      <td>169.000000</td>\n",
              "      <td>170.210007</td>\n",
              "      <td>170.210007</td>\n",
              "      <td>30243800</td>\n",
              "      <td>-0.020430</td>\n",
              "    </tr>\n",
              "    <tr>\n",
              "      <th>2020-07-28</th>\n",
              "      <td>168.500000</td>\n",
              "      <td>173.740005</td>\n",
              "      <td>168.229996</td>\n",
              "      <td>170.839996</td>\n",
              "      <td>170.839996</td>\n",
              "      <td>25349100</td>\n",
              "      <td>0.003701</td>\n",
              "    </tr>\n",
              "    <tr>\n",
              "      <th>2020-07-29</th>\n",
              "      <td>172.899994</td>\n",
              "      <td>173.009995</td>\n",
              "      <td>162.250000</td>\n",
              "      <td>166.009995</td>\n",
              "      <td>166.009995</td>\n",
              "      <td>51709600</td>\n",
              "      <td>-0.028272</td>\n",
              "    </tr>\n",
              "  </tbody>\n",
              "</table>\n",
              "</div>"
            ],
            "text/plain": [
              "                  Open        High         Low  ...   Adj Close    Volume     %-chg\n",
              "Date                                            ...                                \n",
              "2020-07-23  178.000000  182.500000  175.419998  ...  176.449997  29587200       NaN\n",
              "2020-07-24  175.679993  181.100006  173.600006  ...  173.759995  28548000 -0.015245\n",
              "2020-07-27  173.190002  174.139999  169.000000  ...  170.210007  30243800 -0.020430\n",
              "2020-07-28  168.500000  173.740005  168.229996  ...  170.839996  25349100  0.003701\n",
              "2020-07-29  172.899994  173.009995  162.250000  ...  166.009995  51709600 -0.028272\n",
              "\n",
              "[5 rows x 7 columns]"
            ]
          },
          "metadata": {
            "tags": []
          },
          "execution_count": 5
        }
      ]
    },
    {
      "cell_type": "code",
      "metadata": {
        "id": "bQjtMJF1BeBK"
      },
      "source": [
        "import numpy as np"
      ],
      "execution_count": 6,
      "outputs": []
    },
    {
      "cell_type": "code",
      "metadata": {
        "id": "kJo_mkI3BeEv"
      },
      "source": [
        "#  Log returns calculation\n",
        "data['Log returns'] = np.log(data['Close']/data['Close'].shift())"
      ],
      "execution_count": 7,
      "outputs": []
    },
    {
      "cell_type": "code",
      "metadata": {
        "colab": {
          "base_uri": "https://localhost:8080/",
          "height": 354
        },
        "id": "VgvhkigUCEjt",
        "outputId": "92f1ed0c-2b1f-424e-d82e-265e5bb9935a"
      },
      "source": [
        "data.head()"
      ],
      "execution_count": 8,
      "outputs": [
        {
          "output_type": "execute_result",
          "data": {
            "text/html": [
              "<div>\n",
              "<style scoped>\n",
              "    .dataframe tbody tr th:only-of-type {\n",
              "        vertical-align: middle;\n",
              "    }\n",
              "\n",
              "    .dataframe tbody tr th {\n",
              "        vertical-align: top;\n",
              "    }\n",
              "\n",
              "    .dataframe thead th {\n",
              "        text-align: right;\n",
              "    }\n",
              "</style>\n",
              "<table border=\"1\" class=\"dataframe\">\n",
              "  <thead>\n",
              "    <tr style=\"text-align: right;\">\n",
              "      <th></th>\n",
              "      <th>Open</th>\n",
              "      <th>High</th>\n",
              "      <th>Low</th>\n",
              "      <th>Close</th>\n",
              "      <th>Adj Close</th>\n",
              "      <th>Volume</th>\n",
              "      <th>%-chg</th>\n",
              "      <th>Log returns</th>\n",
              "    </tr>\n",
              "    <tr>\n",
              "      <th>Date</th>\n",
              "      <th></th>\n",
              "      <th></th>\n",
              "      <th></th>\n",
              "      <th></th>\n",
              "      <th></th>\n",
              "      <th></th>\n",
              "      <th></th>\n",
              "      <th></th>\n",
              "    </tr>\n",
              "  </thead>\n",
              "  <tbody>\n",
              "    <tr>\n",
              "      <th>2020-07-23</th>\n",
              "      <td>178.000000</td>\n",
              "      <td>182.500000</td>\n",
              "      <td>175.419998</td>\n",
              "      <td>176.449997</td>\n",
              "      <td>176.449997</td>\n",
              "      <td>29587200</td>\n",
              "      <td>NaN</td>\n",
              "      <td>NaN</td>\n",
              "    </tr>\n",
              "    <tr>\n",
              "      <th>2020-07-24</th>\n",
              "      <td>175.679993</td>\n",
              "      <td>181.100006</td>\n",
              "      <td>173.600006</td>\n",
              "      <td>173.759995</td>\n",
              "      <td>173.759995</td>\n",
              "      <td>28548000</td>\n",
              "      <td>-0.015245</td>\n",
              "      <td>-0.015363</td>\n",
              "    </tr>\n",
              "    <tr>\n",
              "      <th>2020-07-27</th>\n",
              "      <td>173.190002</td>\n",
              "      <td>174.139999</td>\n",
              "      <td>169.000000</td>\n",
              "      <td>170.210007</td>\n",
              "      <td>170.210007</td>\n",
              "      <td>30243800</td>\n",
              "      <td>-0.020430</td>\n",
              "      <td>-0.020642</td>\n",
              "    </tr>\n",
              "    <tr>\n",
              "      <th>2020-07-28</th>\n",
              "      <td>168.500000</td>\n",
              "      <td>173.740005</td>\n",
              "      <td>168.229996</td>\n",
              "      <td>170.839996</td>\n",
              "      <td>170.839996</td>\n",
              "      <td>25349100</td>\n",
              "      <td>0.003701</td>\n",
              "      <td>0.003694</td>\n",
              "    </tr>\n",
              "    <tr>\n",
              "      <th>2020-07-29</th>\n",
              "      <td>172.899994</td>\n",
              "      <td>173.009995</td>\n",
              "      <td>162.250000</td>\n",
              "      <td>166.009995</td>\n",
              "      <td>166.009995</td>\n",
              "      <td>51709600</td>\n",
              "      <td>-0.028272</td>\n",
              "      <td>-0.028679</td>\n",
              "    </tr>\n",
              "  </tbody>\n",
              "</table>\n",
              "</div>"
            ],
            "text/plain": [
              "                  Open        High         Low  ...    Volume     %-chg  Log returns\n",
              "Date                                            ...                                 \n",
              "2020-07-23  178.000000  182.500000  175.419998  ...  29587200       NaN          NaN\n",
              "2020-07-24  175.679993  181.100006  173.600006  ...  28548000 -0.015245    -0.015363\n",
              "2020-07-27  173.190002  174.139999  169.000000  ...  30243800 -0.020430    -0.020642\n",
              "2020-07-28  168.500000  173.740005  168.229996  ...  25349100  0.003701     0.003694\n",
              "2020-07-29  172.899994  173.009995  162.250000  ...  51709600 -0.028272    -0.028679\n",
              "\n",
              "[5 rows x 8 columns]"
            ]
          },
          "metadata": {
            "tags": []
          },
          "execution_count": 8
        }
      ]
    },
    {
      "cell_type": "code",
      "metadata": {
        "colab": {
          "base_uri": "https://localhost:8080/"
        },
        "id": "BhKy_9ZCCEnN",
        "outputId": "c08a77e2-7a88-493b-855d-03e609cae2b8"
      },
      "source": [
        "data['Log returns'].std()"
      ],
      "execution_count": 9,
      "outputs": [
        {
          "output_type": "execute_result",
          "data": {
            "text/plain": [
              "0.027016475176248302"
            ]
          },
          "metadata": {
            "tags": []
          },
          "execution_count": 9
        }
      ]
    },
    {
      "cell_type": "code",
      "metadata": {
        "id": "bBoVnUO6CEq-"
      },
      "source": [
        "# Volatility by Log returns\n",
        "volatility = data['Log returns'].std()*252**.5"
      ],
      "execution_count": 10,
      "outputs": []
    },
    {
      "cell_type": "code",
      "metadata": {
        "colab": {
          "base_uri": "https://localhost:8080/"
        },
        "id": "0og4X6BHCEuu",
        "outputId": "694cfcb1-a1f1-411b-d4b4-d600eee00b26"
      },
      "source": [
        "volatility"
      ],
      "execution_count": 11,
      "outputs": [
        {
          "output_type": "execute_result",
          "data": {
            "text/plain": [
              "0.42887324770741747"
            ]
          },
          "metadata": {
            "tags": []
          },
          "execution_count": 11
        }
      ]
    },
    {
      "cell_type": "code",
      "metadata": {
        "id": "bFlF2CTwCEyq"
      },
      "source": [
        "str_vol = str(round(volatility, 4)*100)"
      ],
      "execution_count": 12,
      "outputs": []
    },
    {
      "cell_type": "code",
      "metadata": {
        "colab": {
          "base_uri": "https://localhost:8080/",
          "height": 35
        },
        "id": "WwfGNu5tCE2e",
        "outputId": "5f786011-169b-4510-e96a-a59cfdc00e4a"
      },
      "source": [
        "str_vol"
      ],
      "execution_count": 13,
      "outputs": [
        {
          "output_type": "execute_result",
          "data": {
            "application/vnd.google.colaboratory.intrinsic+json": {
              "type": "string"
            },
            "text/plain": [
              "'42.89'"
            ]
          },
          "metadata": {
            "tags": []
          },
          "execution_count": 13
        }
      ]
    },
    {
      "cell_type": "code",
      "metadata": {
        "colab": {
          "base_uri": "https://localhost:8080/",
          "height": 312
        },
        "id": "taVuuwMUCE62",
        "outputId": "eb4d8a2c-8c3e-4b30-dbf9-7d0f46146222"
      },
      "source": [
        "fig, ax = plt.subplots()\n",
        "data['Log returns'].hist(ax=ax, bins=50, alpha=0.6, color='b')\n",
        "ax.set_xlabel(\"Log return\")\n",
        "ax.set_ylabel(\"Freq of log return\")\n",
        "ax.set_title(\"BA volatility: \" + str_vol + \"%\")"
      ],
      "execution_count": 14,
      "outputs": [
        {
          "output_type": "execute_result",
          "data": {
            "text/plain": [
              "Text(0.5, 1.0, 'BA volatility: 42.89%')"
            ]
          },
          "metadata": {
            "tags": []
          },
          "execution_count": 14
        },
        {
          "output_type": "display_data",
          "data": {
            "image/png": "[encoded data removed]",
            "text/plain": [
              "<Figure size 432x288 with 1 Axes>"
            ]
          },
          "metadata": {
            "tags": [],
            "needs_background": "light"
          }
        }
      ]
    },
    {
      "cell_type": "code",
      "metadata": {
        "colab": {
          "base_uri": "https://localhost:8080/",
          "height": 354
        },
        "id": "ZwKQny2hCXqm",
        "outputId": "92a9cccc-0c2f-4907-de07-5387cef95666"
      },
      "source": [
        "data.head()"
      ],
      "execution_count": 15,
      "outputs": [
        {
          "output_type": "execute_result",
          "data": {
            "text/html": [
              "<div>\n",
              "<style scoped>\n",
              "    .dataframe tbody tr th:only-of-type {\n",
              "        vertical-align: middle;\n",
              "    }\n",
              "\n",
              "    .dataframe tbody tr th {\n",
              "        vertical-align: top;\n",
              "    }\n",
              "\n",
              "    .dataframe thead th {\n",
              "        text-align: right;\n",
              "    }\n",
              "</style>\n",
              "<table border=\"1\" class=\"dataframe\">\n",
              "  <thead>\n",
              "    <tr style=\"text-align: right;\">\n",
              "      <th></th>\n",
              "      <th>Open</th>\n",
              "      <th>High</th>\n",
              "      <th>Low</th>\n",
              "      <th>Close</th>\n",
              "      <th>Adj Close</th>\n",
              "      <th>Volume</th>\n",
              "      <th>%-chg</th>\n",
              "      <th>Log returns</th>\n",
              "    </tr>\n",
              "    <tr>\n",
              "      <th>Date</th>\n",
              "      <th></th>\n",
              "      <th></th>\n",
              "      <th></th>\n",
              "      <th></th>\n",
              "      <th></th>\n",
              "      <th></th>\n",
              "      <th></th>\n",
              "      <th></th>\n",
              "    </tr>\n",
              "  </thead>\n",
              "  <tbody>\n",
              "    <tr>\n",
              "      <th>2020-07-23</th>\n",
              "      <td>178.000000</td>\n",
              "      <td>182.500000</td>\n",
              "      <td>175.419998</td>\n",
              "      <td>176.449997</td>\n",
              "      <td>176.449997</td>\n",
              "      <td>29587200</td>\n",
              "      <td>NaN</td>\n",
              "      <td>NaN</td>\n",
              "    </tr>\n",
              "    <tr>\n",
              "      <th>2020-07-24</th>\n",
              "      <td>175.679993</td>\n",
              "      <td>181.100006</td>\n",
              "      <td>173.600006</td>\n",
              "      <td>173.759995</td>\n",
              "      <td>173.759995</td>\n",
              "      <td>28548000</td>\n",
              "      <td>-0.015245</td>\n",
              "      <td>-0.015363</td>\n",
              "    </tr>\n",
              "    <tr>\n",
              "      <th>2020-07-27</th>\n",
              "      <td>173.190002</td>\n",
              "      <td>174.139999</td>\n",
              "      <td>169.000000</td>\n",
              "      <td>170.210007</td>\n",
              "      <td>170.210007</td>\n",
              "      <td>30243800</td>\n",
              "      <td>-0.020430</td>\n",
              "      <td>-0.020642</td>\n",
              "    </tr>\n",
              "    <tr>\n",
              "      <th>2020-07-28</th>\n",
              "      <td>168.500000</td>\n",
              "      <td>173.740005</td>\n",
              "      <td>168.229996</td>\n",
              "      <td>170.839996</td>\n",
              "      <td>170.839996</td>\n",
              "      <td>25349100</td>\n",
              "      <td>0.003701</td>\n",
              "      <td>0.003694</td>\n",
              "    </tr>\n",
              "    <tr>\n",
              "      <th>2020-07-29</th>\n",
              "      <td>172.899994</td>\n",
              "      <td>173.009995</td>\n",
              "      <td>162.250000</td>\n",
              "      <td>166.009995</td>\n",
              "      <td>166.009995</td>\n",
              "      <td>51709600</td>\n",
              "      <td>-0.028272</td>\n",
              "      <td>-0.028679</td>\n",
              "    </tr>\n",
              "  </tbody>\n",
              "</table>\n",
              "</div>"
            ],
            "text/plain": [
              "                  Open        High         Low  ...    Volume     %-chg  Log returns\n",
              "Date                                            ...                                 \n",
              "2020-07-23  178.000000  182.500000  175.419998  ...  29587200       NaN          NaN\n",
              "2020-07-24  175.679993  181.100006  173.600006  ...  28548000 -0.015245    -0.015363\n",
              "2020-07-27  173.190002  174.139999  169.000000  ...  30243800 -0.020430    -0.020642\n",
              "2020-07-28  168.500000  173.740005  168.229996  ...  25349100  0.003701     0.003694\n",
              "2020-07-29  172.899994  173.009995  162.250000  ...  51709600 -0.028272    -0.028679\n",
              "\n",
              "[5 rows x 8 columns]"
            ]
          },
          "metadata": {
            "tags": []
          },
          "execution_count": 15
        }
      ]
    },
    {
      "cell_type": "code",
      "metadata": {
        "id": "XAwJCxQlCXuN"
      },
      "source": [
        "# Simple Moving Average 10 calculation\n",
        "data['MA10'] = data['Close'].rolling(10).mean()"
      ],
      "execution_count": 16,
      "outputs": []
    },
    {
      "cell_type": "code",
      "metadata": {
        "colab": {
          "base_uri": "https://localhost:8080/",
          "height": 354
        },
        "id": "FZx2pbpcCXyU",
        "outputId": "650a19c7-70b2-4dbb-aa45-74a959ab25ee"
      },
      "source": [
        "data.tail()"
      ],
      "execution_count": 17,
      "outputs": [
        {
          "output_type": "execute_result",
          "data": {
            "text/html": [
              "<div>\n",
              "<style scoped>\n",
              "    .dataframe tbody tr th:only-of-type {\n",
              "        vertical-align: middle;\n",
              "    }\n",
              "\n",
              "    .dataframe tbody tr th {\n",
              "        vertical-align: top;\n",
              "    }\n",
              "\n",
              "    .dataframe thead th {\n",
              "        text-align: right;\n",
              "    }\n",
              "</style>\n",
              "<table border=\"1\" class=\"dataframe\">\n",
              "  <thead>\n",
              "    <tr style=\"text-align: right;\">\n",
              "      <th></th>\n",
              "      <th>Open</th>\n",
              "      <th>High</th>\n",
              "      <th>Low</th>\n",
              "      <th>Close</th>\n",
              "      <th>Adj Close</th>\n",
              "      <th>Volume</th>\n",
              "      <th>%-chg</th>\n",
              "      <th>Log returns</th>\n",
              "      <th>MA10</th>\n",
              "    </tr>\n",
              "    <tr>\n",
              "      <th>Date</th>\n",
              "      <th></th>\n",
              "      <th></th>\n",
              "      <th></th>\n",
              "      <th></th>\n",
              "      <th></th>\n",
              "      <th></th>\n",
              "      <th></th>\n",
              "      <th></th>\n",
              "      <th></th>\n",
              "    </tr>\n",
              "  </thead>\n",
              "  <tbody>\n",
              "    <tr>\n",
              "      <th>2021-07-16</th>\n",
              "      <td>223.110001</td>\n",
              "      <td>224.000000</td>\n",
              "      <td>217.029999</td>\n",
              "      <td>217.740005</td>\n",
              "      <td>217.740005</td>\n",
              "      <td>12388900</td>\n",
              "      <td>-0.022535</td>\n",
              "      <td>-0.022793</td>\n",
              "      <td>231.239998</td>\n",
              "    </tr>\n",
              "    <tr>\n",
              "      <th>2021-07-19</th>\n",
              "      <td>211.179993</td>\n",
              "      <td>211.550003</td>\n",
              "      <td>204.800003</td>\n",
              "      <td>206.990005</td>\n",
              "      <td>206.990005</td>\n",
              "      <td>24123600</td>\n",
              "      <td>-0.049371</td>\n",
              "      <td>-0.050631</td>\n",
              "      <td>228.270999</td>\n",
              "    </tr>\n",
              "    <tr>\n",
              "      <th>2021-07-20</th>\n",
              "      <td>208.100006</td>\n",
              "      <td>217.369995</td>\n",
              "      <td>206.619995</td>\n",
              "      <td>217.149994</td>\n",
              "      <td>217.149994</td>\n",
              "      <td>17009300</td>\n",
              "      <td>0.049084</td>\n",
              "      <td>0.047918</td>\n",
              "      <td>226.371999</td>\n",
              "    </tr>\n",
              "    <tr>\n",
              "      <th>2021-07-21</th>\n",
              "      <td>219.500000</td>\n",
              "      <td>224.089996</td>\n",
              "      <td>218.899994</td>\n",
              "      <td>222.539993</td>\n",
              "      <td>222.539993</td>\n",
              "      <td>11421000</td>\n",
              "      <td>0.024822</td>\n",
              "      <td>0.024518</td>\n",
              "      <td>225.447998</td>\n",
              "    </tr>\n",
              "    <tr>\n",
              "      <th>2021-07-22</th>\n",
              "      <td>221.520004</td>\n",
              "      <td>222.250000</td>\n",
              "      <td>218.309998</td>\n",
              "      <td>220.869995</td>\n",
              "      <td>220.869995</td>\n",
              "      <td>9754300</td>\n",
              "      <td>-0.007504</td>\n",
              "      <td>-0.007533</td>\n",
              "      <td>223.857997</td>\n",
              "    </tr>\n",
              "  </tbody>\n",
              "</table>\n",
              "</div>"
            ],
            "text/plain": [
              "                  Open        High  ...  Log returns        MA10\n",
              "Date                                ...                         \n",
              "2021-07-16  223.110001  224.000000  ...    -0.022793  231.239998\n",
              "2021-07-19  211.179993  211.550003  ...    -0.050631  228.270999\n",
              "2021-07-20  208.100006  217.369995  ...     0.047918  226.371999\n",
              "2021-07-21  219.500000  224.089996  ...     0.024518  225.447998\n",
              "2021-07-22  221.520004  222.250000  ...    -0.007533  223.857997\n",
              "\n",
              "[5 rows x 9 columns]"
            ]
          },
          "metadata": {
            "tags": []
          },
          "execution_count": 17
        }
      ]
    },
    {
      "cell_type": "code",
      "metadata": {
        "id": "HsY0k04nCX2U"
      },
      "source": [
        "# Simple Moving Average 50 calculation\n",
        "data['MA200'] = data['Close'].rolling(200).mean()"
      ],
      "execution_count": 18,
      "outputs": []
    },
    {
      "cell_type": "code",
      "metadata": {
        "colab": {
          "base_uri": "https://localhost:8080/",
          "height": 354
        },
        "id": "1GWKSYYbCE-j",
        "outputId": "f381fc12-2da4-404c-8605-235a8feaf4f3"
      },
      "source": [
        "data.tail()"
      ],
      "execution_count": 19,
      "outputs": [
        {
          "output_type": "execute_result",
          "data": {
            "text/html": [
              "<div>\n",
              "<style scoped>\n",
              "    .dataframe tbody tr th:only-of-type {\n",
              "        vertical-align: middle;\n",
              "    }\n",
              "\n",
              "    .dataframe tbody tr th {\n",
              "        vertical-align: top;\n",
              "    }\n",
              "\n",
              "    .dataframe thead th {\n",
              "        text-align: right;\n",
              "    }\n",
              "</style>\n",
              "<table border=\"1\" class=\"dataframe\">\n",
              "  <thead>\n",
              "    <tr style=\"text-align: right;\">\n",
              "      <th></th>\n",
              "      <th>Open</th>\n",
              "      <th>High</th>\n",
              "      <th>Low</th>\n",
              "      <th>Close</th>\n",
              "      <th>Adj Close</th>\n",
              "      <th>Volume</th>\n",
              "      <th>%-chg</th>\n",
              "      <th>Log returns</th>\n",
              "      <th>MA10</th>\n",
              "      <th>MA200</th>\n",
              "    </tr>\n",
              "    <tr>\n",
              "      <th>Date</th>\n",
              "      <th></th>\n",
              "      <th></th>\n",
              "      <th></th>\n",
              "      <th></th>\n",
              "      <th></th>\n",
              "      <th></th>\n",
              "      <th></th>\n",
              "      <th></th>\n",
              "      <th></th>\n",
              "      <th></th>\n",
              "    </tr>\n",
              "  </thead>\n",
              "  <tbody>\n",
              "    <tr>\n",
              "      <th>2021-07-16</th>\n",
              "      <td>223.110001</td>\n",
              "      <td>224.000000</td>\n",
              "      <td>217.029999</td>\n",
              "      <td>217.740005</td>\n",
              "      <td>217.740005</td>\n",
              "      <td>12388900</td>\n",
              "      <td>-0.022535</td>\n",
              "      <td>-0.022793</td>\n",
              "      <td>231.239998</td>\n",
              "      <td>219.04570</td>\n",
              "    </tr>\n",
              "    <tr>\n",
              "      <th>2021-07-19</th>\n",
              "      <td>211.179993</td>\n",
              "      <td>211.550003</td>\n",
              "      <td>204.800003</td>\n",
              "      <td>206.990005</td>\n",
              "      <td>206.990005</td>\n",
              "      <td>24123600</td>\n",
              "      <td>-0.049371</td>\n",
              "      <td>-0.050631</td>\n",
              "      <td>228.270999</td>\n",
              "      <td>219.25435</td>\n",
              "    </tr>\n",
              "    <tr>\n",
              "      <th>2021-07-20</th>\n",
              "      <td>208.100006</td>\n",
              "      <td>217.369995</td>\n",
              "      <td>206.619995</td>\n",
              "      <td>217.149994</td>\n",
              "      <td>217.149994</td>\n",
              "      <td>17009300</td>\n",
              "      <td>0.049084</td>\n",
              "      <td>0.047918</td>\n",
              "      <td>226.371999</td>\n",
              "      <td>219.50080</td>\n",
              "    </tr>\n",
              "    <tr>\n",
              "      <th>2021-07-21</th>\n",
              "      <td>219.500000</td>\n",
              "      <td>224.089996</td>\n",
              "      <td>218.899994</td>\n",
              "      <td>222.539993</td>\n",
              "      <td>222.539993</td>\n",
              "      <td>11421000</td>\n",
              "      <td>0.024822</td>\n",
              "      <td>0.024518</td>\n",
              "      <td>225.447998</td>\n",
              "      <td>219.77310</td>\n",
              "    </tr>\n",
              "    <tr>\n",
              "      <th>2021-07-22</th>\n",
              "      <td>221.520004</td>\n",
              "      <td>222.250000</td>\n",
              "      <td>218.309998</td>\n",
              "      <td>220.869995</td>\n",
              "      <td>220.869995</td>\n",
              "      <td>9754300</td>\n",
              "      <td>-0.007504</td>\n",
              "      <td>-0.007533</td>\n",
              "      <td>223.857997</td>\n",
              "      <td>220.02145</td>\n",
              "    </tr>\n",
              "  </tbody>\n",
              "</table>\n",
              "</div>"
            ],
            "text/plain": [
              "                  Open        High  ...        MA10      MA200\n",
              "Date                                ...                       \n",
              "2021-07-16  223.110001  224.000000  ...  231.239998  219.04570\n",
              "2021-07-19  211.179993  211.550003  ...  228.270999  219.25435\n",
              "2021-07-20  208.100006  217.369995  ...  226.371999  219.50080\n",
              "2021-07-21  219.500000  224.089996  ...  225.447998  219.77310\n",
              "2021-07-22  221.520004  222.250000  ...  223.857997  220.02145\n",
              "\n",
              "[5 rows x 10 columns]"
            ]
          },
          "metadata": {
            "tags": []
          },
          "execution_count": 19
        }
      ]
    },
    {
      "cell_type": "code",
      "metadata": {
        "id": "6sNTvtxXCFCo"
      },
      "source": [
        "# Exponential Moving Average\n",
        "data['EMA10']= data['Close'].ewm(span=10, adjust =False).mean()"
      ],
      "execution_count": 20,
      "outputs": []
    },
    {
      "cell_type": "code",
      "metadata": {
        "colab": {
          "base_uri": "https://localhost:8080/",
          "height": 354
        },
        "id": "8YOzy28YC3uQ",
        "outputId": "2639cdd6-3f1f-461c-c085-77a086f332f4"
      },
      "source": [
        "data.tail()"
      ],
      "execution_count": 21,
      "outputs": [
        {
          "output_type": "execute_result",
          "data": {
            "text/html": [
              "<div>\n",
              "<style scoped>\n",
              "    .dataframe tbody tr th:only-of-type {\n",
              "        vertical-align: middle;\n",
              "    }\n",
              "\n",
              "    .dataframe tbody tr th {\n",
              "        vertical-align: top;\n",
              "    }\n",
              "\n",
              "    .dataframe thead th {\n",
              "        text-align: right;\n",
              "    }\n",
              "</style>\n",
              "<table border=\"1\" class=\"dataframe\">\n",
              "  <thead>\n",
              "    <tr style=\"text-align: right;\">\n",
              "      <th></th>\n",
              "      <th>Open</th>\n",
              "      <th>High</th>\n",
              "      <th>Low</th>\n",
              "      <th>Close</th>\n",
              "      <th>Adj Close</th>\n",
              "      <th>Volume</th>\n",
              "      <th>%-chg</th>\n",
              "      <th>Log returns</th>\n",
              "      <th>MA10</th>\n",
              "      <th>MA200</th>\n",
              "      <th>EMA10</th>\n",
              "    </tr>\n",
              "    <tr>\n",
              "      <th>Date</th>\n",
              "      <th></th>\n",
              "      <th></th>\n",
              "      <th></th>\n",
              "      <th></th>\n",
              "      <th></th>\n",
              "      <th></th>\n",
              "      <th></th>\n",
              "      <th></th>\n",
              "      <th></th>\n",
              "      <th></th>\n",
              "      <th></th>\n",
              "    </tr>\n",
              "  </thead>\n",
              "  <tbody>\n",
              "    <tr>\n",
              "      <th>2021-07-16</th>\n",
              "      <td>223.110001</td>\n",
              "      <td>224.000000</td>\n",
              "      <td>217.029999</td>\n",
              "      <td>217.740005</td>\n",
              "      <td>217.740005</td>\n",
              "      <td>12388900</td>\n",
              "      <td>-0.022535</td>\n",
              "      <td>-0.022793</td>\n",
              "      <td>231.239998</td>\n",
              "      <td>219.04570</td>\n",
              "      <td>229.628978</td>\n",
              "    </tr>\n",
              "    <tr>\n",
              "      <th>2021-07-19</th>\n",
              "      <td>211.179993</td>\n",
              "      <td>211.550003</td>\n",
              "      <td>204.800003</td>\n",
              "      <td>206.990005</td>\n",
              "      <td>206.990005</td>\n",
              "      <td>24123600</td>\n",
              "      <td>-0.049371</td>\n",
              "      <td>-0.050631</td>\n",
              "      <td>228.270999</td>\n",
              "      <td>219.25435</td>\n",
              "      <td>225.512801</td>\n",
              "    </tr>\n",
              "    <tr>\n",
              "      <th>2021-07-20</th>\n",
              "      <td>208.100006</td>\n",
              "      <td>217.369995</td>\n",
              "      <td>206.619995</td>\n",
              "      <td>217.149994</td>\n",
              "      <td>217.149994</td>\n",
              "      <td>17009300</td>\n",
              "      <td>0.049084</td>\n",
              "      <td>0.047918</td>\n",
              "      <td>226.371999</td>\n",
              "      <td>219.50080</td>\n",
              "      <td>223.992291</td>\n",
              "    </tr>\n",
              "    <tr>\n",
              "      <th>2021-07-21</th>\n",
              "      <td>219.500000</td>\n",
              "      <td>224.089996</td>\n",
              "      <td>218.899994</td>\n",
              "      <td>222.539993</td>\n",
              "      <td>222.539993</td>\n",
              "      <td>11421000</td>\n",
              "      <td>0.024822</td>\n",
              "      <td>0.024518</td>\n",
              "      <td>225.447998</td>\n",
              "      <td>219.77310</td>\n",
              "      <td>223.728236</td>\n",
              "    </tr>\n",
              "    <tr>\n",
              "      <th>2021-07-22</th>\n",
              "      <td>221.520004</td>\n",
              "      <td>222.250000</td>\n",
              "      <td>218.309998</td>\n",
              "      <td>220.869995</td>\n",
              "      <td>220.869995</td>\n",
              "      <td>9754300</td>\n",
              "      <td>-0.007504</td>\n",
              "      <td>-0.007533</td>\n",
              "      <td>223.857997</td>\n",
              "      <td>220.02145</td>\n",
              "      <td>223.208556</td>\n",
              "    </tr>\n",
              "  </tbody>\n",
              "</table>\n",
              "</div>"
            ],
            "text/plain": [
              "                  Open        High  ...      MA200       EMA10\n",
              "Date                                ...                       \n",
              "2021-07-16  223.110001  224.000000  ...  219.04570  229.628978\n",
              "2021-07-19  211.179993  211.550003  ...  219.25435  225.512801\n",
              "2021-07-20  208.100006  217.369995  ...  219.50080  223.992291\n",
              "2021-07-21  219.500000  224.089996  ...  219.77310  223.728236\n",
              "2021-07-22  221.520004  222.250000  ...  220.02145  223.208556\n",
              "\n",
              "[5 rows x 11 columns]"
            ]
          },
          "metadata": {
            "tags": []
          },
          "execution_count": 21
        }
      ]
    },
    {
      "cell_type": "code",
      "metadata": {
        "id": "TFKlrnsPC3zQ"
      },
      "source": [
        "# Exponential Moving Average\n",
        "data['EMA200']= data['Close'].ewm(span=200, adjust =False).mean()"
      ],
      "execution_count": 22,
      "outputs": []
    },
    {
      "cell_type": "code",
      "metadata": {
        "colab": {
          "base_uri": "https://localhost:8080/",
          "height": 354
        },
        "id": "q7nCv46TC32-",
        "outputId": "2047f05d-3b90-4077-efc3-535317fc52d8"
      },
      "source": [
        "data.tail()"
      ],
      "execution_count": 23,
      "outputs": [
        {
          "output_type": "execute_result",
          "data": {
            "text/html": [
              "<div>\n",
              "<style scoped>\n",
              "    .dataframe tbody tr th:only-of-type {\n",
              "        vertical-align: middle;\n",
              "    }\n",
              "\n",
              "    .dataframe tbody tr th {\n",
              "        vertical-align: top;\n",
              "    }\n",
              "\n",
              "    .dataframe thead th {\n",
              "        text-align: right;\n",
              "    }\n",
              "</style>\n",
              "<table border=\"1\" class=\"dataframe\">\n",
              "  <thead>\n",
              "    <tr style=\"text-align: right;\">\n",
              "      <th></th>\n",
              "      <th>Open</th>\n",
              "      <th>High</th>\n",
              "      <th>Low</th>\n",
              "      <th>Close</th>\n",
              "      <th>Adj Close</th>\n",
              "      <th>Volume</th>\n",
              "      <th>%-chg</th>\n",
              "      <th>Log returns</th>\n",
              "      <th>MA10</th>\n",
              "      <th>MA200</th>\n",
              "      <th>EMA10</th>\n",
              "      <th>EMA200</th>\n",
              "    </tr>\n",
              "    <tr>\n",
              "      <th>Date</th>\n",
              "      <th></th>\n",
              "      <th></th>\n",
              "      <th></th>\n",
              "      <th></th>\n",
              "      <th></th>\n",
              "      <th></th>\n",
              "      <th></th>\n",
              "      <th></th>\n",
              "      <th></th>\n",
              "      <th></th>\n",
              "      <th></th>\n",
              "      <th></th>\n",
              "    </tr>\n",
              "  </thead>\n",
              "  <tbody>\n",
              "    <tr>\n",
              "      <th>2021-07-16</th>\n",
              "      <td>223.110001</td>\n",
              "      <td>224.000000</td>\n",
              "      <td>217.029999</td>\n",
              "      <td>217.740005</td>\n",
              "      <td>217.740005</td>\n",
              "      <td>12388900</td>\n",
              "      <td>-0.022535</td>\n",
              "      <td>-0.022793</td>\n",
              "      <td>231.239998</td>\n",
              "      <td>219.04570</td>\n",
              "      <td>229.628978</td>\n",
              "      <td>222.197554</td>\n",
              "    </tr>\n",
              "    <tr>\n",
              "      <th>2021-07-19</th>\n",
              "      <td>211.179993</td>\n",
              "      <td>211.550003</td>\n",
              "      <td>204.800003</td>\n",
              "      <td>206.990005</td>\n",
              "      <td>206.990005</td>\n",
              "      <td>24123600</td>\n",
              "      <td>-0.049371</td>\n",
              "      <td>-0.050631</td>\n",
              "      <td>228.270999</td>\n",
              "      <td>219.25435</td>\n",
              "      <td>225.512801</td>\n",
              "      <td>222.046235</td>\n",
              "    </tr>\n",
              "    <tr>\n",
              "      <th>2021-07-20</th>\n",
              "      <td>208.100006</td>\n",
              "      <td>217.369995</td>\n",
              "      <td>206.619995</td>\n",
              "      <td>217.149994</td>\n",
              "      <td>217.149994</td>\n",
              "      <td>17009300</td>\n",
              "      <td>0.049084</td>\n",
              "      <td>0.047918</td>\n",
              "      <td>226.371999</td>\n",
              "      <td>219.50080</td>\n",
              "      <td>223.992291</td>\n",
              "      <td>221.997517</td>\n",
              "    </tr>\n",
              "    <tr>\n",
              "      <th>2021-07-21</th>\n",
              "      <td>219.500000</td>\n",
              "      <td>224.089996</td>\n",
              "      <td>218.899994</td>\n",
              "      <td>222.539993</td>\n",
              "      <td>222.539993</td>\n",
              "      <td>11421000</td>\n",
              "      <td>0.024822</td>\n",
              "      <td>0.024518</td>\n",
              "      <td>225.447998</td>\n",
              "      <td>219.77310</td>\n",
              "      <td>223.728236</td>\n",
              "      <td>222.002914</td>\n",
              "    </tr>\n",
              "    <tr>\n",
              "      <th>2021-07-22</th>\n",
              "      <td>221.520004</td>\n",
              "      <td>222.250000</td>\n",
              "      <td>218.309998</td>\n",
              "      <td>220.869995</td>\n",
              "      <td>220.869995</td>\n",
              "      <td>9754300</td>\n",
              "      <td>-0.007504</td>\n",
              "      <td>-0.007533</td>\n",
              "      <td>223.857997</td>\n",
              "      <td>220.02145</td>\n",
              "      <td>223.208556</td>\n",
              "      <td>221.991642</td>\n",
              "    </tr>\n",
              "  </tbody>\n",
              "</table>\n",
              "</div>"
            ],
            "text/plain": [
              "                  Open        High  ...       EMA10      EMA200\n",
              "Date                                ...                        \n",
              "2021-07-16  223.110001  224.000000  ...  229.628978  222.197554\n",
              "2021-07-19  211.179993  211.550003  ...  225.512801  222.046235\n",
              "2021-07-20  208.100006  217.369995  ...  223.992291  221.997517\n",
              "2021-07-21  219.500000  224.089996  ...  223.728236  222.002914\n",
              "2021-07-22  221.520004  222.250000  ...  223.208556  221.991642\n",
              "\n",
              "[5 rows x 12 columns]"
            ]
          },
          "metadata": {
            "tags": []
          },
          "execution_count": 23
        }
      ]
    },
    {
      "cell_type": "code",
      "metadata": {
        "colab": {
          "base_uri": "https://localhost:8080/",
          "height": 302
        },
        "id": "4-aLpyFRC36u",
        "outputId": "e8fa5d5d-7ef1-4bf0-b0e7-0d4c76acac9d"
      },
      "source": [
        "fig, ax = plt.subplots()\n",
        "data[['MA10', 'EMA10']].loc['2021-5-01':].plot(ax=ax)\n",
        "data['Close'].loc['2021-5-01':].plot(ax=ax, alpha=0.25)"
      ],
      "execution_count": 24,
      "outputs": [
        {
          "output_type": "execute_result",
          "data": {
            "text/plain": [
              "<matplotlib.axes._subplots.AxesSubplot at 0x7f53ac44de10>"
            ]
          },
          "metadata": {
            "tags": []
          },
          "execution_count": 24
        },
        {
          "output_type": "display_data",
          "data": {
            "image/png": "[encoded data removed]",
            "text/plain": [
              "<Figure size 432x288 with 1 Axes>"
            ]
          },
          "metadata": {
            "tags": [],
            "needs_background": "light"
          }
        }
      ]
    },
    {
      "cell_type": "markdown",
      "metadata": {
        "id": "Jg3dYPgaDHof"
      },
      "source": [
        "# Stock price Vs SMA10 & EMA10"
      ]
    }
  ]
}
