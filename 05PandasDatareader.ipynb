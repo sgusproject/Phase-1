{
 "cells": [
  {
   "cell_type": "markdown",
   "metadata": {},
   "source": [
    "# Pandas-datareader\n",
    "- pip install pandas_datareader to extract data directly from Yahoo Finance\n",
    "\n",
    "### Libraries\n",
    "- datetime\n",
    "- pandas\n",
    "- Yahoo finance, Nasdaq symbols"
   ]
  },
  {
   "cell_type": "code",
   "execution_count": 3,
   "metadata": {},
   "outputs": [],
   "source": [
    "import pandas_datareader as pdr"
   ]
  },
  {
   "cell_type": "code",
   "execution_count": 2,
   "metadata": {},
   "outputs": [
    {
     "name": "stdout",
     "output_type": "stream",
     "text": [
      "Collecting pandas_datareader\n",
      "  Using cached pandas_datareader-0.10.0-py3-none-any.whl (109 kB)\n",
      "Requirement already satisfied: lxml in c:\\users\\cjlim\\anaconda3\\lib\\site-packages (from pandas_datareader) (4.6.1)\n",
      "Requirement already satisfied: pandas>=0.23 in c:\\users\\cjlim\\anaconda3\\lib\\site-packages (from pandas_datareader) (1.1.3)\n",
      "Requirement already satisfied: requests>=2.19.0 in c:\\users\\cjlim\\anaconda3\\lib\\site-packages (from pandas_datareader) (2.24.0)\n",
      "Requirement already satisfied: numpy>=1.15.4 in c:\\users\\cjlim\\anaconda3\\lib\\site-packages (from pandas>=0.23->pandas_datareader) (1.19.2)\n",
      "Requirement already satisfied: pytz>=2017.2 in c:\\users\\cjlim\\anaconda3\\lib\\site-packages (from pandas>=0.23->pandas_datareader) (2020.1)\n",
      "Requirement already satisfied: python-dateutil>=2.7.3 in c:\\users\\cjlim\\anaconda3\\lib\\site-packages (from pandas>=0.23->pandas_datareader) (2.8.1)\n",
      "Requirement already satisfied: certifi>=2017.4.17 in c:\\users\\cjlim\\anaconda3\\lib\\site-packages (from requests>=2.19.0->pandas_datareader) (2020.6.20)\n",
      "Requirement already satisfied: chardet<4,>=3.0.2 in c:\\users\\cjlim\\anaconda3\\lib\\site-packages (from requests>=2.19.0->pandas_datareader) (3.0.4)\n",
      "Requirement already satisfied: idna<3,>=2.5 in c:\\users\\cjlim\\anaconda3\\lib\\site-packages (from requests>=2.19.0->pandas_datareader) (2.10)\n",
      "Requirement already satisfied: urllib3!=1.25.0,!=1.25.1,<1.26,>=1.21.1 in c:\\users\\cjlim\\anaconda3\\lib\\site-packages (from requests>=2.19.0->pandas_datareader) (1.25.11)\n",
      "Requirement already satisfied: six>=1.5 in c:\\users\\cjlim\\anaconda3\\lib\\site-packages (from python-dateutil>=2.7.3->pandas>=0.23->pandas_datareader) (1.15.0)\n",
      "Installing collected packages: pandas-datareader\n",
      "Successfully installed pandas-datareader-0.10.0\n"
     ]
    }
   ],
   "source": [
    "#!pip install pandas_datareader"
   ]
  },
  {
   "cell_type": "code",
   "execution_count": 5,
   "metadata": {},
   "outputs": [],
   "source": [
    "import datetime as dt"
   ]
  },
  {
   "cell_type": "code",
   "execution_count": 6,
   "metadata": {},
   "outputs": [],
   "source": [
    "# download data from Yahoo start date to date\n",
    "ticker = \"BA\"\n",
    "start = dt.datetime(2019, 1, 1)\n",
    "\n",
    "data = pdr.get_data_yahoo(ticker, start)"
   ]
  },
  {
   "cell_type": "code",
   "execution_count": 7,
   "metadata": {},
   "outputs": [
    {
     "data": {
      "text/html": [
       "<div>\n",
       "<style scoped>\n",
       "    .dataframe tbody tr th:only-of-type {\n",
       "        vertical-align: middle;\n",
       "    }\n",
       "\n",
       "    .dataframe tbody tr th {\n",
       "        vertical-align: top;\n",
       "    }\n",
       "\n",
       "    .dataframe thead th {\n",
       "        text-align: right;\n",
       "    }\n",
       "</style>\n",
       "<table border=\"1\" class=\"dataframe\">\n",
       "  <thead>\n",
       "    <tr style=\"text-align: right;\">\n",
       "      <th></th>\n",
       "      <th>High</th>\n",
       "      <th>Low</th>\n",
       "      <th>Open</th>\n",
       "      <th>Close</th>\n",
       "      <th>Volume</th>\n",
       "      <th>Adj Close</th>\n",
       "    </tr>\n",
       "    <tr>\n",
       "      <th>Date</th>\n",
       "      <th></th>\n",
       "      <th></th>\n",
       "      <th></th>\n",
       "      <th></th>\n",
       "      <th></th>\n",
       "      <th></th>\n",
       "    </tr>\n",
       "  </thead>\n",
       "  <tbody>\n",
       "    <tr>\n",
       "      <th>2018-12-31</th>\n",
       "      <td>323.640015</td>\n",
       "      <td>318.750000</td>\n",
       "      <td>320.500000</td>\n",
       "      <td>322.500000</td>\n",
       "      <td>3557700.0</td>\n",
       "      <td>313.372223</td>\n",
       "    </tr>\n",
       "    <tr>\n",
       "      <th>2019-01-02</th>\n",
       "      <td>323.950012</td>\n",
       "      <td>313.709991</td>\n",
       "      <td>316.190002</td>\n",
       "      <td>323.809998</td>\n",
       "      <td>3292200.0</td>\n",
       "      <td>314.645142</td>\n",
       "    </tr>\n",
       "    <tr>\n",
       "      <th>2019-01-03</th>\n",
       "      <td>319.739990</td>\n",
       "      <td>309.399994</td>\n",
       "      <td>319.489990</td>\n",
       "      <td>310.899994</td>\n",
       "      <td>5705600.0</td>\n",
       "      <td>302.100555</td>\n",
       "    </tr>\n",
       "    <tr>\n",
       "      <th>2019-01-04</th>\n",
       "      <td>328.440002</td>\n",
       "      <td>316.079987</td>\n",
       "      <td>316.690002</td>\n",
       "      <td>327.079987</td>\n",
       "      <td>4448800.0</td>\n",
       "      <td>317.822601</td>\n",
       "    </tr>\n",
       "    <tr>\n",
       "      <th>2019-01-07</th>\n",
       "      <td>330.690002</td>\n",
       "      <td>323.350006</td>\n",
       "      <td>330.519989</td>\n",
       "      <td>328.109985</td>\n",
       "      <td>4030300.0</td>\n",
       "      <td>318.823395</td>\n",
       "    </tr>\n",
       "  </tbody>\n",
       "</table>\n",
       "</div>"
      ],
      "text/plain": [
       "                  High         Low        Open       Close     Volume  \\\n",
       "Date                                                                    \n",
       "2018-12-31  323.640015  318.750000  320.500000  322.500000  3557700.0   \n",
       "2019-01-02  323.950012  313.709991  316.190002  323.809998  3292200.0   \n",
       "2019-01-03  319.739990  309.399994  319.489990  310.899994  5705600.0   \n",
       "2019-01-04  328.440002  316.079987  316.690002  327.079987  4448800.0   \n",
       "2019-01-07  330.690002  323.350006  330.519989  328.109985  4030300.0   \n",
       "\n",
       "             Adj Close  \n",
       "Date                    \n",
       "2018-12-31  313.372223  \n",
       "2019-01-02  314.645142  \n",
       "2019-01-03  302.100555  \n",
       "2019-01-04  317.822601  \n",
       "2019-01-07  318.823395  "
      ]
     },
     "execution_count": 7,
     "metadata": {},
     "output_type": "execute_result"
    }
   ],
   "source": [
    "data.head()"
   ]
  },
  {
   "cell_type": "code",
   "execution_count": 8,
   "metadata": {},
   "outputs": [
    {
     "data": {
      "text/plain": [
       "DatetimeIndex(['2018-12-31', '2019-01-02', '2019-01-03', '2019-01-04',\n",
       "               '2019-01-07', '2019-01-08', '2019-01-09', '2019-01-10',\n",
       "               '2019-01-11', '2019-01-14',\n",
       "               ...\n",
       "               '2021-07-12', '2021-07-13', '2021-07-14', '2021-07-15',\n",
       "               '2021-07-16', '2021-07-19', '2021-07-20', '2021-07-21',\n",
       "               '2021-07-22', '2021-07-23'],\n",
       "              dtype='datetime64[ns]', name='Date', length=646, freq=None)"
      ]
     },
     "execution_count": 8,
     "metadata": {},
     "output_type": "execute_result"
    }
   ],
   "source": [
    "data.index\n"
   ]
  },
  {
   "cell_type": "code",
   "execution_count": 9,
   "metadata": {},
   "outputs": [
    {
     "data": {
      "text/plain": [
       "High         float64\n",
       "Low          float64\n",
       "Open         float64\n",
       "Close        float64\n",
       "Volume       float64\n",
       "Adj Close    float64\n",
       "dtype: object"
      ]
     },
     "execution_count": 9,
     "metadata": {},
     "output_type": "execute_result"
    }
   ],
   "source": [
    "data.dtypes"
   ]
  },
  {
   "cell_type": "code",
   "execution_count": 10,
   "metadata": {},
   "outputs": [
    {
     "data": {
      "text/html": [
       "<div>\n",
       "<style scoped>\n",
       "    .dataframe tbody tr th:only-of-type {\n",
       "        vertical-align: middle;\n",
       "    }\n",
       "\n",
       "    .dataframe tbody tr th {\n",
       "        vertical-align: top;\n",
       "    }\n",
       "\n",
       "    .dataframe thead th {\n",
       "        text-align: right;\n",
       "    }\n",
       "</style>\n",
       "<table border=\"1\" class=\"dataframe\">\n",
       "  <thead>\n",
       "    <tr style=\"text-align: right;\">\n",
       "      <th></th>\n",
       "      <th>High</th>\n",
       "      <th>Low</th>\n",
       "      <th>Open</th>\n",
       "      <th>Close</th>\n",
       "      <th>Volume</th>\n",
       "      <th>Adj Close</th>\n",
       "    </tr>\n",
       "    <tr>\n",
       "      <th>Date</th>\n",
       "      <th></th>\n",
       "      <th></th>\n",
       "      <th></th>\n",
       "      <th></th>\n",
       "      <th></th>\n",
       "      <th></th>\n",
       "    </tr>\n",
       "  </thead>\n",
       "  <tbody>\n",
       "    <tr>\n",
       "      <th>2021-07-19</th>\n",
       "      <td>211.550003</td>\n",
       "      <td>204.800003</td>\n",
       "      <td>211.179993</td>\n",
       "      <td>206.990005</td>\n",
       "      <td>24123600.0</td>\n",
       "      <td>206.990005</td>\n",
       "    </tr>\n",
       "    <tr>\n",
       "      <th>2021-07-20</th>\n",
       "      <td>217.369995</td>\n",
       "      <td>206.619995</td>\n",
       "      <td>208.100006</td>\n",
       "      <td>217.149994</td>\n",
       "      <td>17027300.0</td>\n",
       "      <td>217.149994</td>\n",
       "    </tr>\n",
       "    <tr>\n",
       "      <th>2021-07-21</th>\n",
       "      <td>224.089996</td>\n",
       "      <td>218.899994</td>\n",
       "      <td>219.500000</td>\n",
       "      <td>222.539993</td>\n",
       "      <td>11437600.0</td>\n",
       "      <td>222.539993</td>\n",
       "    </tr>\n",
       "    <tr>\n",
       "      <th>2021-07-22</th>\n",
       "      <td>222.250000</td>\n",
       "      <td>218.309998</td>\n",
       "      <td>221.520004</td>\n",
       "      <td>220.869995</td>\n",
       "      <td>9768900.0</td>\n",
       "      <td>220.869995</td>\n",
       "    </tr>\n",
       "    <tr>\n",
       "      <th>2021-07-23</th>\n",
       "      <td>224.630005</td>\n",
       "      <td>220.940002</td>\n",
       "      <td>222.970001</td>\n",
       "      <td>221.520004</td>\n",
       "      <td>9357000.0</td>\n",
       "      <td>221.520004</td>\n",
       "    </tr>\n",
       "  </tbody>\n",
       "</table>\n",
       "</div>"
      ],
      "text/plain": [
       "                  High         Low        Open       Close      Volume  \\\n",
       "Date                                                                     \n",
       "2021-07-19  211.550003  204.800003  211.179993  206.990005  24123600.0   \n",
       "2021-07-20  217.369995  206.619995  208.100006  217.149994  17027300.0   \n",
       "2021-07-21  224.089996  218.899994  219.500000  222.539993  11437600.0   \n",
       "2021-07-22  222.250000  218.309998  221.520004  220.869995   9768900.0   \n",
       "2021-07-23  224.630005  220.940002  222.970001  221.520004   9357000.0   \n",
       "\n",
       "             Adj Close  \n",
       "Date                    \n",
       "2021-07-19  206.990005  \n",
       "2021-07-20  217.149994  \n",
       "2021-07-21  222.539993  \n",
       "2021-07-22  220.869995  \n",
       "2021-07-23  221.520004  "
      ]
     },
     "execution_count": 10,
     "metadata": {},
     "output_type": "execute_result"
    }
   ],
   "source": [
    "data.tail()"
   ]
  },
  {
   "cell_type": "code",
   "execution_count": 15,
   "metadata": {},
   "outputs": [],
   "source": [
    "# download data from start date to end date\n",
    "ticker = \"BA\"\n",
    "start = dt.datetime(2020, 1, 1)\n",
    "end = dt.datetime(2021, 6, 30)\n",
    "\n",
    "data = pdr.get_data_yahoo(ticker, start, end)"
   ]
  },
  {
   "cell_type": "code",
   "execution_count": 16,
   "metadata": {},
   "outputs": [
    {
     "data": {
      "text/html": [
       "<div>\n",
       "<style scoped>\n",
       "    .dataframe tbody tr th:only-of-type {\n",
       "        vertical-align: middle;\n",
       "    }\n",
       "\n",
       "    .dataframe tbody tr th {\n",
       "        vertical-align: top;\n",
       "    }\n",
       "\n",
       "    .dataframe thead th {\n",
       "        text-align: right;\n",
       "    }\n",
       "</style>\n",
       "<table border=\"1\" class=\"dataframe\">\n",
       "  <thead>\n",
       "    <tr style=\"text-align: right;\">\n",
       "      <th></th>\n",
       "      <th>High</th>\n",
       "      <th>Low</th>\n",
       "      <th>Open</th>\n",
       "      <th>Close</th>\n",
       "      <th>Volume</th>\n",
       "      <th>Adj Close</th>\n",
       "    </tr>\n",
       "    <tr>\n",
       "      <th>Date</th>\n",
       "      <th></th>\n",
       "      <th></th>\n",
       "      <th></th>\n",
       "      <th></th>\n",
       "      <th></th>\n",
       "      <th></th>\n",
       "    </tr>\n",
       "  </thead>\n",
       "  <tbody>\n",
       "    <tr>\n",
       "      <th>2019-12-31</th>\n",
       "      <td>326.570007</td>\n",
       "      <td>323.320007</td>\n",
       "      <td>325.410004</td>\n",
       "      <td>325.760010</td>\n",
       "      <td>4958800.0</td>\n",
       "      <td>323.833313</td>\n",
       "    </tr>\n",
       "    <tr>\n",
       "      <th>2020-01-02</th>\n",
       "      <td>333.350006</td>\n",
       "      <td>327.700012</td>\n",
       "      <td>328.549988</td>\n",
       "      <td>333.320007</td>\n",
       "      <td>4544400.0</td>\n",
       "      <td>331.348572</td>\n",
       "    </tr>\n",
       "    <tr>\n",
       "      <th>2020-01-03</th>\n",
       "      <td>334.890015</td>\n",
       "      <td>330.299988</td>\n",
       "      <td>330.630005</td>\n",
       "      <td>332.760010</td>\n",
       "      <td>3875900.0</td>\n",
       "      <td>330.791901</td>\n",
       "    </tr>\n",
       "    <tr>\n",
       "      <th>2020-01-06</th>\n",
       "      <td>334.859985</td>\n",
       "      <td>327.880005</td>\n",
       "      <td>329.299988</td>\n",
       "      <td>333.739990</td>\n",
       "      <td>5355000.0</td>\n",
       "      <td>331.766083</td>\n",
       "    </tr>\n",
       "    <tr>\n",
       "      <th>2020-01-07</th>\n",
       "      <td>344.190002</td>\n",
       "      <td>330.709991</td>\n",
       "      <td>334.260010</td>\n",
       "      <td>337.279999</td>\n",
       "      <td>9898600.0</td>\n",
       "      <td>335.285156</td>\n",
       "    </tr>\n",
       "  </tbody>\n",
       "</table>\n",
       "</div>"
      ],
      "text/plain": [
       "                  High         Low        Open       Close     Volume  \\\n",
       "Date                                                                    \n",
       "2019-12-31  326.570007  323.320007  325.410004  325.760010  4958800.0   \n",
       "2020-01-02  333.350006  327.700012  328.549988  333.320007  4544400.0   \n",
       "2020-01-03  334.890015  330.299988  330.630005  332.760010  3875900.0   \n",
       "2020-01-06  334.859985  327.880005  329.299988  333.739990  5355000.0   \n",
       "2020-01-07  344.190002  330.709991  334.260010  337.279999  9898600.0   \n",
       "\n",
       "             Adj Close  \n",
       "Date                    \n",
       "2019-12-31  323.833313  \n",
       "2020-01-02  331.348572  \n",
       "2020-01-03  330.791901  \n",
       "2020-01-06  331.766083  \n",
       "2020-01-07  335.285156  "
      ]
     },
     "execution_count": 16,
     "metadata": {},
     "output_type": "execute_result"
    }
   ],
   "source": [
    "data.head()"
   ]
  },
  {
   "cell_type": "code",
   "execution_count": 17,
   "metadata": {},
   "outputs": [
    {
     "data": {
      "text/html": [
       "<div>\n",
       "<style scoped>\n",
       "    .dataframe tbody tr th:only-of-type {\n",
       "        vertical-align: middle;\n",
       "    }\n",
       "\n",
       "    .dataframe tbody tr th {\n",
       "        vertical-align: top;\n",
       "    }\n",
       "\n",
       "    .dataframe thead th {\n",
       "        text-align: right;\n",
       "    }\n",
       "</style>\n",
       "<table border=\"1\" class=\"dataframe\">\n",
       "  <thead>\n",
       "    <tr style=\"text-align: right;\">\n",
       "      <th></th>\n",
       "      <th>High</th>\n",
       "      <th>Low</th>\n",
       "      <th>Open</th>\n",
       "      <th>Close</th>\n",
       "      <th>Volume</th>\n",
       "      <th>Adj Close</th>\n",
       "    </tr>\n",
       "    <tr>\n",
       "      <th>Date</th>\n",
       "      <th></th>\n",
       "      <th></th>\n",
       "      <th></th>\n",
       "      <th></th>\n",
       "      <th></th>\n",
       "      <th></th>\n",
       "    </tr>\n",
       "  </thead>\n",
       "  <tbody>\n",
       "    <tr>\n",
       "      <th>2021-06-24</th>\n",
       "      <td>250.740005</td>\n",
       "      <td>243.699997</td>\n",
       "      <td>245.199997</td>\n",
       "      <td>250.570007</td>\n",
       "      <td>13755600.0</td>\n",
       "      <td>250.570007</td>\n",
       "    </tr>\n",
       "    <tr>\n",
       "      <th>2021-06-25</th>\n",
       "      <td>252.300003</td>\n",
       "      <td>248.250000</td>\n",
       "      <td>250.750000</td>\n",
       "      <td>248.380005</td>\n",
       "      <td>9625800.0</td>\n",
       "      <td>248.380005</td>\n",
       "    </tr>\n",
       "    <tr>\n",
       "      <th>2021-06-28</th>\n",
       "      <td>245.080002</td>\n",
       "      <td>238.880005</td>\n",
       "      <td>244.729996</td>\n",
       "      <td>239.960007</td>\n",
       "      <td>18152000.0</td>\n",
       "      <td>239.960007</td>\n",
       "    </tr>\n",
       "    <tr>\n",
       "      <th>2021-06-29</th>\n",
       "      <td>244.369995</td>\n",
       "      <td>235.660004</td>\n",
       "      <td>243.740005</td>\n",
       "      <td>235.759995</td>\n",
       "      <td>16743900.0</td>\n",
       "      <td>235.759995</td>\n",
       "    </tr>\n",
       "    <tr>\n",
       "      <th>2021-06-30</th>\n",
       "      <td>241.169998</td>\n",
       "      <td>236.000000</td>\n",
       "      <td>236.240005</td>\n",
       "      <td>239.559998</td>\n",
       "      <td>12089100.0</td>\n",
       "      <td>239.559998</td>\n",
       "    </tr>\n",
       "  </tbody>\n",
       "</table>\n",
       "</div>"
      ],
      "text/plain": [
       "                  High         Low        Open       Close      Volume  \\\n",
       "Date                                                                     \n",
       "2021-06-24  250.740005  243.699997  245.199997  250.570007  13755600.0   \n",
       "2021-06-25  252.300003  248.250000  250.750000  248.380005   9625800.0   \n",
       "2021-06-28  245.080002  238.880005  244.729996  239.960007  18152000.0   \n",
       "2021-06-29  244.369995  235.660004  243.740005  235.759995  16743900.0   \n",
       "2021-06-30  241.169998  236.000000  236.240005  239.559998  12089100.0   \n",
       "\n",
       "             Adj Close  \n",
       "Date                    \n",
       "2021-06-24  250.570007  \n",
       "2021-06-25  248.380005  \n",
       "2021-06-28  239.960007  \n",
       "2021-06-29  235.759995  \n",
       "2021-06-30  239.559998  "
      ]
     },
     "execution_count": 17,
     "metadata": {},
     "output_type": "execute_result"
    }
   ],
   "source": [
    "data.tail()"
   ]
  },
  {
   "cell_type": "code",
   "execution_count": 18,
   "metadata": {},
   "outputs": [
    {
     "data": {
      "text/plain": [
       "DatetimeIndex(['2019-12-31', '2020-01-02', '2020-01-03', '2020-01-06',\n",
       "               '2020-01-07', '2020-01-08', '2020-01-09', '2020-01-10',\n",
       "               '2020-01-13', '2020-01-14',\n",
       "               ...\n",
       "               '2021-06-17', '2021-06-18', '2021-06-21', '2021-06-22',\n",
       "               '2021-06-23', '2021-06-24', '2021-06-25', '2021-06-28',\n",
       "               '2021-06-29', '2021-06-30'],\n",
       "              dtype='datetime64[ns]', name='Date', length=378, freq=None)"
      ]
     },
     "execution_count": 18,
     "metadata": {},
     "output_type": "execute_result"
    }
   ],
   "source": [
    "data.index"
   ]
  },
  {
   "cell_type": "code",
   "execution_count": 22,
   "metadata": {},
   "outputs": [],
   "source": [
    "# data reader also get from nasdaq symbols & others\n",
    "nasdaq_sym = pdr.get_nasdaq_symbols()"
   ]
  },
  {
   "cell_type": "code",
   "execution_count": 23,
   "metadata": {},
   "outputs": [
    {
     "data": {
      "text/plain": [
       "Nasdaq Traded                                    True\n",
       "Security Name       Boeing Company (The) Common Stock\n",
       "Listing Exchange                                    N\n",
       "Market Category                                      \n",
       "ETF                                             False\n",
       "Round Lot Size                                    100\n",
       "Test Issue                                      False\n",
       "Financial Status                                  NaN\n",
       "CQS Symbol                                         BA\n",
       "NASDAQ Symbol                                      BA\n",
       "NextShares                                      False\n",
       "Name: BA, dtype: object"
      ]
     },
     "execution_count": 23,
     "metadata": {},
     "output_type": "execute_result"
    }
   ],
   "source": [
    "nasdaq_sym.loc[\"BA\"]"
   ]
  },
  {
   "cell_type": "code",
   "execution_count": 24,
   "metadata": {},
   "outputs": [
    {
     "data": {
      "text/plain": [
       "10954"
      ]
     },
     "execution_count": 24,
     "metadata": {},
     "output_type": "execute_result"
    }
   ],
   "source": [
    "len(nasdaq_sym)"
   ]
  },
  {
   "cell_type": "code",
   "execution_count": null,
   "metadata": {},
   "outputs": [],
   "source": []
  }
 ],
 "metadata": {
  "kernelspec": {
   "display_name": "Python 3",
   "language": "python",
   "name": "python3"
  },
  "language_info": {
   "codemirror_mode": {
    "name": "ipython",
    "version": 3
   },
   "file_extension": ".py",
   "mimetype": "text/x-python",
   "name": "python",
   "nbconvert_exporter": "python",
   "pygments_lexer": "ipython3",
   "version": "3.8.5"
  }
 },
 "nbformat": 4,
 "nbformat_minor": 4
}
