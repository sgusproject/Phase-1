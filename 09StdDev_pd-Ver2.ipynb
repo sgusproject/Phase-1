{
 "cells": [
  {
   "cell_type": "markdown",
   "metadata": {},
   "source": [
    "## Standard Deviation, Mean, Coefficient Of Variation\n",
    "## Generic dataframe for multiple inputs\n",
    "\n",
    "### Libraries\n",
    "- pandas, numpy, matplotlib\n",
    "- get-dataframe function to get from .csv\n"
   ]
  },
  {
   "cell_type": "code",
   "execution_count": null,
   "metadata": {
    "id": "UvWjHv7mvRkL"
   },
   "outputs": [],
   "source": [
    "# Import the libraries https://www.youtube.com/watch?v=-MJ_kOlYmRk&t=311s\n",
    "import pandas as pd\n",
    "# Create data frame\n",
    "df = pd.read_csv('C.csv')\n",
    "print(df)"
   ]
  },
  {
   "cell_type": "code",
   "execution_count": 2,
   "metadata": {
    "id": "oeMQ-mYkK8xv"
   },
   "outputs": [],
   "source": [
    "# Print this to see whole data rows list\n",
    "# print(df.to_string())"
   ]
  },
  {
   "cell_type": "code",
   "execution_count": 3,
   "metadata": {
    "id": "XQSEaWGoQeTr"
   },
   "outputs": [
    {
     "name": "stdout",
     "output_type": "stream",
     "text": [
      "Open         1.139170e+01\n",
      "High         1.142904e+01\n",
      "Low          1.127709e+01\n",
      "Close        1.139588e+01\n",
      "Adj Close    1.180418e+01\n",
      "Volume       8.495986e+06\n",
      "dtype: float64\n"
     ]
    }
   ],
   "source": [
    "# Standard Deviation of all data columns\n",
    "print(df.std())"
   ]
  },
  {
   "cell_type": "code",
   "execution_count": 4,
   "metadata": {
    "colab": {
     "base_uri": "https://localhost:8080/"
    },
    "id": "Fjeg8Fc6Qk83",
    "outputId": "d1cf300b-a8d5-4cbe-df58-74c86b0527fc"
   },
   "outputs": [
    {
     "name": "stdout",
     "output_type": "stream",
     "text": [
      "11.395878752517547\n"
     ]
    }
   ],
   "source": [
    "# Standard Deviation for 'Close' column, using Pandas\n",
    "print(df['Close'].std())"
   ]
  },
  {
   "cell_type": "code",
   "execution_count": 5,
   "metadata": {
    "colab": {
     "base_uri": "https://localhost:8080/",
     "height": 178
    },
    "id": "0Yb8JPrzMDg0",
    "outputId": "99ea85b5-6dba-4ee6-a01e-753988a36254"
   },
   "outputs": [
    {
     "name": "stdout",
     "output_type": "stream",
     "text": [
      "11.395878752517547\n"
     ]
    }
   ],
   "source": [
    "# Standard Deviation for 'Close' column, using Numpy\n",
    "print(df.std()['Close'])"
   ]
  },
  {
   "cell_type": "code",
   "execution_count": 6,
   "metadata": {
    "colab": {
     "base_uri": "https://localhost:8080/"
    },
    "id": "tFs5lR5ETpEr",
    "outputId": "925764fa-0c6b-490a-d281-7ea497317d78"
   },
   "outputs": [
    {
     "name": "stdout",
     "output_type": "stream",
     "text": [
      "61.228293734127014\n"
     ]
    }
   ],
   "source": [
    "print(df['Close'].mean())"
   ]
  },
  {
   "cell_type": "code",
   "execution_count": 7,
   "metadata": {
    "id": "R5l3UgIpVbkg"
   },
   "outputs": [
    {
     "name": "stdout",
     "output_type": "stream",
     "text": [
      "Stock: C - Mean: 61.228293734127014 - Standard Deviation: 11.395878752517547\n"
     ]
    }
   ],
   "source": [
    "# Create a generic dataframe to allow fit variable stock\n",
    "import pandas as pd\n",
    "\n",
    "def get_dataframe_from_csv(filename):\n",
    "    df = pd.read_csv(filename)\n",
    "    return df\n",
    "\n",
    "stock = 'C'\n",
    "df = get_dataframe_from_csv('{}.csv'.format(stock))\n",
    "print(\"Stock: {} - Mean: {} - Standard Deviation: {}\".format(stock, df['Close'].mean(), df['Close'].std()))"
   ]
  },
  {
   "cell_type": "code",
   "execution_count": 8,
   "metadata": {},
   "outputs": [
    {
     "name": "stdout",
     "output_type": "stream",
     "text": [
      "Stock: C - Mean: 61.228293734127014 - Standard Deviation: 11.395878752517547\n",
      "Stock: BA - Mean: 209.2396429166667 - Standard Deviation: 33.15121862114065\n",
      "Stock: JPM - Mean: 130.82944416269845 - Standard Deviation: 24.36054745236629\n"
     ]
    }
   ],
   "source": [
    "# Create a tuple of Mean and Std Deviation, for computation of multiple stocks\n",
    "import pandas as pd\n",
    "\n",
    "def get_dataframe_from_csv(filename):\n",
    "    df = pd.read_csv(filename)\n",
    "    return df\n",
    "\n",
    "def get_stats(stock):\n",
    "    df = get_dataframe_from_csv('{}.csv'.format(stock))\n",
    "    return df['Close'].mean(), df['Close'].std()\n",
    "\n",
    "stocks = [\"C\", \"BA\", \"JPM\"]\n",
    "for stock in stocks:\n",
    "    stats = get_stats(stock)\n",
    "    print(\"Stock: {} - Mean: {} - Standard Deviation: {}\".format(stock, stats[0], stats[1]))"
   ]
  },
  {
   "cell_type": "code",
   "execution_count": 9,
   "metadata": {},
   "outputs": [
    {
     "name": "stdout",
     "output_type": "stream",
     "text": [
      "Stock: C - Mean: 61.228293734127014 - Standard Deviation: 11.395878752517547 - Coefficient of Variation: 0.18612112240138726\n",
      "Stock: BA - Mean: 209.2396429166667 - Standard Deviation: 33.15121862114065 - Coefficient of Variation: 0.15843660483756272\n",
      "Stock: JPM - Mean: 130.82944416269845 - Standard Deviation: 24.36054745236629 - Coefficient of Variation: 0.18620080218388538\n"
     ]
    }
   ],
   "source": [
    "# Create Covariance and add to print tuple\n",
    "import pandas as pd\n",
    "\n",
    "def get_dataframe_from_csv(filename):\n",
    "    df = pd.read_csv(filename)\n",
    "    return df\n",
    "\n",
    "def get_stats(stock):\n",
    "    df = get_dataframe_from_csv('{}.csv'.format(stock))\n",
    "    mean = df['Close'].mean()\n",
    "    std = df['Close'].std()\n",
    "    cov = std / mean\n",
    "    return mean, std, cov\n",
    "\n",
    "stocks = [\"C\", \"BA\", \"JPM\"]\n",
    "for stock in stocks:\n",
    "    stats = get_stats(stock)\n",
    "    print(\"Stock: {} - Mean: {} - Standard Deviation: {} - Coefficient of Variation: {}\".format(stock, stats[0], stats[1], stats[2]))"
   ]
  },
  {
   "cell_type": "code",
   "execution_count": 10,
   "metadata": {},
   "outputs": [],
   "source": [
    "# Standard Deviation comparison with pandas and numpy\n",
    "stock = \"C\"\n",
    "df = get_dataframe_from_csv('{}.csv'.format(stock))"
   ]
  },
  {
   "cell_type": "code",
   "execution_count": 11,
   "metadata": {},
   "outputs": [
    {
     "name": "stdout",
     "output_type": "stream",
     "text": [
      "11.395878752517547\n"
     ]
    }
   ],
   "source": [
    "# SD with pandas\n",
    "print(df['Close'].std())"
   ]
  },
  {
   "cell_type": "code",
   "execution_count": 12,
   "metadata": {},
   "outputs": [
    {
     "name": "stdout",
     "output_type": "stream",
     "text": [
      "11.373245405940175\n"
     ]
    }
   ],
   "source": [
    "# SD with numpy, without correction\n",
    "import numpy as np\n",
    "print(np.std(df['Close']))"
   ]
  },
  {
   "cell_type": "code",
   "execution_count": 13,
   "metadata": {},
   "outputs": [
    {
     "name": "stdout",
     "output_type": "stream",
     "text": [
      "11.395878752517547\n"
     ]
    }
   ],
   "source": [
    "# SD with numpy, with correction of parameter\n",
    "import numpy as np\n",
    "print(np.std(df['Close'], ddof=1))"
   ]
  },
  {
   "cell_type": "code",
   "execution_count": 14,
   "metadata": {},
   "outputs": [
    {
     "data": {
      "image/png": "[encoded data removed]",
      "text/plain": [
       "<Figure size 432x288 with 1 Axes>"
      ]
     },
     "metadata": {
      "needs_background": "light"
     },
     "output_type": "display_data"
    }
   ],
   "source": [
    "import matplotlib.pyplot as plt\n",
    "\n",
    "data = df['Close']\n",
    "mean = df['Close'].mean()\n",
    "std = df['Close'].std()\n",
    "min_value = min(data)\n",
    "max_value = max(data)\n",
    "\n",
    "plt.title(\"C Dataset\")\n",
    "plt.ylim(min_value - 10, max_value + 70)\n",
    "plt.scatter(x=df.index, y=df['Close'])\n",
    "plt.hlines(y=mean, xmin=0, xmax=len(data))\n",
    "plt.show()"
   ]
  },
  {
   "cell_type": "code",
   "execution_count": null,
   "metadata": {},
   "outputs": [],
   "source": []
  },
  {
   "cell_type": "code",
   "execution_count": null,
   "metadata": {},
   "outputs": [],
   "source": []
  },
  {
   "cell_type": "code",
   "execution_count": null,
   "metadata": {},
   "outputs": [],
   "source": []
  },
  {
   "cell_type": "code",
   "execution_count": null,
   "metadata": {},
   "outputs": [],
   "source": []
  },
  {
   "cell_type": "code",
   "execution_count": null,
   "metadata": {},
   "outputs": [],
   "source": []
  }
 ],
 "metadata": {
  "colab": {
   "collapsed_sections": [],
   "name": "StdDev-pd.ipynb",
   "provenance": []
  },
  "kernelspec": {
   "display_name": "Python 3",
   "language": "python",
   "name": "python3"
  },
  "language_info": {
   "codemirror_mode": {
    "name": "ipython",
    "version": 3
   },
   "file_extension": ".py",
   "mimetype": "text/x-python",
   "name": "python",
   "nbconvert_exporter": "python",
   "pygments_lexer": "ipython3",
   "version": "3.8.5"
  }
 },
 "nbformat": 4,
 "nbformat_minor": 1
}
