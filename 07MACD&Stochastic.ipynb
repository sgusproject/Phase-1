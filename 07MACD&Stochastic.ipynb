{
 "cells": [
  {
   "cell_type": "markdown",
   "metadata": {},
   "source": [
    "# MACD & Stochastic Oscillator\n"
   ]
  },
  {
   "cell_type": "markdown",
   "metadata": {},
   "source": [
    "## MACD - Moving average convergence divergence\n",
    "<li>MACD is a lagging indicator when trading on the crossovers</li>\n",
    "<li>https://www.investopedia.com/terms/m/macd.asp</li>\n",
    "<li><b>Calculation:</b> Will be using default MACD parameters(12-26-9)</li>\n",
    "<li>MACD = 12-Period EMA - 26-Period EMA</li>\n",
    "<li>Signal Line 9-Period EMA</li>\n"
   ]
  },
  {
   "cell_type": "code",
   "execution_count": 1,
   "metadata": {},
   "outputs": [],
   "source": [
    "import pandas as pd\n",
    "import matplotlib.pyplot as plt\n",
    "# %matplotlib notebook"
   ]
  },
  {
   "cell_type": "code",
   "execution_count": 2,
   "metadata": {},
   "outputs": [],
   "source": [
    "data = pd.read_csv(\"BA.csv\", index_col=0, parse_dates=True) # using Boeing Corp data"
   ]
  },
  {
   "cell_type": "code",
   "execution_count": 3,
   "metadata": {},
   "outputs": [
    {
     "data": {
      "text/html": [
       "<div>\n",
       "<style scoped>\n",
       "    .dataframe tbody tr th:only-of-type {\n",
       "        vertical-align: middle;\n",
       "    }\n",
       "\n",
       "    .dataframe tbody tr th {\n",
       "        vertical-align: top;\n",
       "    }\n",
       "\n",
       "    .dataframe thead th {\n",
       "        text-align: right;\n",
       "    }\n",
       "</style>\n",
       "<table border=\"1\" class=\"dataframe\">\n",
       "  <thead>\n",
       "    <tr style=\"text-align: right;\">\n",
       "      <th></th>\n",
       "      <th>Open</th>\n",
       "      <th>High</th>\n",
       "      <th>Low</th>\n",
       "      <th>Close</th>\n",
       "      <th>Adj Close</th>\n",
       "      <th>Volume</th>\n",
       "    </tr>\n",
       "    <tr>\n",
       "      <th>Date</th>\n",
       "      <th></th>\n",
       "      <th></th>\n",
       "      <th></th>\n",
       "      <th></th>\n",
       "      <th></th>\n",
       "      <th></th>\n",
       "    </tr>\n",
       "  </thead>\n",
       "  <tbody>\n",
       "    <tr>\n",
       "      <th>2020-07-23</th>\n",
       "      <td>178.000000</td>\n",
       "      <td>182.500000</td>\n",
       "      <td>175.419998</td>\n",
       "      <td>176.449997</td>\n",
       "      <td>176.449997</td>\n",
       "      <td>29587200</td>\n",
       "    </tr>\n",
       "    <tr>\n",
       "      <th>2020-07-24</th>\n",
       "      <td>175.679993</td>\n",
       "      <td>181.100006</td>\n",
       "      <td>173.600006</td>\n",
       "      <td>173.759995</td>\n",
       "      <td>173.759995</td>\n",
       "      <td>28548000</td>\n",
       "    </tr>\n",
       "    <tr>\n",
       "      <th>2020-07-27</th>\n",
       "      <td>173.190002</td>\n",
       "      <td>174.139999</td>\n",
       "      <td>169.000000</td>\n",
       "      <td>170.210007</td>\n",
       "      <td>170.210007</td>\n",
       "      <td>30243800</td>\n",
       "    </tr>\n",
       "    <tr>\n",
       "      <th>2020-07-28</th>\n",
       "      <td>168.500000</td>\n",
       "      <td>173.740005</td>\n",
       "      <td>168.229996</td>\n",
       "      <td>170.839996</td>\n",
       "      <td>170.839996</td>\n",
       "      <td>25349100</td>\n",
       "    </tr>\n",
       "    <tr>\n",
       "      <th>2020-07-29</th>\n",
       "      <td>172.899994</td>\n",
       "      <td>173.009995</td>\n",
       "      <td>162.250000</td>\n",
       "      <td>166.009995</td>\n",
       "      <td>166.009995</td>\n",
       "      <td>51709600</td>\n",
       "    </tr>\n",
       "  </tbody>\n",
       "</table>\n",
       "</div>"
      ],
      "text/plain": [
       "                  Open        High         Low       Close   Adj Close  \\\n",
       "Date                                                                     \n",
       "2020-07-23  178.000000  182.500000  175.419998  176.449997  176.449997   \n",
       "2020-07-24  175.679993  181.100006  173.600006  173.759995  173.759995   \n",
       "2020-07-27  173.190002  174.139999  169.000000  170.210007  170.210007   \n",
       "2020-07-28  168.500000  173.740005  168.229996  170.839996  170.839996   \n",
       "2020-07-29  172.899994  173.009995  162.250000  166.009995  166.009995   \n",
       "\n",
       "              Volume  \n",
       "Date                  \n",
       "2020-07-23  29587200  \n",
       "2020-07-24  28548000  \n",
       "2020-07-27  30243800  \n",
       "2020-07-28  25349100  \n",
       "2020-07-29  51709600  "
      ]
     },
     "execution_count": 3,
     "metadata": {},
     "output_type": "execute_result"
    }
   ],
   "source": [
    "data.head()"
   ]
  },
  {
   "cell_type": "code",
   "execution_count": 4,
   "metadata": {},
   "outputs": [],
   "source": [
    "exp1 = data['Close'].ewm(span=12, adjust=False).mean()\n",
    "exp2 = data['Close'].ewm(span=26, adjust=False).mean()\n",
    "data['MACD'] = exp1 - exp2\n",
    "data['Signal Line'] = data['MACD'].ewm(span=9, adjust=False).mean()"
   ]
  },
  {
   "cell_type": "code",
   "execution_count": 5,
   "metadata": {},
   "outputs": [
    {
     "data": {
      "text/html": [
       "<div>\n",
       "<style scoped>\n",
       "    .dataframe tbody tr th:only-of-type {\n",
       "        vertical-align: middle;\n",
       "    }\n",
       "\n",
       "    .dataframe tbody tr th {\n",
       "        vertical-align: top;\n",
       "    }\n",
       "\n",
       "    .dataframe thead th {\n",
       "        text-align: right;\n",
       "    }\n",
       "</style>\n",
       "<table border=\"1\" class=\"dataframe\">\n",
       "  <thead>\n",
       "    <tr style=\"text-align: right;\">\n",
       "      <th></th>\n",
       "      <th>Open</th>\n",
       "      <th>High</th>\n",
       "      <th>Low</th>\n",
       "      <th>Close</th>\n",
       "      <th>Adj Close</th>\n",
       "      <th>Volume</th>\n",
       "      <th>MACD</th>\n",
       "      <th>Signal Line</th>\n",
       "    </tr>\n",
       "    <tr>\n",
       "      <th>Date</th>\n",
       "      <th></th>\n",
       "      <th></th>\n",
       "      <th></th>\n",
       "      <th></th>\n",
       "      <th></th>\n",
       "      <th></th>\n",
       "      <th></th>\n",
       "      <th></th>\n",
       "    </tr>\n",
       "  </thead>\n",
       "  <tbody>\n",
       "    <tr>\n",
       "      <th>2021-07-16</th>\n",
       "      <td>223.110001</td>\n",
       "      <td>224.000000</td>\n",
       "      <td>217.029999</td>\n",
       "      <td>217.740005</td>\n",
       "      <td>217.740005</td>\n",
       "      <td>12388900</td>\n",
       "      <td>-4.902169</td>\n",
       "      <td>-2.672019</td>\n",
       "    </tr>\n",
       "    <tr>\n",
       "      <th>2021-07-19</th>\n",
       "      <td>211.179993</td>\n",
       "      <td>211.550003</td>\n",
       "      <td>204.800003</td>\n",
       "      <td>206.990005</td>\n",
       "      <td>206.990005</td>\n",
       "      <td>24123600</td>\n",
       "      <td>-6.449561</td>\n",
       "      <td>-3.427528</td>\n",
       "    </tr>\n",
       "    <tr>\n",
       "      <th>2021-07-20</th>\n",
       "      <td>208.100006</td>\n",
       "      <td>217.369995</td>\n",
       "      <td>206.619995</td>\n",
       "      <td>217.149994</td>\n",
       "      <td>217.149994</td>\n",
       "      <td>17009300</td>\n",
       "      <td>-6.777923</td>\n",
       "      <td>-4.097607</td>\n",
       "    </tr>\n",
       "    <tr>\n",
       "      <th>2021-07-21</th>\n",
       "      <td>219.500000</td>\n",
       "      <td>224.089996</td>\n",
       "      <td>218.899994</td>\n",
       "      <td>222.539993</td>\n",
       "      <td>222.539993</td>\n",
       "      <td>11421000</td>\n",
       "      <td>-6.527974</td>\n",
       "      <td>-4.583680</td>\n",
       "    </tr>\n",
       "    <tr>\n",
       "      <th>2021-07-22</th>\n",
       "      <td>221.520004</td>\n",
       "      <td>222.250000</td>\n",
       "      <td>218.309998</td>\n",
       "      <td>220.869995</td>\n",
       "      <td>220.869995</td>\n",
       "      <td>9754300</td>\n",
       "      <td>-6.390971</td>\n",
       "      <td>-4.945138</td>\n",
       "    </tr>\n",
       "  </tbody>\n",
       "</table>\n",
       "</div>"
      ],
      "text/plain": [
       "                  Open        High         Low       Close   Adj Close  \\\n",
       "Date                                                                     \n",
       "2021-07-16  223.110001  224.000000  217.029999  217.740005  217.740005   \n",
       "2021-07-19  211.179993  211.550003  204.800003  206.990005  206.990005   \n",
       "2021-07-20  208.100006  217.369995  206.619995  217.149994  217.149994   \n",
       "2021-07-21  219.500000  224.089996  218.899994  222.539993  222.539993   \n",
       "2021-07-22  221.520004  222.250000  218.309998  220.869995  220.869995   \n",
       "\n",
       "              Volume      MACD  Signal Line  \n",
       "Date                                         \n",
       "2021-07-16  12388900 -4.902169    -2.672019  \n",
       "2021-07-19  24123600 -6.449561    -3.427528  \n",
       "2021-07-20  17009300 -6.777923    -4.097607  \n",
       "2021-07-21  11421000 -6.527974    -4.583680  \n",
       "2021-07-22   9754300 -6.390971    -4.945138  "
      ]
     },
     "execution_count": 5,
     "metadata": {},
     "output_type": "execute_result"
    }
   ],
   "source": [
    "data.tail()"
   ]
  },
  {
   "cell_type": "code",
   "execution_count": 6,
   "metadata": {},
   "outputs": [
    {
     "data": {
      "text/plain": [
       "<AxesSubplot:label='8d63eda3-0dad-4fe5-8d8e-708a3a8b991c'>"
      ]
     },
     "execution_count": 6,
     "metadata": {},
     "output_type": "execute_result"
    },
    {
     "data": {
      "image/png": "[encoded data removed]",
      "text/plain": [
       "<Figure size 432x288 with 2 Axes>"
      ]
     },
     "metadata": {
      "needs_background": "light"
     },
     "output_type": "display_data"
    }
   ],
   "source": [
    "fig, ax = plt.subplots()\n",
    "data[['MACD', 'Signal Line']].plot(ax=ax)\n",
    "data['Close'].plot(ax=ax, alpha=0.25, secondary_y=True)"
   ]
  },
  {
   "cell_type": "markdown",
   "metadata": {},
   "source": [
    "## Stochastic Oscillator\n",
    "<li>Lagging Indicator</li>\n",
    "<li>https://www.investopedia.com/terms/s/stochasticoscillator.asp</li>\n",
    "<li>14-high: Maximum of last 14 trading days</li>\n",
    "<li>14-low: Minimum of last 14 trading days</li>\n",
    "<li>%K: (Last close - 14-low)*100/(14-high - 14-low)</li>\n",
    "<li>%D: Simple Moving Average of %K</li>"
   ]
  },
  {
   "cell_type": "code",
   "execution_count": 7,
   "metadata": {},
   "outputs": [],
   "source": [
    "high14 = data['High'].rolling(14).max()\n",
    "low14 = data['Low'].rolling(14).min()\n",
    "data['%K'] = (data['Close'] - low14)*100/(high14 - low14)\n",
    "data['%D'] = data['%K'].rolling(3).mean()"
   ]
  },
  {
   "cell_type": "code",
   "execution_count": 8,
   "metadata": {},
   "outputs": [
    {
     "data": {
      "text/html": [
       "<div>\n",
       "<style scoped>\n",
       "    .dataframe tbody tr th:only-of-type {\n",
       "        vertical-align: middle;\n",
       "    }\n",
       "\n",
       "    .dataframe tbody tr th {\n",
       "        vertical-align: top;\n",
       "    }\n",
       "\n",
       "    .dataframe thead th {\n",
       "        text-align: right;\n",
       "    }\n",
       "</style>\n",
       "<table border=\"1\" class=\"dataframe\">\n",
       "  <thead>\n",
       "    <tr style=\"text-align: right;\">\n",
       "      <th></th>\n",
       "      <th>Open</th>\n",
       "      <th>High</th>\n",
       "      <th>Low</th>\n",
       "      <th>Close</th>\n",
       "      <th>Adj Close</th>\n",
       "      <th>Volume</th>\n",
       "      <th>MACD</th>\n",
       "      <th>Signal Line</th>\n",
       "      <th>%K</th>\n",
       "      <th>%D</th>\n",
       "    </tr>\n",
       "    <tr>\n",
       "      <th>Date</th>\n",
       "      <th></th>\n",
       "      <th></th>\n",
       "      <th></th>\n",
       "      <th></th>\n",
       "      <th></th>\n",
       "      <th></th>\n",
       "      <th></th>\n",
       "      <th></th>\n",
       "      <th></th>\n",
       "      <th></th>\n",
       "    </tr>\n",
       "  </thead>\n",
       "  <tbody>\n",
       "    <tr>\n",
       "      <th>2021-07-16</th>\n",
       "      <td>223.110001</td>\n",
       "      <td>224.000000</td>\n",
       "      <td>217.029999</td>\n",
       "      <td>217.740005</td>\n",
       "      <td>217.740005</td>\n",
       "      <td>12388900</td>\n",
       "      <td>-4.902169</td>\n",
       "      <td>-2.672019</td>\n",
       "      <td>2.531215</td>\n",
       "      <td>3.096368</td>\n",
       "    </tr>\n",
       "    <tr>\n",
       "      <th>2021-07-19</th>\n",
       "      <td>211.179993</td>\n",
       "      <td>211.550003</td>\n",
       "      <td>204.800003</td>\n",
       "      <td>206.990005</td>\n",
       "      <td>206.990005</td>\n",
       "      <td>24123600</td>\n",
       "      <td>-6.449561</td>\n",
       "      <td>-3.427528</td>\n",
       "      <td>5.534502</td>\n",
       "      <td>4.762638</td>\n",
       "    </tr>\n",
       "    <tr>\n",
       "      <th>2021-07-20</th>\n",
       "      <td>208.100006</td>\n",
       "      <td>217.369995</td>\n",
       "      <td>206.619995</td>\n",
       "      <td>217.149994</td>\n",
       "      <td>217.149994</td>\n",
       "      <td>17009300</td>\n",
       "      <td>-6.777923</td>\n",
       "      <td>-4.097607</td>\n",
       "      <td>33.378354</td>\n",
       "      <td>13.814690</td>\n",
       "    </tr>\n",
       "    <tr>\n",
       "      <th>2021-07-21</th>\n",
       "      <td>219.500000</td>\n",
       "      <td>224.089996</td>\n",
       "      <td>218.899994</td>\n",
       "      <td>222.539993</td>\n",
       "      <td>222.539993</td>\n",
       "      <td>11421000</td>\n",
       "      <td>-6.527974</td>\n",
       "      <td>-4.583680</td>\n",
       "      <td>47.945919</td>\n",
       "      <td>28.952925</td>\n",
       "    </tr>\n",
       "    <tr>\n",
       "      <th>2021-07-22</th>\n",
       "      <td>221.520004</td>\n",
       "      <td>222.250000</td>\n",
       "      <td>218.309998</td>\n",
       "      <td>220.869995</td>\n",
       "      <td>220.869995</td>\n",
       "      <td>9754300</td>\n",
       "      <td>-6.390971</td>\n",
       "      <td>-4.945138</td>\n",
       "      <td>44.676096</td>\n",
       "      <td>42.000123</td>\n",
       "    </tr>\n",
       "  </tbody>\n",
       "</table>\n",
       "</div>"
      ],
      "text/plain": [
       "                  Open        High         Low       Close   Adj Close  \\\n",
       "Date                                                                     \n",
       "2021-07-16  223.110001  224.000000  217.029999  217.740005  217.740005   \n",
       "2021-07-19  211.179993  211.550003  204.800003  206.990005  206.990005   \n",
       "2021-07-20  208.100006  217.369995  206.619995  217.149994  217.149994   \n",
       "2021-07-21  219.500000  224.089996  218.899994  222.539993  222.539993   \n",
       "2021-07-22  221.520004  222.250000  218.309998  220.869995  220.869995   \n",
       "\n",
       "              Volume      MACD  Signal Line         %K         %D  \n",
       "Date                                                               \n",
       "2021-07-16  12388900 -4.902169    -2.672019   2.531215   3.096368  \n",
       "2021-07-19  24123600 -6.449561    -3.427528   5.534502   4.762638  \n",
       "2021-07-20  17009300 -6.777923    -4.097607  33.378354  13.814690  \n",
       "2021-07-21  11421000 -6.527974    -4.583680  47.945919  28.952925  \n",
       "2021-07-22   9754300 -6.390971    -4.945138  44.676096  42.000123  "
      ]
     },
     "execution_count": 8,
     "metadata": {},
     "output_type": "execute_result"
    }
   ],
   "source": [
    "data.tail()"
   ]
  },
  {
   "cell_type": "code",
   "execution_count": 9,
   "metadata": {},
   "outputs": [
    {
     "data": {
      "text/plain": [
       "<AxesSubplot:label='fdc4ddc0-b804-4fed-9eaa-5faf1fc61502'>"
      ]
     },
     "execution_count": 9,
     "metadata": {},
     "output_type": "execute_result"
    },
    {
     "data": {
      "image/png": "[encoded data removed]",
      "text/plain": [
       "<Figure size 432x288 with 2 Axes>"
      ]
     },
     "metadata": {
      "needs_background": "light"
     },
     "output_type": "display_data"
    }
   ],
   "source": [
    "fig, ax = plt.subplots()\n",
    "data[['%K', '%D']].loc['2021-05-01':].plot(ax=ax)\n",
    "ax.axhline(80, c='y', alpha=0.3)\n",
    "ax.axhline(20, c='y', alpha=0.3)\n",
    "data['Close'].loc['2021-05-01':].plot(ax=ax, alpha=0.3, secondary_y=True)"
   ]
  },
  {
   "cell_type": "code",
   "execution_count": null,
   "metadata": {},
   "outputs": [],
   "source": []
  },
  {
   "cell_type": "code",
   "execution_count": null,
   "metadata": {},
   "outputs": [],
   "source": []
  },
  {
   "cell_type": "code",
   "execution_count": null,
   "metadata": {},
   "outputs": [],
   "source": []
  },
  {
   "cell_type": "code",
   "execution_count": null,
   "metadata": {},
   "outputs": [],
   "source": []
  },
  {
   "cell_type": "code",
   "execution_count": null,
   "metadata": {},
   "outputs": [],
   "source": []
  },
  {
   "cell_type": "code",
   "execution_count": null,
   "metadata": {},
   "outputs": [],
   "source": []
  }
 ],
 "metadata": {
  "kernelspec": {
   "display_name": "Python 3",
   "language": "python",
   "name": "python3"
  },
  "language_info": {
   "codemirror_mode": {
    "name": "ipython",
    "version": 3
   },
   "file_extension": ".py",
   "mimetype": "text/x-python",
   "name": "python",
   "nbconvert_exporter": "python",
   "pygments_lexer": "ipython3",
   "version": "3.8.5"
  }
 },
 "nbformat": 4,
 "nbformat_minor": 4
}
