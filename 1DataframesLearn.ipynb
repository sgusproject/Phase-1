{
  "nbformat": 4,
  "nbformat_minor": 0,
  "metadata": {
    "colab": {
      "name": "DataframesLearn1.ipynb",
      "provenance": [],
      "collapsed_sections": [],
      "mount_file_id": "1YYXJ00bNdAngPkvLoTGsunhsX09wst3K",
      "authorship_tag": "ABX9TyOV3xUrZnqkuamqF+7KwA+s",
      "include_colab_link": true
    },
    "kernelspec": {
      "name": "python3",
      "display_name": "Python 3"
    },
    "language_info": {
      "name": "python"
    }
  },
  "cells": [
    {
      "cell_type": "markdown",
      "metadata": {
        "id": "view-in-github",
        "colab_type": "text"
      },
      "source": [
        "<a href=\"https://colab.research.google.com/github/sgusproject/Algotrading-Quantconnect/blob/main/DataframesLearn1.ipynb\" target=\"_parent\"><img src=\"https://colab.research.google.com/assets/colab-badge.svg\" alt=\"Open In Colab\"/></a>"
      ]
    },
    {
      "cell_type": "markdown",
      "metadata": {
        "id": "DlPTX-f2uhBE"
      },
      "source": [
        "# Introduction to Dataframes\n",
        "\n",
        "*   Read data from CSV (downloaded from Yahoo! Finance)\n",
        "*   Understand data types\n",
        "*   Set Index\n",
        "*   Parse dates\n",
        "*   Use Index with loc\n",
        "*   Use indexing with iloc"
      ]
    },
    {
      "cell_type": "code",
      "metadata": {
        "id": "uuqTOB58Dmua"
      },
      "source": [
        "import pandas as pd"
      ],
      "execution_count": null,
      "outputs": []
    },
    {
      "cell_type": "code",
      "metadata": {
        "id": "mSACIYnJoLs8"
      },
      "source": [
        "# access pandas module/library for data\n",
        "data = pd.read_csv(\"C.csv\", index_col=0, parse_dates=True)"
      ],
      "execution_count": null,
      "outputs": []
    },
    {
      "cell_type": "code",
      "metadata": {
        "colab": {
          "base_uri": "https://localhost:8080/",
          "height": 234
        },
        "id": "WXX0yDG8qYlF",
        "outputId": "4279b2d2-80a5-4cb1-e43b-4fa09d6f82b3"
      },
      "source": [
        "data.head()"
      ],
      "execution_count": null,
      "outputs": [
        {
          "output_type": "execute_result",
          "data": {
            "text/html": [
              "<div>\n",
              "<style scoped>\n",
              "    .dataframe tbody tr th:only-of-type {\n",
              "        vertical-align: middle;\n",
              "    }\n",
              "\n",
              "    .dataframe tbody tr th {\n",
              "        vertical-align: top;\n",
              "    }\n",
              "\n",
              "    .dataframe thead th {\n",
              "        text-align: right;\n",
              "    }\n",
              "</style>\n",
              "<table border=\"1\" class=\"dataframe\">\n",
              "  <thead>\n",
              "    <tr style=\"text-align: right;\">\n",
              "      <th></th>\n",
              "      <th>Open</th>\n",
              "      <th>High</th>\n",
              "      <th>Low</th>\n",
              "      <th>Close</th>\n",
              "      <th>Adj Close</th>\n",
              "      <th>Volume</th>\n",
              "    </tr>\n",
              "    <tr>\n",
              "      <th>Date</th>\n",
              "      <th></th>\n",
              "      <th></th>\n",
              "      <th></th>\n",
              "      <th></th>\n",
              "      <th></th>\n",
              "      <th></th>\n",
              "    </tr>\n",
              "  </thead>\n",
              "  <tbody>\n",
              "    <tr>\n",
              "      <th>7/23/2020</th>\n",
              "      <td>51.450001</td>\n",
              "      <td>52.230000</td>\n",
              "      <td>51.130001</td>\n",
              "      <td>52.080002</td>\n",
              "      <td>50.147495</td>\n",
              "      <td>17090400</td>\n",
              "    </tr>\n",
              "    <tr>\n",
              "      <th>7/24/2020</th>\n",
              "      <td>52.099998</td>\n",
              "      <td>52.480000</td>\n",
              "      <td>51.500000</td>\n",
              "      <td>51.669998</td>\n",
              "      <td>49.752705</td>\n",
              "      <td>16258900</td>\n",
              "    </tr>\n",
              "    <tr>\n",
              "      <th>7/27/2020</th>\n",
              "      <td>51.459999</td>\n",
              "      <td>51.459999</td>\n",
              "      <td>50.610001</td>\n",
              "      <td>51.290001</td>\n",
              "      <td>49.386806</td>\n",
              "      <td>13991400</td>\n",
              "    </tr>\n",
              "    <tr>\n",
              "      <th>7/28/2020</th>\n",
              "      <td>51.020000</td>\n",
              "      <td>51.660000</td>\n",
              "      <td>50.970001</td>\n",
              "      <td>51.270000</td>\n",
              "      <td>49.367554</td>\n",
              "      <td>13121400</td>\n",
              "    </tr>\n",
              "    <tr>\n",
              "      <th>7/29/2020</th>\n",
              "      <td>51.169998</td>\n",
              "      <td>52.590000</td>\n",
              "      <td>50.990002</td>\n",
              "      <td>52.520000</td>\n",
              "      <td>50.571167</td>\n",
              "      <td>16991000</td>\n",
              "    </tr>\n",
              "  </tbody>\n",
              "</table>\n",
              "</div>"
            ],
            "text/plain": [
              "                Open       High        Low      Close  Adj Close    Volume\n",
              "Date                                                                      \n",
              "7/23/2020  51.450001  52.230000  51.130001  52.080002  50.147495  17090400\n",
              "7/24/2020  52.099998  52.480000  51.500000  51.669998  49.752705  16258900\n",
              "7/27/2020  51.459999  51.459999  50.610001  51.290001  49.386806  13991400\n",
              "7/28/2020  51.020000  51.660000  50.970001  51.270000  49.367554  13121400\n",
              "7/29/2020  51.169998  52.590000  50.990002  52.520000  50.571167  16991000"
            ]
          },
          "metadata": {
            "tags": []
          },
          "execution_count": 12
        }
      ]
    },
    {
      "cell_type": "code",
      "metadata": {
        "colab": {
          "base_uri": "https://localhost:8080/"
        },
        "id": "xl-IjkH0qfCk",
        "outputId": "2ad4fbb0-ba70-4ebd-bd48-257f3140d26d"
      },
      "source": [
        "data.dtypes"
      ],
      "execution_count": null,
      "outputs": [
        {
          "output_type": "execute_result",
          "data": {
            "text/plain": [
              "Open         float64\n",
              "High         float64\n",
              "Low          float64\n",
              "Close        float64\n",
              "Adj Close    float64\n",
              "Volume         int64\n",
              "dtype: object"
            ]
          },
          "metadata": {
            "tags": []
          },
          "execution_count": 17
        }
      ]
    },
    {
      "cell_type": "code",
      "metadata": {
        "colab": {
          "base_uri": "https://localhost:8080/"
        },
        "id": "9a7JgIjHqm60",
        "outputId": "d5cfda91-1b7b-4af8-fccc-1a2ba470330d"
      },
      "source": [
        "data.index"
      ],
      "execution_count": null,
      "outputs": [
        {
          "output_type": "execute_result",
          "data": {
            "text/plain": [
              "DatetimeIndex(['2020-07-23', '2020-07-24', '2020-07-27', '2020-07-28',\n",
              "               '2020-07-29', '2020-07-30', '2020-07-31', '2020-08-03',\n",
              "               '2020-08-04', '2020-08-05',\n",
              "               ...\n",
              "               '2021-07-09', '2021-07-12', '2021-07-13', '2021-07-14',\n",
              "               '2021-07-15', '2021-07-16', '2021-07-19', '2021-07-20',\n",
              "               '2021-07-21', '2021-07-22'],\n",
              "              dtype='datetime64[ns]', name='Date', length=252, freq=None)"
            ]
          },
          "metadata": {
            "tags": []
          },
          "execution_count": 18
        }
      ]
    },
    {
      "cell_type": "code",
      "metadata": {
        "colab": {
          "base_uri": "https://localhost:8080/"
        },
        "id": "DfArgJGhsuYn",
        "outputId": "09b6a177-5c02-43a4-8ee7-181fb0f42d9c"
      },
      "source": [
        "data.loc['2020-07-23']"
      ],
      "execution_count": null,
      "outputs": [
        {
          "output_type": "execute_result",
          "data": {
            "text/plain": [
              "Open         5.145000e+01\n",
              "High         5.223000e+01\n",
              "Low          5.113000e+01\n",
              "Close        5.208000e+01\n",
              "Adj Close    5.014749e+01\n",
              "Volume       1.709040e+07\n",
              "Name: 2020-07-23 00:00:00, dtype: float64"
            ]
          },
          "metadata": {
            "tags": []
          },
          "execution_count": 19
        }
      ]
    },
    {
      "cell_type": "code",
      "metadata": {
        "colab": {
          "base_uri": "https://localhost:8080/",
          "height": 447
        },
        "id": "RCGlmIdVtNTt",
        "outputId": "f36f0941-d914-4aa9-c4f4-f4c29fb8ce86"
      },
      "source": [
        "data.loc[:'2021-01-11']"
      ],
      "execution_count": null,
      "outputs": [
        {
          "output_type": "execute_result",
          "data": {
            "text/html": [
              "<div>\n",
              "<style scoped>\n",
              "    .dataframe tbody tr th:only-of-type {\n",
              "        vertical-align: middle;\n",
              "    }\n",
              "\n",
              "    .dataframe tbody tr th {\n",
              "        vertical-align: top;\n",
              "    }\n",
              "\n",
              "    .dataframe thead th {\n",
              "        text-align: right;\n",
              "    }\n",
              "</style>\n",
              "<table border=\"1\" class=\"dataframe\">\n",
              "  <thead>\n",
              "    <tr style=\"text-align: right;\">\n",
              "      <th></th>\n",
              "      <th>Open</th>\n",
              "      <th>High</th>\n",
              "      <th>Low</th>\n",
              "      <th>Close</th>\n",
              "      <th>Adj Close</th>\n",
              "      <th>Volume</th>\n",
              "    </tr>\n",
              "    <tr>\n",
              "      <th>Date</th>\n",
              "      <th></th>\n",
              "      <th></th>\n",
              "      <th></th>\n",
              "      <th></th>\n",
              "      <th></th>\n",
              "      <th></th>\n",
              "    </tr>\n",
              "  </thead>\n",
              "  <tbody>\n",
              "    <tr>\n",
              "      <th>2020-07-23</th>\n",
              "      <td>51.450001</td>\n",
              "      <td>52.230000</td>\n",
              "      <td>51.130001</td>\n",
              "      <td>52.080002</td>\n",
              "      <td>50.147495</td>\n",
              "      <td>17090400</td>\n",
              "    </tr>\n",
              "    <tr>\n",
              "      <th>2020-07-24</th>\n",
              "      <td>52.099998</td>\n",
              "      <td>52.480000</td>\n",
              "      <td>51.500000</td>\n",
              "      <td>51.669998</td>\n",
              "      <td>49.752705</td>\n",
              "      <td>16258900</td>\n",
              "    </tr>\n",
              "    <tr>\n",
              "      <th>2020-07-27</th>\n",
              "      <td>51.459999</td>\n",
              "      <td>51.459999</td>\n",
              "      <td>50.610001</td>\n",
              "      <td>51.290001</td>\n",
              "      <td>49.386806</td>\n",
              "      <td>13991400</td>\n",
              "    </tr>\n",
              "    <tr>\n",
              "      <th>2020-07-28</th>\n",
              "      <td>51.020000</td>\n",
              "      <td>51.660000</td>\n",
              "      <td>50.970001</td>\n",
              "      <td>51.270000</td>\n",
              "      <td>49.367554</td>\n",
              "      <td>13121400</td>\n",
              "    </tr>\n",
              "    <tr>\n",
              "      <th>2020-07-29</th>\n",
              "      <td>51.169998</td>\n",
              "      <td>52.590000</td>\n",
              "      <td>50.990002</td>\n",
              "      <td>52.520000</td>\n",
              "      <td>50.571167</td>\n",
              "      <td>16991000</td>\n",
              "    </tr>\n",
              "    <tr>\n",
              "      <th>...</th>\n",
              "      <td>...</td>\n",
              "      <td>...</td>\n",
              "      <td>...</td>\n",
              "      <td>...</td>\n",
              "      <td>...</td>\n",
              "      <td>...</td>\n",
              "    </tr>\n",
              "    <tr>\n",
              "      <th>2021-01-05</th>\n",
              "      <td>60.349998</td>\n",
              "      <td>62.000000</td>\n",
              "      <td>60.020000</td>\n",
              "      <td>61.700001</td>\n",
              "      <td>60.755959</td>\n",
              "      <td>20213100</td>\n",
              "    </tr>\n",
              "    <tr>\n",
              "      <th>2021-01-06</th>\n",
              "      <td>64.489998</td>\n",
              "      <td>66.599998</td>\n",
              "      <td>63.950001</td>\n",
              "      <td>65.250000</td>\n",
              "      <td>64.251640</td>\n",
              "      <td>38106600</td>\n",
              "    </tr>\n",
              "    <tr>\n",
              "      <th>2021-01-07</th>\n",
              "      <td>67.070000</td>\n",
              "      <td>68.099998</td>\n",
              "      <td>66.010002</td>\n",
              "      <td>66.019997</td>\n",
              "      <td>65.009857</td>\n",
              "      <td>24161000</td>\n",
              "    </tr>\n",
              "    <tr>\n",
              "      <th>2021-01-08</th>\n",
              "      <td>66.209999</td>\n",
              "      <td>66.209999</td>\n",
              "      <td>64.339996</td>\n",
              "      <td>65.370003</td>\n",
              "      <td>64.369804</td>\n",
              "      <td>20747800</td>\n",
              "    </tr>\n",
              "    <tr>\n",
              "      <th>2021-01-11</th>\n",
              "      <td>64.580002</td>\n",
              "      <td>66.620003</td>\n",
              "      <td>64.330002</td>\n",
              "      <td>66.440002</td>\n",
              "      <td>65.423431</td>\n",
              "      <td>20454000</td>\n",
              "    </tr>\n",
              "  </tbody>\n",
              "</table>\n",
              "<p>119 rows × 6 columns</p>\n",
              "</div>"
            ],
            "text/plain": [
              "                 Open       High        Low      Close  Adj Close    Volume\n",
              "Date                                                                       \n",
              "2020-07-23  51.450001  52.230000  51.130001  52.080002  50.147495  17090400\n",
              "2020-07-24  52.099998  52.480000  51.500000  51.669998  49.752705  16258900\n",
              "2020-07-27  51.459999  51.459999  50.610001  51.290001  49.386806  13991400\n",
              "2020-07-28  51.020000  51.660000  50.970001  51.270000  49.367554  13121400\n",
              "2020-07-29  51.169998  52.590000  50.990002  52.520000  50.571167  16991000\n",
              "...               ...        ...        ...        ...        ...       ...\n",
              "2021-01-05  60.349998  62.000000  60.020000  61.700001  60.755959  20213100\n",
              "2021-01-06  64.489998  66.599998  63.950001  65.250000  64.251640  38106600\n",
              "2021-01-07  67.070000  68.099998  66.010002  66.019997  65.009857  24161000\n",
              "2021-01-08  66.209999  66.209999  64.339996  65.370003  64.369804  20747800\n",
              "2021-01-11  64.580002  66.620003  64.330002  66.440002  65.423431  20454000\n",
              "\n",
              "[119 rows x 6 columns]"
            ]
          },
          "metadata": {
            "tags": []
          },
          "execution_count": 24
        }
      ]
    },
    {
      "cell_type": "code",
      "metadata": {
        "colab": {
          "base_uri": "https://localhost:8080/",
          "height": 447
        },
        "id": "UOvQ8YJivcbl",
        "outputId": "82a1d742-749a-4547-9381-b315b137f683"
      },
      "source": [
        "data.loc['2021-01-11':]"
      ],
      "execution_count": null,
      "outputs": [
        {
          "output_type": "execute_result",
          "data": {
            "text/html": [
              "<div>\n",
              "<style scoped>\n",
              "    .dataframe tbody tr th:only-of-type {\n",
              "        vertical-align: middle;\n",
              "    }\n",
              "\n",
              "    .dataframe tbody tr th {\n",
              "        vertical-align: top;\n",
              "    }\n",
              "\n",
              "    .dataframe thead th {\n",
              "        text-align: right;\n",
              "    }\n",
              "</style>\n",
              "<table border=\"1\" class=\"dataframe\">\n",
              "  <thead>\n",
              "    <tr style=\"text-align: right;\">\n",
              "      <th></th>\n",
              "      <th>Open</th>\n",
              "      <th>High</th>\n",
              "      <th>Low</th>\n",
              "      <th>Close</th>\n",
              "      <th>Adj Close</th>\n",
              "      <th>Volume</th>\n",
              "    </tr>\n",
              "    <tr>\n",
              "      <th>Date</th>\n",
              "      <th></th>\n",
              "      <th></th>\n",
              "      <th></th>\n",
              "      <th></th>\n",
              "      <th></th>\n",
              "      <th></th>\n",
              "    </tr>\n",
              "  </thead>\n",
              "  <tbody>\n",
              "    <tr>\n",
              "      <th>2021-01-11</th>\n",
              "      <td>64.580002</td>\n",
              "      <td>66.620003</td>\n",
              "      <td>64.330002</td>\n",
              "      <td>66.440002</td>\n",
              "      <td>65.423431</td>\n",
              "      <td>20454000</td>\n",
              "    </tr>\n",
              "    <tr>\n",
              "      <th>2021-01-12</th>\n",
              "      <td>67.489998</td>\n",
              "      <td>67.739998</td>\n",
              "      <td>66.239998</td>\n",
              "      <td>66.669998</td>\n",
              "      <td>65.649918</td>\n",
              "      <td>20162800</td>\n",
              "    </tr>\n",
              "    <tr>\n",
              "      <th>2021-01-13</th>\n",
              "      <td>67.000000</td>\n",
              "      <td>67.220001</td>\n",
              "      <td>65.989998</td>\n",
              "      <td>66.860001</td>\n",
              "      <td>65.837006</td>\n",
              "      <td>18541900</td>\n",
              "    </tr>\n",
              "    <tr>\n",
              "      <th>2021-01-14</th>\n",
              "      <td>67.519997</td>\n",
              "      <td>69.430000</td>\n",
              "      <td>67.169998</td>\n",
              "      <td>69.010002</td>\n",
              "      <td>67.954109</td>\n",
              "      <td>29108900</td>\n",
              "    </tr>\n",
              "    <tr>\n",
              "      <th>2021-01-15</th>\n",
              "      <td>67.370003</td>\n",
              "      <td>67.650002</td>\n",
              "      <td>64.089996</td>\n",
              "      <td>64.230003</td>\n",
              "      <td>63.247246</td>\n",
              "      <td>38295300</td>\n",
              "    </tr>\n",
              "    <tr>\n",
              "      <th>...</th>\n",
              "      <td>...</td>\n",
              "      <td>...</td>\n",
              "      <td>...</td>\n",
              "      <td>...</td>\n",
              "      <td>...</td>\n",
              "      <td>...</td>\n",
              "    </tr>\n",
              "    <tr>\n",
              "      <th>2021-07-16</th>\n",
              "      <td>68.709999</td>\n",
              "      <td>68.760002</td>\n",
              "      <td>66.419998</td>\n",
              "      <td>66.900002</td>\n",
              "      <td>66.900002</td>\n",
              "      <td>19278900</td>\n",
              "    </tr>\n",
              "    <tr>\n",
              "      <th>2021-07-19</th>\n",
              "      <td>65.459999</td>\n",
              "      <td>66.070000</td>\n",
              "      <td>64.360001</td>\n",
              "      <td>65.080002</td>\n",
              "      <td>65.080002</td>\n",
              "      <td>33318600</td>\n",
              "    </tr>\n",
              "    <tr>\n",
              "      <th>2021-07-20</th>\n",
              "      <td>65.180000</td>\n",
              "      <td>66.779999</td>\n",
              "      <td>64.779999</td>\n",
              "      <td>66.290001</td>\n",
              "      <td>66.290001</td>\n",
              "      <td>20568400</td>\n",
              "    </tr>\n",
              "    <tr>\n",
              "      <th>2021-07-21</th>\n",
              "      <td>67.010002</td>\n",
              "      <td>68.250000</td>\n",
              "      <td>66.930000</td>\n",
              "      <td>67.889999</td>\n",
              "      <td>67.889999</td>\n",
              "      <td>23387300</td>\n",
              "    </tr>\n",
              "    <tr>\n",
              "      <th>2021-07-22</th>\n",
              "      <td>67.750000</td>\n",
              "      <td>67.790001</td>\n",
              "      <td>66.410004</td>\n",
              "      <td>66.930000</td>\n",
              "      <td>66.930000</td>\n",
              "      <td>15693622</td>\n",
              "    </tr>\n",
              "  </tbody>\n",
              "</table>\n",
              "<p>134 rows × 6 columns</p>\n",
              "</div>"
            ],
            "text/plain": [
              "                 Open       High        Low      Close  Adj Close    Volume\n",
              "Date                                                                       \n",
              "2021-01-11  64.580002  66.620003  64.330002  66.440002  65.423431  20454000\n",
              "2021-01-12  67.489998  67.739998  66.239998  66.669998  65.649918  20162800\n",
              "2021-01-13  67.000000  67.220001  65.989998  66.860001  65.837006  18541900\n",
              "2021-01-14  67.519997  69.430000  67.169998  69.010002  67.954109  29108900\n",
              "2021-01-15  67.370003  67.650002  64.089996  64.230003  63.247246  38295300\n",
              "...               ...        ...        ...        ...        ...       ...\n",
              "2021-07-16  68.709999  68.760002  66.419998  66.900002  66.900002  19278900\n",
              "2021-07-19  65.459999  66.070000  64.360001  65.080002  65.080002  33318600\n",
              "2021-07-20  65.180000  66.779999  64.779999  66.290001  66.290001  20568400\n",
              "2021-07-21  67.010002  68.250000  66.930000  67.889999  67.889999  23387300\n",
              "2021-07-22  67.750000  67.790001  66.410004  66.930000  66.930000  15693622\n",
              "\n",
              "[134 rows x 6 columns]"
            ]
          },
          "metadata": {
            "tags": []
          },
          "execution_count": 28
        }
      ]
    },
    {
      "cell_type": "code",
      "metadata": {
        "colab": {
          "base_uri": "https://localhost:8080/",
          "height": 388
        },
        "id": "kyzJr2f8viNX",
        "outputId": "ec92143a-4d2a-4c13-bab0-481bcc14a6dc"
      },
      "source": [
        "data.loc['2020-12-20':'2021-01-05']"
      ],
      "execution_count": null,
      "outputs": [
        {
          "output_type": "execute_result",
          "data": {
            "text/html": [
              "<div>\n",
              "<style scoped>\n",
              "    .dataframe tbody tr th:only-of-type {\n",
              "        vertical-align: middle;\n",
              "    }\n",
              "\n",
              "    .dataframe tbody tr th {\n",
              "        vertical-align: top;\n",
              "    }\n",
              "\n",
              "    .dataframe thead th {\n",
              "        text-align: right;\n",
              "    }\n",
              "</style>\n",
              "<table border=\"1\" class=\"dataframe\">\n",
              "  <thead>\n",
              "    <tr style=\"text-align: right;\">\n",
              "      <th></th>\n",
              "      <th>Open</th>\n",
              "      <th>High</th>\n",
              "      <th>Low</th>\n",
              "      <th>Close</th>\n",
              "      <th>Adj Close</th>\n",
              "      <th>Volume</th>\n",
              "    </tr>\n",
              "    <tr>\n",
              "      <th>Date</th>\n",
              "      <th></th>\n",
              "      <th></th>\n",
              "      <th></th>\n",
              "      <th></th>\n",
              "      <th></th>\n",
              "      <th></th>\n",
              "    </tr>\n",
              "  </thead>\n",
              "  <tbody>\n",
              "    <tr>\n",
              "      <th>2020-12-21</th>\n",
              "      <td>60.349998</td>\n",
              "      <td>61.820000</td>\n",
              "      <td>59.810001</td>\n",
              "      <td>61.230000</td>\n",
              "      <td>60.293144</td>\n",
              "      <td>31906100</td>\n",
              "    </tr>\n",
              "    <tr>\n",
              "      <th>2020-12-22</th>\n",
              "      <td>61.099998</td>\n",
              "      <td>61.139999</td>\n",
              "      <td>59.160000</td>\n",
              "      <td>59.259998</td>\n",
              "      <td>58.353287</td>\n",
              "      <td>17851600</td>\n",
              "    </tr>\n",
              "    <tr>\n",
              "      <th>2020-12-23</th>\n",
              "      <td>60.000000</td>\n",
              "      <td>61.310001</td>\n",
              "      <td>59.790001</td>\n",
              "      <td>60.779999</td>\n",
              "      <td>59.850029</td>\n",
              "      <td>16579100</td>\n",
              "    </tr>\n",
              "    <tr>\n",
              "      <th>2020-12-24</th>\n",
              "      <td>60.930000</td>\n",
              "      <td>61.090000</td>\n",
              "      <td>59.880001</td>\n",
              "      <td>60.570000</td>\n",
              "      <td>59.643246</td>\n",
              "      <td>6824400</td>\n",
              "    </tr>\n",
              "    <tr>\n",
              "      <th>2020-12-28</th>\n",
              "      <td>60.619999</td>\n",
              "      <td>61.930000</td>\n",
              "      <td>60.490002</td>\n",
              "      <td>61.130001</td>\n",
              "      <td>60.194679</td>\n",
              "      <td>14414600</td>\n",
              "    </tr>\n",
              "    <tr>\n",
              "      <th>2020-12-29</th>\n",
              "      <td>61.150002</td>\n",
              "      <td>61.400002</td>\n",
              "      <td>60.549999</td>\n",
              "      <td>60.910000</td>\n",
              "      <td>59.978043</td>\n",
              "      <td>10800400</td>\n",
              "    </tr>\n",
              "    <tr>\n",
              "      <th>2020-12-30</th>\n",
              "      <td>60.910000</td>\n",
              "      <td>61.270000</td>\n",
              "      <td>60.669998</td>\n",
              "      <td>60.860001</td>\n",
              "      <td>59.928810</td>\n",
              "      <td>10770700</td>\n",
              "    </tr>\n",
              "    <tr>\n",
              "      <th>2020-12-31</th>\n",
              "      <td>60.669998</td>\n",
              "      <td>61.849998</td>\n",
              "      <td>60.529999</td>\n",
              "      <td>61.660000</td>\n",
              "      <td>60.716568</td>\n",
              "      <td>12500700</td>\n",
              "    </tr>\n",
              "    <tr>\n",
              "      <th>2021-01-04</th>\n",
              "      <td>61.590000</td>\n",
              "      <td>61.709999</td>\n",
              "      <td>59.730000</td>\n",
              "      <td>60.139999</td>\n",
              "      <td>59.219822</td>\n",
              "      <td>21286200</td>\n",
              "    </tr>\n",
              "    <tr>\n",
              "      <th>2021-01-05</th>\n",
              "      <td>60.349998</td>\n",
              "      <td>62.000000</td>\n",
              "      <td>60.020000</td>\n",
              "      <td>61.700001</td>\n",
              "      <td>60.755959</td>\n",
              "      <td>20213100</td>\n",
              "    </tr>\n",
              "  </tbody>\n",
              "</table>\n",
              "</div>"
            ],
            "text/plain": [
              "                 Open       High        Low      Close  Adj Close    Volume\n",
              "Date                                                                       \n",
              "2020-12-21  60.349998  61.820000  59.810001  61.230000  60.293144  31906100\n",
              "2020-12-22  61.099998  61.139999  59.160000  59.259998  58.353287  17851600\n",
              "2020-12-23  60.000000  61.310001  59.790001  60.779999  59.850029  16579100\n",
              "2020-12-24  60.930000  61.090000  59.880001  60.570000  59.643246   6824400\n",
              "2020-12-28  60.619999  61.930000  60.490002  61.130001  60.194679  14414600\n",
              "2020-12-29  61.150002  61.400002  60.549999  60.910000  59.978043  10800400\n",
              "2020-12-30  60.910000  61.270000  60.669998  60.860001  59.928810  10770700\n",
              "2020-12-31  60.669998  61.849998  60.529999  61.660000  60.716568  12500700\n",
              "2021-01-04  61.590000  61.709999  59.730000  60.139999  59.219822  21286200\n",
              "2021-01-05  60.349998  62.000000  60.020000  61.700001  60.755959  20213100"
            ]
          },
          "metadata": {
            "tags": []
          },
          "execution_count": 30
        }
      ]
    },
    {
      "cell_type": "code",
      "metadata": {
        "colab": {
          "base_uri": "https://localhost:8080/"
        },
        "id": "NW071J5ZuAh5",
        "outputId": "c931af61-21f1-4589-d729-76431aa96063"
      },
      "source": [
        "data.iloc[-1]"
      ],
      "execution_count": null,
      "outputs": [
        {
          "output_type": "execute_result",
          "data": {
            "text/plain": [
              "Open         6.775000e+01\n",
              "High         6.779000e+01\n",
              "Low          6.641000e+01\n",
              "Close        6.693000e+01\n",
              "Adj Close    6.693000e+01\n",
              "Volume       1.569362e+07\n",
              "Name: 2021-07-22 00:00:00, dtype: float64"
            ]
          },
          "metadata": {
            "tags": []
          },
          "execution_count": 26
        }
      ]
    },
    {
      "cell_type": "code",
      "metadata": {
        "id": "VY07bR4Fvahe"
      },
      "source": [
        ""
      ],
      "execution_count": null,
      "outputs": []
    },
    {
      "cell_type": "code",
      "metadata": {
        "colab": {
          "base_uri": "https://localhost:8080/",
          "height": 234
        },
        "id": "S_sSQaxmuR7c",
        "outputId": "804bdf74-2d79-474e-a195-46448902286c"
      },
      "source": [
        "data.tail()"
      ],
      "execution_count": null,
      "outputs": [
        {
          "output_type": "execute_result",
          "data": {
            "text/html": [
              "<div>\n",
              "<style scoped>\n",
              "    .dataframe tbody tr th:only-of-type {\n",
              "        vertical-align: middle;\n",
              "    }\n",
              "\n",
              "    .dataframe tbody tr th {\n",
              "        vertical-align: top;\n",
              "    }\n",
              "\n",
              "    .dataframe thead th {\n",
              "        text-align: right;\n",
              "    }\n",
              "</style>\n",
              "<table border=\"1\" class=\"dataframe\">\n",
              "  <thead>\n",
              "    <tr style=\"text-align: right;\">\n",
              "      <th></th>\n",
              "      <th>Open</th>\n",
              "      <th>High</th>\n",
              "      <th>Low</th>\n",
              "      <th>Close</th>\n",
              "      <th>Adj Close</th>\n",
              "      <th>Volume</th>\n",
              "    </tr>\n",
              "    <tr>\n",
              "      <th>Date</th>\n",
              "      <th></th>\n",
              "      <th></th>\n",
              "      <th></th>\n",
              "      <th></th>\n",
              "      <th></th>\n",
              "      <th></th>\n",
              "    </tr>\n",
              "  </thead>\n",
              "  <tbody>\n",
              "    <tr>\n",
              "      <th>2021-07-16</th>\n",
              "      <td>68.709999</td>\n",
              "      <td>68.760002</td>\n",
              "      <td>66.419998</td>\n",
              "      <td>66.900002</td>\n",
              "      <td>66.900002</td>\n",
              "      <td>19278900</td>\n",
              "    </tr>\n",
              "    <tr>\n",
              "      <th>2021-07-19</th>\n",
              "      <td>65.459999</td>\n",
              "      <td>66.070000</td>\n",
              "      <td>64.360001</td>\n",
              "      <td>65.080002</td>\n",
              "      <td>65.080002</td>\n",
              "      <td>33318600</td>\n",
              "    </tr>\n",
              "    <tr>\n",
              "      <th>2021-07-20</th>\n",
              "      <td>65.180000</td>\n",
              "      <td>66.779999</td>\n",
              "      <td>64.779999</td>\n",
              "      <td>66.290001</td>\n",
              "      <td>66.290001</td>\n",
              "      <td>20568400</td>\n",
              "    </tr>\n",
              "    <tr>\n",
              "      <th>2021-07-21</th>\n",
              "      <td>67.010002</td>\n",
              "      <td>68.250000</td>\n",
              "      <td>66.930000</td>\n",
              "      <td>67.889999</td>\n",
              "      <td>67.889999</td>\n",
              "      <td>23387300</td>\n",
              "    </tr>\n",
              "    <tr>\n",
              "      <th>2021-07-22</th>\n",
              "      <td>67.750000</td>\n",
              "      <td>67.790001</td>\n",
              "      <td>66.410004</td>\n",
              "      <td>66.930000</td>\n",
              "      <td>66.930000</td>\n",
              "      <td>15693622</td>\n",
              "    </tr>\n",
              "  </tbody>\n",
              "</table>\n",
              "</div>"
            ],
            "text/plain": [
              "                 Open       High        Low      Close  Adj Close    Volume\n",
              "Date                                                                       \n",
              "2021-07-16  68.709999  68.760002  66.419998  66.900002  66.900002  19278900\n",
              "2021-07-19  65.459999  66.070000  64.360001  65.080002  65.080002  33318600\n",
              "2021-07-20  65.180000  66.779999  64.779999  66.290001  66.290001  20568400\n",
              "2021-07-21  67.010002  68.250000  66.930000  67.889999  67.889999  23387300\n",
              "2021-07-22  67.750000  67.790001  66.410004  66.930000  66.930000  15693622"
            ]
          },
          "metadata": {
            "tags": []
          },
          "execution_count": 27
        }
      ]
    }
  ]
}
