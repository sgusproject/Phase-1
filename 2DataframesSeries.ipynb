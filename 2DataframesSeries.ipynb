{
  "nbformat": 4,
  "nbformat_minor": 0,
  "metadata": {
    "colab": {
      "name": "DataframesSeries2",
      "provenance": [],
      "collapsed_sections": [],
      "mount_file_id": "1Jlr4fpMuN8MLZukSht_zdkisxk8UVs2W",
      "authorship_tag": "ABX9TyP2cbtzC2PWT72AuaovgrNX",
      "include_colab_link": true
    },
    "kernelspec": {
      "name": "python3",
      "display_name": "Python 3"
    },
    "language_info": {
      "name": "python"
    }
  },
  "cells": [
    {
      "cell_type": "markdown",
      "metadata": {
        "id": "view-in-github",
        "colab_type": "text"
      },
      "source": [
        "<a href=\"https://colab.research.google.com/github/sgusproject/Algotrading-Quantconnect/blob/main/DataframesSeries2.ipynb\" target=\"_parent\"><img src=\"https://colab.research.google.com/assets/colab-badge.svg\" alt=\"Open In Colab\"/></a>"
      ]
    },
    {
      "cell_type": "markdown",
      "metadata": {
        "id": "358Uk_UiwdXJ"
      },
      "source": [
        "# Series\n",
        "\n",
        "*   Use Type to get data type\n",
        "*   Each column is a Series\n",
        "*   Series show data type (dtype)\n",
        "*   Calculate with Series\n",
        "  *   Daily change\n",
        "  *   Daily percentage change\n",
        "  *   Normalize data\n",
        "*   Similarity with Excel\n",
        "*   Indexing with Series\n",
        "\n"
      ]
    },
    {
      "cell_type": "code",
      "metadata": {
        "id": "zLgVdwmwwI7N"
      },
      "source": [
        "import pandas as pd"
      ],
      "execution_count": null,
      "outputs": []
    },
    {
      "cell_type": "code",
      "metadata": {
        "id": "1-bCgY4zwcKW"
      },
      "source": [
        "data = pd.read_csv(\"C.csv\", index_col=0, parse_dates=True)"
      ],
      "execution_count": null,
      "outputs": []
    },
    {
      "cell_type": "code",
      "metadata": {
        "colab": {
          "base_uri": "https://localhost:8080/",
          "height": 234
        },
        "id": "izT5fNV6xyQe",
        "outputId": "97c692ff-8e03-4b68-9d43-bb71d3b1b7d2"
      },
      "source": [
        "data.head()"
      ],
      "execution_count": null,
      "outputs": [
        {
          "output_type": "execute_result",
          "data": {
            "text/html": [
              "<div>\n",
              "<style scoped>\n",
              "    .dataframe tbody tr th:only-of-type {\n",
              "        vertical-align: middle;\n",
              "    }\n",
              "\n",
              "    .dataframe tbody tr th {\n",
              "        vertical-align: top;\n",
              "    }\n",
              "\n",
              "    .dataframe thead th {\n",
              "        text-align: right;\n",
              "    }\n",
              "</style>\n",
              "<table border=\"1\" class=\"dataframe\">\n",
              "  <thead>\n",
              "    <tr style=\"text-align: right;\">\n",
              "      <th></th>\n",
              "      <th>Open</th>\n",
              "      <th>High</th>\n",
              "      <th>Low</th>\n",
              "      <th>Close</th>\n",
              "      <th>Adj Close</th>\n",
              "      <th>Volume</th>\n",
              "    </tr>\n",
              "    <tr>\n",
              "      <th>Date</th>\n",
              "      <th></th>\n",
              "      <th></th>\n",
              "      <th></th>\n",
              "      <th></th>\n",
              "      <th></th>\n",
              "      <th></th>\n",
              "    </tr>\n",
              "  </thead>\n",
              "  <tbody>\n",
              "    <tr>\n",
              "      <th>2020-07-23</th>\n",
              "      <td>51.450001</td>\n",
              "      <td>52.230000</td>\n",
              "      <td>51.130001</td>\n",
              "      <td>52.080002</td>\n",
              "      <td>50.147495</td>\n",
              "      <td>17090400</td>\n",
              "    </tr>\n",
              "    <tr>\n",
              "      <th>2020-07-24</th>\n",
              "      <td>52.099998</td>\n",
              "      <td>52.480000</td>\n",
              "      <td>51.500000</td>\n",
              "      <td>51.669998</td>\n",
              "      <td>49.752705</td>\n",
              "      <td>16258900</td>\n",
              "    </tr>\n",
              "    <tr>\n",
              "      <th>2020-07-27</th>\n",
              "      <td>51.459999</td>\n",
              "      <td>51.459999</td>\n",
              "      <td>50.610001</td>\n",
              "      <td>51.290001</td>\n",
              "      <td>49.386806</td>\n",
              "      <td>13991400</td>\n",
              "    </tr>\n",
              "    <tr>\n",
              "      <th>2020-07-28</th>\n",
              "      <td>51.020000</td>\n",
              "      <td>51.660000</td>\n",
              "      <td>50.970001</td>\n",
              "      <td>51.270000</td>\n",
              "      <td>49.367554</td>\n",
              "      <td>13121400</td>\n",
              "    </tr>\n",
              "    <tr>\n",
              "      <th>2020-07-29</th>\n",
              "      <td>51.169998</td>\n",
              "      <td>52.590000</td>\n",
              "      <td>50.990002</td>\n",
              "      <td>52.520000</td>\n",
              "      <td>50.571167</td>\n",
              "      <td>16991000</td>\n",
              "    </tr>\n",
              "  </tbody>\n",
              "</table>\n",
              "</div>"
            ],
            "text/plain": [
              "                 Open       High        Low      Close  Adj Close    Volume\n",
              "Date                                                                       \n",
              "2020-07-23  51.450001  52.230000  51.130001  52.080002  50.147495  17090400\n",
              "2020-07-24  52.099998  52.480000  51.500000  51.669998  49.752705  16258900\n",
              "2020-07-27  51.459999  51.459999  50.610001  51.290001  49.386806  13991400\n",
              "2020-07-28  51.020000  51.660000  50.970001  51.270000  49.367554  13121400\n",
              "2020-07-29  51.169998  52.590000  50.990002  52.520000  50.571167  16991000"
            ]
          },
          "metadata": {
            "tags": []
          },
          "execution_count": 3
        }
      ]
    },
    {
      "cell_type": "code",
      "metadata": {
        "colab": {
          "base_uri": "https://localhost:8080/"
        },
        "id": "2SqfKwd_yIER",
        "outputId": "83cfb431-603a-479d-fa8e-ec3571893beb"
      },
      "source": [
        "type(data)"
      ],
      "execution_count": null,
      "outputs": [
        {
          "output_type": "execute_result",
          "data": {
            "text/plain": [
              "pandas.core.frame.DataFrame"
            ]
          },
          "metadata": {
            "tags": []
          },
          "execution_count": 4
        }
      ]
    },
    {
      "cell_type": "code",
      "metadata": {
        "colab": {
          "base_uri": "https://localhost:8080/"
        },
        "id": "lZCUrwzqyLit",
        "outputId": "1f1876f6-2206-4de2-ff41-055058ad12ce"
      },
      "source": [
        "data['Close']"
      ],
      "execution_count": null,
      "outputs": [
        {
          "output_type": "execute_result",
          "data": {
            "text/plain": [
              "Date\n",
              "2020-07-23    52.080002\n",
              "2020-07-24    51.669998\n",
              "2020-07-27    51.290001\n",
              "2020-07-28    51.270000\n",
              "2020-07-29    52.520000\n",
              "                ...    \n",
              "2021-07-16    66.900002\n",
              "2021-07-19    65.080002\n",
              "2021-07-20    66.290001\n",
              "2021-07-21    67.889999\n",
              "2021-07-22    66.930000\n",
              "Name: Close, Length: 252, dtype: float64"
            ]
          },
          "metadata": {
            "tags": []
          },
          "execution_count": 6
        }
      ]
    },
    {
      "cell_type": "code",
      "metadata": {
        "colab": {
          "base_uri": "https://localhost:8080/"
        },
        "id": "Cip8-2dtyLu0",
        "outputId": "f87acb01-320d-45d3-8592-ce491ce38c36"
      },
      "source": [
        "type(data['Close'])\n",
        "# only one type (float64 in this case) per column, unlike Excel\n",
        "# facilitat calculations"
      ],
      "execution_count": null,
      "outputs": [
        {
          "output_type": "execute_result",
          "data": {
            "text/plain": [
              "pandas.core.series.Series"
            ]
          },
          "metadata": {
            "tags": []
          },
          "execution_count": 7
        }
      ]
    },
    {
      "cell_type": "code",
      "metadata": {
        "colab": {
          "base_uri": "https://localhost:8080/"
        },
        "id": "7ArM7b8myLyW",
        "outputId": "9e729305-9694-4459-f6a9-772c130d52e0"
      },
      "source": [
        "# Open value minus Close value.Creating a new array\n",
        "data['Open'] - data['Close']"
      ],
      "execution_count": null,
      "outputs": [
        {
          "output_type": "execute_result",
          "data": {
            "text/plain": [
              "Date\n",
              "2020-07-23   -0.630001\n",
              "2020-07-24    0.430000\n",
              "2020-07-27    0.169998\n",
              "2020-07-28   -0.250000\n",
              "2020-07-29   -1.350002\n",
              "                ...   \n",
              "2021-07-16    1.809997\n",
              "2021-07-19    0.379997\n",
              "2021-07-20   -1.110001\n",
              "2021-07-21   -0.879997\n",
              "2021-07-22    0.820000\n",
              "Length: 252, dtype: float64"
            ]
          },
          "metadata": {
            "tags": []
          },
          "execution_count": 11
        }
      ]
    },
    {
      "cell_type": "code",
      "metadata": {
        "id": "Ppx5VYBSyL14"
      },
      "source": [
        "# Assign above array to new variable\n",
        "daily_chg = data['Open'] - data['Close']"
      ],
      "execution_count": 12,
      "outputs": []
    },
    {
      "cell_type": "code",
      "metadata": {
        "id": "LWXH0c2UyMFt",
        "colab": {
          "base_uri": "https://localhost:8080/"
        },
        "outputId": "ac4ab7a2-65ec-4859-e825-20a0e727af8a"
      },
      "source": [
        "daily_chg"
      ],
      "execution_count": 15,
      "outputs": [
        {
          "output_type": "execute_result",
          "data": {
            "text/plain": [
              "Date\n",
              "2020-07-23   -0.630001\n",
              "2020-07-24    0.430000\n",
              "2020-07-27    0.169998\n",
              "2020-07-28   -0.250000\n",
              "2020-07-29   -1.350002\n",
              "                ...   \n",
              "2021-07-16    1.809997\n",
              "2021-07-19    0.379997\n",
              "2021-07-20   -1.110001\n",
              "2021-07-21   -0.879997\n",
              "2021-07-22    0.820000\n",
              "Length: 252, dtype: float64"
            ]
          },
          "metadata": {
            "tags": []
          },
          "execution_count": 15
        }
      ]
    },
    {
      "cell_type": "code",
      "metadata": {
        "colab": {
          "base_uri": "https://localhost:8080/"
        },
        "id": "XCepEdT68izC",
        "outputId": "388af83f-974c-4efb-eb07-af5f96f8faae"
      },
      "source": [
        "type(daily_chg)"
      ],
      "execution_count": 16,
      "outputs": [
        {
          "output_type": "execute_result",
          "data": {
            "text/plain": [
              "pandas.core.series.Series"
            ]
          },
          "metadata": {
            "tags": []
          },
          "execution_count": 16
        }
      ]
    },
    {
      "cell_type": "code",
      "metadata": {
        "colab": {
          "base_uri": "https://localhost:8080/"
        },
        "id": "7EWJooSX8x6M",
        "outputId": "696c9493-f0c0-45d3-f344-0aea9f2ccd69"
      },
      "source": [
        "daily_pct_chg = (data['Close'] - data['Open'])/data['Open']*100\n",
        "daily_pct_chg"
      ],
      "execution_count": 20,
      "outputs": [
        {
          "output_type": "execute_result",
          "data": {
            "text/plain": [
              "Date\n",
              "2020-07-23    1.224492\n",
              "2020-07-24   -0.825336\n",
              "2020-07-27   -0.330350\n",
              "2020-07-28    0.490004\n",
              "2020-07-29    2.638269\n",
              "                ...   \n",
              "2021-07-16   -2.634256\n",
              "2021-07-19   -0.580503\n",
              "2021-07-20    1.702978\n",
              "2021-07-21    1.313232\n",
              "2021-07-22   -1.210332\n",
              "Length: 252, dtype: float64"
            ]
          },
          "metadata": {
            "tags": []
          },
          "execution_count": 20
        }
      ]
    },
    {
      "cell_type": "code",
      "metadata": {
        "colab": {
          "base_uri": "https://localhost:8080/"
        },
        "id": "GM4uyeFd9Ktv",
        "outputId": "c47a7d44-959a-428f-f45a-c29be95f0392"
      },
      "source": [
        "#Normalising data\n",
        "data['Close'].iloc[0]\n"
      ],
      "execution_count": 24,
      "outputs": [
        {
          "output_type": "execute_result",
          "data": {
            "text/plain": [
              "52.080002"
            ]
          },
          "metadata": {
            "tags": []
          },
          "execution_count": 24
        }
      ]
    },
    {
      "cell_type": "code",
      "metadata": {
        "colab": {
          "base_uri": "https://localhost:8080/"
        },
        "id": "zfEYe3Zk-CIL",
        "outputId": "a5aa2a42-6d26-486e-f6f7-e735d4247fc4"
      },
      "source": [
        "data['Close'].iloc[-1]"
      ],
      "execution_count": 25,
      "outputs": [
        {
          "output_type": "execute_result",
          "data": {
            "text/plain": [
              "66.93"
            ]
          },
          "metadata": {
            "tags": []
          },
          "execution_count": 25
        }
      ]
    },
    {
      "cell_type": "code",
      "metadata": {
        "id": "4ZF9rTmP-ERI"
      },
      "source": [
        "# Normalise, to see gain/loss at end of data\n",
        "norm = data['Close']/data['Close'].iloc[0]"
      ],
      "execution_count": 26,
      "outputs": []
    },
    {
      "cell_type": "code",
      "metadata": {
        "colab": {
          "base_uri": "https://localhost:8080/"
        },
        "id": "Z2cax6Pg-OeT",
        "outputId": "cecbf1b2-1d7f-49ee-b0b0-64f7199c789b"
      },
      "source": [
        "# Normalise, to see gain/loss at end of data\n",
        "norm"
      ],
      "execution_count": 27,
      "outputs": [
        {
          "output_type": "execute_result",
          "data": {
            "text/plain": [
              "Date\n",
              "2020-07-23    1.000000\n",
              "2020-07-24    0.992127\n",
              "2020-07-27    0.984831\n",
              "2020-07-28    0.984447\n",
              "2020-07-29    1.008449\n",
              "                ...   \n",
              "2021-07-16    1.284562\n",
              "2021-07-19    1.249616\n",
              "2021-07-20    1.272849\n",
              "2021-07-21    1.303571\n",
              "2021-07-22    1.285138\n",
              "Name: Close, Length: 252, dtype: float64"
            ]
          },
          "metadata": {
            "tags": []
          },
          "execution_count": 27
        }
      ]
    },
    {
      "cell_type": "code",
      "metadata": {
        "colab": {
          "base_uri": "https://localhost:8080/"
        },
        "id": "jOUiS26f-taQ",
        "outputId": "4783dda7-5f5d-4617-9107-bdd3e13c7ce1"
      },
      "source": [
        "\n",
        "data['Close'].iloc[0]*norm.iloc[-1]"
      ],
      "execution_count": 28,
      "outputs": [
        {
          "output_type": "execute_result",
          "data": {
            "text/plain": [
              "66.93"
            ]
          },
          "metadata": {
            "tags": []
          },
          "execution_count": 28
        }
      ]
    },
    {
      "cell_type": "code",
      "metadata": {
        "colab": {
          "base_uri": "https://localhost:8080/"
        },
        "id": "XrwzR4co_EU5",
        "outputId": "2ec09721-c935-408b-ee84-7701b5b25527"
      },
      "source": [
        "data['Close'].iloc[-1]"
      ],
      "execution_count": 29,
      "outputs": [
        {
          "output_type": "execute_result",
          "data": {
            "text/plain": [
              "66.93"
            ]
          },
          "metadata": {
            "tags": []
          },
          "execution_count": 29
        }
      ]
    }
  ]
}
