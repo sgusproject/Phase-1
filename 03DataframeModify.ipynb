{
  "nbformat": 4,
  "nbformat_minor": 0,
  "metadata": {
    "colab": {
      "name": "3DataframeModify.ipynb",
      "provenance": [],
      "collapsed_sections": [],
      "mount_file_id": "1VZkU1dK5lkS9Fly0BjyJflQiUwh2Pv1j",
      "authorship_tag": "ABX9TyPVgYKDaUg31VvFivIQOdaj",
      "include_colab_link": true
    },
    "kernelspec": {
      "name": "python3",
      "display_name": "Python 3"
    },
    "language_info": {
      "name": "python"
    }
  },
  "cells": [
    {
      "cell_type": "markdown",
      "metadata": {
        "id": "view-in-github",
        "colab_type": "text"
      },
      "source": [
        "<a href=\"https://colab.research.google.com/github/sgusproject/PythonDataframe-Learn/blob/main/3DataframeModify.ipynb\" target=\"_parent\"><img src=\"https://colab.research.google.com/assets/colab-badge.svg\" alt=\"Open In Colab\"/></a>"
      ]
    },
    {
      "cell_type": "markdown",
      "metadata": {
        "id": "4V56l_IYMB7D"
      },
      "source": [
        "# Modify Dataframes and Useful functions for computation\n",
        "\n",
        "*   Calculate with columns\n",
        "*   Create new columns\n",
        "*   Drop Columns\n",
        "*   Min, Max, Argmin, Argmax\n",
        "*   Mean\n"
      ]
    },
    {
      "cell_type": "code",
      "metadata": {
        "id": "jgAPAVxgL05S"
      },
      "source": [
        "import pandas as pd"
      ],
      "execution_count": 2,
      "outputs": []
    },
    {
      "cell_type": "code",
      "metadata": {
        "id": "bQX3UoE7L_5r"
      },
      "source": [
        "# Convert Date column string type to Datetime\n",
        "data = pd.read_csv(\"C.csv\", index_col=0, parse_dates=True)"
      ],
      "execution_count": 6,
      "outputs": []
    },
    {
      "cell_type": "code",
      "metadata": {
        "colab": {
          "base_uri": "https://localhost:8080/",
          "height": 234
        },
        "id": "V6CCd1CMUSLe",
        "outputId": "c923ac46-85ab-4306-817c-4ef9ea8acb9e"
      },
      "source": [
        "data.head()"
      ],
      "execution_count": 7,
      "outputs": [
        {
          "output_type": "execute_result",
          "data": {
            "text/html": [
              "<div>\n",
              "<style scoped>\n",
              "    .dataframe tbody tr th:only-of-type {\n",
              "        vertical-align: middle;\n",
              "    }\n",
              "\n",
              "    .dataframe tbody tr th {\n",
              "        vertical-align: top;\n",
              "    }\n",
              "\n",
              "    .dataframe thead th {\n",
              "        text-align: right;\n",
              "    }\n",
              "</style>\n",
              "<table border=\"1\" class=\"dataframe\">\n",
              "  <thead>\n",
              "    <tr style=\"text-align: right;\">\n",
              "      <th></th>\n",
              "      <th>Open</th>\n",
              "      <th>High</th>\n",
              "      <th>Low</th>\n",
              "      <th>Close</th>\n",
              "      <th>Adj Close</th>\n",
              "      <th>Volume</th>\n",
              "    </tr>\n",
              "    <tr>\n",
              "      <th>Date</th>\n",
              "      <th></th>\n",
              "      <th></th>\n",
              "      <th></th>\n",
              "      <th></th>\n",
              "      <th></th>\n",
              "      <th></th>\n",
              "    </tr>\n",
              "  </thead>\n",
              "  <tbody>\n",
              "    <tr>\n",
              "      <th>2020-07-23</th>\n",
              "      <td>51.450001</td>\n",
              "      <td>52.230000</td>\n",
              "      <td>51.130001</td>\n",
              "      <td>52.080002</td>\n",
              "      <td>50.147495</td>\n",
              "      <td>17090400</td>\n",
              "    </tr>\n",
              "    <tr>\n",
              "      <th>2020-07-24</th>\n",
              "      <td>52.099998</td>\n",
              "      <td>52.480000</td>\n",
              "      <td>51.500000</td>\n",
              "      <td>51.669998</td>\n",
              "      <td>49.752705</td>\n",
              "      <td>16258900</td>\n",
              "    </tr>\n",
              "    <tr>\n",
              "      <th>2020-07-27</th>\n",
              "      <td>51.459999</td>\n",
              "      <td>51.459999</td>\n",
              "      <td>50.610001</td>\n",
              "      <td>51.290001</td>\n",
              "      <td>49.386806</td>\n",
              "      <td>13991400</td>\n",
              "    </tr>\n",
              "    <tr>\n",
              "      <th>2020-07-28</th>\n",
              "      <td>51.020000</td>\n",
              "      <td>51.660000</td>\n",
              "      <td>50.970001</td>\n",
              "      <td>51.270000</td>\n",
              "      <td>49.367554</td>\n",
              "      <td>13121400</td>\n",
              "    </tr>\n",
              "    <tr>\n",
              "      <th>2020-07-29</th>\n",
              "      <td>51.169998</td>\n",
              "      <td>52.590000</td>\n",
              "      <td>50.990002</td>\n",
              "      <td>52.520000</td>\n",
              "      <td>50.571167</td>\n",
              "      <td>16991000</td>\n",
              "    </tr>\n",
              "  </tbody>\n",
              "</table>\n",
              "</div>"
            ],
            "text/plain": [
              "                 Open       High        Low      Close  Adj Close    Volume\n",
              "Date                                                                       \n",
              "2020-07-23  51.450001  52.230000  51.130001  52.080002  50.147495  17090400\n",
              "2020-07-24  52.099998  52.480000  51.500000  51.669998  49.752705  16258900\n",
              "2020-07-27  51.459999  51.459999  50.610001  51.290001  49.386806  13991400\n",
              "2020-07-28  51.020000  51.660000  50.970001  51.270000  49.367554  13121400\n",
              "2020-07-29  51.169998  52.590000  50.990002  52.520000  50.571167  16991000"
            ]
          },
          "metadata": {
            "tags": []
          },
          "execution_count": 7
        }
      ]
    },
    {
      "cell_type": "code",
      "metadata": {
        "id": "iJfB9AJlUSQ7"
      },
      "source": [
        "# compute data Daily Change and input into dataframe as column\n",
        "data['Daily Chg'] = data['Close'] - data['Open']"
      ],
      "execution_count": 8,
      "outputs": []
    },
    {
      "cell_type": "code",
      "metadata": {
        "colab": {
          "base_uri": "https://localhost:8080/",
          "height": 334
        },
        "id": "03sEx8BwUSUj",
        "outputId": "402e0072-9379-49b3-d3c1-a9ba3bc8121f"
      },
      "source": [
        "data.head()"
      ],
      "execution_count": 9,
      "outputs": [
        {
          "output_type": "execute_result",
          "data": {
            "text/html": [
              "<div>\n",
              "<style scoped>\n",
              "    .dataframe tbody tr th:only-of-type {\n",
              "        vertical-align: middle;\n",
              "    }\n",
              "\n",
              "    .dataframe tbody tr th {\n",
              "        vertical-align: top;\n",
              "    }\n",
              "\n",
              "    .dataframe thead th {\n",
              "        text-align: right;\n",
              "    }\n",
              "</style>\n",
              "<table border=\"1\" class=\"dataframe\">\n",
              "  <thead>\n",
              "    <tr style=\"text-align: right;\">\n",
              "      <th></th>\n",
              "      <th>Open</th>\n",
              "      <th>High</th>\n",
              "      <th>Low</th>\n",
              "      <th>Close</th>\n",
              "      <th>Adj Close</th>\n",
              "      <th>Volume</th>\n",
              "      <th>Daily Chg</th>\n",
              "    </tr>\n",
              "    <tr>\n",
              "      <th>Date</th>\n",
              "      <th></th>\n",
              "      <th></th>\n",
              "      <th></th>\n",
              "      <th></th>\n",
              "      <th></th>\n",
              "      <th></th>\n",
              "      <th></th>\n",
              "    </tr>\n",
              "  </thead>\n",
              "  <tbody>\n",
              "    <tr>\n",
              "      <th>2020-07-23</th>\n",
              "      <td>51.450001</td>\n",
              "      <td>52.230000</td>\n",
              "      <td>51.130001</td>\n",
              "      <td>52.080002</td>\n",
              "      <td>50.147495</td>\n",
              "      <td>17090400</td>\n",
              "      <td>0.630001</td>\n",
              "    </tr>\n",
              "    <tr>\n",
              "      <th>2020-07-24</th>\n",
              "      <td>52.099998</td>\n",
              "      <td>52.480000</td>\n",
              "      <td>51.500000</td>\n",
              "      <td>51.669998</td>\n",
              "      <td>49.752705</td>\n",
              "      <td>16258900</td>\n",
              "      <td>-0.430000</td>\n",
              "    </tr>\n",
              "    <tr>\n",
              "      <th>2020-07-27</th>\n",
              "      <td>51.459999</td>\n",
              "      <td>51.459999</td>\n",
              "      <td>50.610001</td>\n",
              "      <td>51.290001</td>\n",
              "      <td>49.386806</td>\n",
              "      <td>13991400</td>\n",
              "      <td>-0.169998</td>\n",
              "    </tr>\n",
              "    <tr>\n",
              "      <th>2020-07-28</th>\n",
              "      <td>51.020000</td>\n",
              "      <td>51.660000</td>\n",
              "      <td>50.970001</td>\n",
              "      <td>51.270000</td>\n",
              "      <td>49.367554</td>\n",
              "      <td>13121400</td>\n",
              "      <td>0.250000</td>\n",
              "    </tr>\n",
              "    <tr>\n",
              "      <th>2020-07-29</th>\n",
              "      <td>51.169998</td>\n",
              "      <td>52.590000</td>\n",
              "      <td>50.990002</td>\n",
              "      <td>52.520000</td>\n",
              "      <td>50.571167</td>\n",
              "      <td>16991000</td>\n",
              "      <td>1.350002</td>\n",
              "    </tr>\n",
              "  </tbody>\n",
              "</table>\n",
              "</div>"
            ],
            "text/plain": [
              "                 Open       High        Low  ...  Adj Close    Volume  Daily Chg\n",
              "Date                                         ...                                \n",
              "2020-07-23  51.450001  52.230000  51.130001  ...  50.147495  17090400   0.630001\n",
              "2020-07-24  52.099998  52.480000  51.500000  ...  49.752705  16258900  -0.430000\n",
              "2020-07-27  51.459999  51.459999  50.610001  ...  49.386806  13991400  -0.169998\n",
              "2020-07-28  51.020000  51.660000  50.970001  ...  49.367554  13121400   0.250000\n",
              "2020-07-29  51.169998  52.590000  50.990002  ...  50.571167  16991000   1.350002\n",
              "\n",
              "[5 rows x 7 columns]"
            ]
          },
          "metadata": {
            "tags": []
          },
          "execution_count": 9
        }
      ]
    },
    {
      "cell_type": "code",
      "metadata": {
        "id": "lT15-PsmUSYc"
      },
      "source": [
        "# Normalizing data using 2020-07-23 as Day 1\n",
        "data[\"Normalized\"] = data['Close'] / data['Close'].iloc[0]"
      ],
      "execution_count": 10,
      "outputs": []
    },
    {
      "cell_type": "code",
      "metadata": {
        "colab": {
          "base_uri": "https://localhost:8080/",
          "height": 354
        },
        "id": "rUVV_PmqUScD",
        "outputId": "80cfa99e-4143-4bb2-9b22-33b18d588552"
      },
      "source": [
        "data.head()"
      ],
      "execution_count": 11,
      "outputs": [
        {
          "output_type": "execute_result",
          "data": {
            "text/html": [
              "<div>\n",
              "<style scoped>\n",
              "    .dataframe tbody tr th:only-of-type {\n",
              "        vertical-align: middle;\n",
              "    }\n",
              "\n",
              "    .dataframe tbody tr th {\n",
              "        vertical-align: top;\n",
              "    }\n",
              "\n",
              "    .dataframe thead th {\n",
              "        text-align: right;\n",
              "    }\n",
              "</style>\n",
              "<table border=\"1\" class=\"dataframe\">\n",
              "  <thead>\n",
              "    <tr style=\"text-align: right;\">\n",
              "      <th></th>\n",
              "      <th>Open</th>\n",
              "      <th>High</th>\n",
              "      <th>Low</th>\n",
              "      <th>Close</th>\n",
              "      <th>Adj Close</th>\n",
              "      <th>Volume</th>\n",
              "      <th>Daily Chg</th>\n",
              "      <th>Normalized</th>\n",
              "    </tr>\n",
              "    <tr>\n",
              "      <th>Date</th>\n",
              "      <th></th>\n",
              "      <th></th>\n",
              "      <th></th>\n",
              "      <th></th>\n",
              "      <th></th>\n",
              "      <th></th>\n",
              "      <th></th>\n",
              "      <th></th>\n",
              "    </tr>\n",
              "  </thead>\n",
              "  <tbody>\n",
              "    <tr>\n",
              "      <th>2020-07-23</th>\n",
              "      <td>51.450001</td>\n",
              "      <td>52.230000</td>\n",
              "      <td>51.130001</td>\n",
              "      <td>52.080002</td>\n",
              "      <td>50.147495</td>\n",
              "      <td>17090400</td>\n",
              "      <td>0.630001</td>\n",
              "      <td>1.000000</td>\n",
              "    </tr>\n",
              "    <tr>\n",
              "      <th>2020-07-24</th>\n",
              "      <td>52.099998</td>\n",
              "      <td>52.480000</td>\n",
              "      <td>51.500000</td>\n",
              "      <td>51.669998</td>\n",
              "      <td>49.752705</td>\n",
              "      <td>16258900</td>\n",
              "      <td>-0.430000</td>\n",
              "      <td>0.992127</td>\n",
              "    </tr>\n",
              "    <tr>\n",
              "      <th>2020-07-27</th>\n",
              "      <td>51.459999</td>\n",
              "      <td>51.459999</td>\n",
              "      <td>50.610001</td>\n",
              "      <td>51.290001</td>\n",
              "      <td>49.386806</td>\n",
              "      <td>13991400</td>\n",
              "      <td>-0.169998</td>\n",
              "      <td>0.984831</td>\n",
              "    </tr>\n",
              "    <tr>\n",
              "      <th>2020-07-28</th>\n",
              "      <td>51.020000</td>\n",
              "      <td>51.660000</td>\n",
              "      <td>50.970001</td>\n",
              "      <td>51.270000</td>\n",
              "      <td>49.367554</td>\n",
              "      <td>13121400</td>\n",
              "      <td>0.250000</td>\n",
              "      <td>0.984447</td>\n",
              "    </tr>\n",
              "    <tr>\n",
              "      <th>2020-07-29</th>\n",
              "      <td>51.169998</td>\n",
              "      <td>52.590000</td>\n",
              "      <td>50.990002</td>\n",
              "      <td>52.520000</td>\n",
              "      <td>50.571167</td>\n",
              "      <td>16991000</td>\n",
              "      <td>1.350002</td>\n",
              "      <td>1.008449</td>\n",
              "    </tr>\n",
              "  </tbody>\n",
              "</table>\n",
              "</div>"
            ],
            "text/plain": [
              "                 Open       High        Low  ...    Volume  Daily Chg  Normalized\n",
              "Date                                         ...                                 \n",
              "2020-07-23  51.450001  52.230000  51.130001  ...  17090400   0.630001    1.000000\n",
              "2020-07-24  52.099998  52.480000  51.500000  ...  16258900  -0.430000    0.992127\n",
              "2020-07-27  51.459999  51.459999  50.610001  ...  13991400  -0.169998    0.984831\n",
              "2020-07-28  51.020000  51.660000  50.970001  ...  13121400   0.250000    0.984447\n",
              "2020-07-29  51.169998  52.590000  50.990002  ...  16991000   1.350002    1.008449\n",
              "\n",
              "[5 rows x 8 columns]"
            ]
          },
          "metadata": {
            "tags": []
          },
          "execution_count": 11
        }
      ]
    },
    {
      "cell_type": "code",
      "metadata": {
        "colab": {
          "base_uri": "https://localhost:8080/"
        },
        "id": "WU0N3d36USfz",
        "outputId": "355c9d6a-c2e5-4c7b-e47f-6e3613442a38"
      },
      "source": [
        "data['Close'].min() # minimum of the Close for this data series"
      ],
      "execution_count": 12,
      "outputs": [
        {
          "output_type": "execute_result",
          "data": {
            "text/plain": [
              "41.130001"
            ]
          },
          "metadata": {
            "tags": []
          },
          "execution_count": 12
        }
      ]
    },
    {
      "cell_type": "code",
      "metadata": {
        "colab": {
          "base_uri": "https://localhost:8080/"
        },
        "id": "0G7JZrXqUSjs",
        "outputId": "1e9145b8-2a72-4178-fd6d-30c2f5e48081"
      },
      "source": [
        "data.min() # minimum value of all values in this series "
      ],
      "execution_count": 13,
      "outputs": [
        {
          "output_type": "execute_result",
          "data": {
            "text/plain": [
              "Open          4.097000e+01\n",
              "High          4.154000e+01\n",
              "Low           4.049000e+01\n",
              "Close         4.113000e+01\n",
              "Adj Close     4.000488e+01\n",
              "Volume        6.824400e+06\n",
              "Daily Chg    -3.720001e+00\n",
              "Normalized    7.897465e-01\n",
              "dtype: float64"
            ]
          },
          "metadata": {
            "tags": []
          },
          "execution_count": 13
        }
      ]
    },
    {
      "cell_type": "code",
      "metadata": {
        "colab": {
          "base_uri": "https://localhost:8080/"
        },
        "id": "i26__hQFUSoF",
        "outputId": "b9bc4d95-022b-42d3-a49d-e7a8b028a907"
      },
      "source": [
        "data['Close'].argmin() # locate index of the min"
      ],
      "execution_count": 14,
      "outputs": [
        {
          "output_type": "execute_result",
          "data": {
            "text/plain": [
              "68"
            ]
          },
          "metadata": {
            "tags": []
          },
          "execution_count": 14
        }
      ]
    },
    {
      "cell_type": "code",
      "metadata": {
        "colab": {
          "base_uri": "https://localhost:8080/"
        },
        "id": "9sLcQlrAUSuZ",
        "outputId": "e2e0b90c-ae4a-45b2-c0ad-25d98a874c08"
      },
      "source": [
        "data.iloc[68] # look at all values in the min Close"
      ],
      "execution_count": 15,
      "outputs": [
        {
          "output_type": "execute_result",
          "data": {
            "text/plain": [
              "Open          4.097000e+01\n",
              "High          4.159000e+01\n",
              "Low           4.074000e+01\n",
              "Close         4.113000e+01\n",
              "Adj Close     4.000488e+01\n",
              "Volume        2.748500e+07\n",
              "Daily Chg     1.600000e-01\n",
              "Normalized    7.897465e-01\n",
              "Name: 2020-10-28 00:00:00, dtype: float64"
            ]
          },
          "metadata": {
            "tags": []
          },
          "execution_count": 15
        }
      ]
    },
    {
      "cell_type": "code",
      "metadata": {
        "colab": {
          "base_uri": "https://localhost:8080/",
          "height": 593
        },
        "id": "YVk6gLuoUSyU",
        "outputId": "fa6058df-28da-4ada-a7d7-141d79acf585"
      },
      "source": [
        "data.iloc[63:73] # look at all values in the min Close, with adjacent values in small series"
      ],
      "execution_count": 16,
      "outputs": [
        {
          "output_type": "execute_result",
          "data": {
            "text/html": [
              "<div>\n",
              "<style scoped>\n",
              "    .dataframe tbody tr th:only-of-type {\n",
              "        vertical-align: middle;\n",
              "    }\n",
              "\n",
              "    .dataframe tbody tr th {\n",
              "        vertical-align: top;\n",
              "    }\n",
              "\n",
              "    .dataframe thead th {\n",
              "        text-align: right;\n",
              "    }\n",
              "</style>\n",
              "<table border=\"1\" class=\"dataframe\">\n",
              "  <thead>\n",
              "    <tr style=\"text-align: right;\">\n",
              "      <th></th>\n",
              "      <th>Open</th>\n",
              "      <th>High</th>\n",
              "      <th>Low</th>\n",
              "      <th>Close</th>\n",
              "      <th>Adj Close</th>\n",
              "      <th>Volume</th>\n",
              "      <th>Daily Chg</th>\n",
              "      <th>Normalized</th>\n",
              "    </tr>\n",
              "    <tr>\n",
              "      <th>Date</th>\n",
              "      <th></th>\n",
              "      <th></th>\n",
              "      <th></th>\n",
              "      <th></th>\n",
              "      <th></th>\n",
              "      <th></th>\n",
              "      <th></th>\n",
              "      <th></th>\n",
              "    </tr>\n",
              "  </thead>\n",
              "  <tbody>\n",
              "    <tr>\n",
              "      <th>2020-10-21</th>\n",
              "      <td>43.459999</td>\n",
              "      <td>43.730000</td>\n",
              "      <td>42.900002</td>\n",
              "      <td>43.009998</td>\n",
              "      <td>41.833450</td>\n",
              "      <td>19816300</td>\n",
              "      <td>-0.450001</td>\n",
              "      <td>0.825845</td>\n",
              "    </tr>\n",
              "    <tr>\n",
              "      <th>2020-10-22</th>\n",
              "      <td>42.889999</td>\n",
              "      <td>43.990002</td>\n",
              "      <td>42.660000</td>\n",
              "      <td>43.950001</td>\n",
              "      <td>42.747742</td>\n",
              "      <td>21341200</td>\n",
              "      <td>1.060002</td>\n",
              "      <td>0.843894</td>\n",
              "    </tr>\n",
              "    <tr>\n",
              "      <th>2020-10-23</th>\n",
              "      <td>44.209999</td>\n",
              "      <td>44.570000</td>\n",
              "      <td>43.669998</td>\n",
              "      <td>43.950001</td>\n",
              "      <td>42.747742</td>\n",
              "      <td>18486500</td>\n",
              "      <td>-0.259998</td>\n",
              "      <td>0.843894</td>\n",
              "    </tr>\n",
              "    <tr>\n",
              "      <th>2020-10-26</th>\n",
              "      <td>43.360001</td>\n",
              "      <td>43.400002</td>\n",
              "      <td>42.810001</td>\n",
              "      <td>43.259998</td>\n",
              "      <td>42.076611</td>\n",
              "      <td>24928100</td>\n",
              "      <td>-0.100003</td>\n",
              "      <td>0.830645</td>\n",
              "    </tr>\n",
              "    <tr>\n",
              "      <th>2020-10-27</th>\n",
              "      <td>43.040001</td>\n",
              "      <td>43.040001</td>\n",
              "      <td>41.869999</td>\n",
              "      <td>41.880001</td>\n",
              "      <td>40.734364</td>\n",
              "      <td>24251700</td>\n",
              "      <td>-1.160000</td>\n",
              "      <td>0.804147</td>\n",
              "    </tr>\n",
              "    <tr>\n",
              "      <th>2020-10-28</th>\n",
              "      <td>40.970001</td>\n",
              "      <td>41.590000</td>\n",
              "      <td>40.740002</td>\n",
              "      <td>41.130001</td>\n",
              "      <td>40.004879</td>\n",
              "      <td>27485000</td>\n",
              "      <td>0.160000</td>\n",
              "      <td>0.789747</td>\n",
              "    </tr>\n",
              "    <tr>\n",
              "      <th>2020-10-29</th>\n",
              "      <td>41.130001</td>\n",
              "      <td>42.150002</td>\n",
              "      <td>40.709999</td>\n",
              "      <td>41.660000</td>\n",
              "      <td>40.520382</td>\n",
              "      <td>23351000</td>\n",
              "      <td>0.529999</td>\n",
              "      <td>0.799923</td>\n",
              "    </tr>\n",
              "    <tr>\n",
              "      <th>2020-10-30</th>\n",
              "      <td>41.029999</td>\n",
              "      <td>41.540001</td>\n",
              "      <td>40.490002</td>\n",
              "      <td>41.419998</td>\n",
              "      <td>40.786251</td>\n",
              "      <td>26962800</td>\n",
              "      <td>0.389999</td>\n",
              "      <td>0.795315</td>\n",
              "    </tr>\n",
              "    <tr>\n",
              "      <th>2020-11-02</th>\n",
              "      <td>41.860001</td>\n",
              "      <td>42.669998</td>\n",
              "      <td>41.200001</td>\n",
              "      <td>42.209999</td>\n",
              "      <td>41.564159</td>\n",
              "      <td>24310800</td>\n",
              "      <td>0.349998</td>\n",
              "      <td>0.810484</td>\n",
              "    </tr>\n",
              "    <tr>\n",
              "      <th>2020-11-03</th>\n",
              "      <td>43.299999</td>\n",
              "      <td>44.020000</td>\n",
              "      <td>43.060001</td>\n",
              "      <td>43.529999</td>\n",
              "      <td>42.863968</td>\n",
              "      <td>29985200</td>\n",
              "      <td>0.230000</td>\n",
              "      <td>0.835829</td>\n",
              "    </tr>\n",
              "  </tbody>\n",
              "</table>\n",
              "</div>"
            ],
            "text/plain": [
              "                 Open       High        Low  ...    Volume  Daily Chg  Normalized\n",
              "Date                                         ...                                 \n",
              "2020-10-21  43.459999  43.730000  42.900002  ...  19816300  -0.450001    0.825845\n",
              "2020-10-22  42.889999  43.990002  42.660000  ...  21341200   1.060002    0.843894\n",
              "2020-10-23  44.209999  44.570000  43.669998  ...  18486500  -0.259998    0.843894\n",
              "2020-10-26  43.360001  43.400002  42.810001  ...  24928100  -0.100003    0.830645\n",
              "2020-10-27  43.040001  43.040001  41.869999  ...  24251700  -1.160000    0.804147\n",
              "2020-10-28  40.970001  41.590000  40.740002  ...  27485000   0.160000    0.789747\n",
              "2020-10-29  41.130001  42.150002  40.709999  ...  23351000   0.529999    0.799923\n",
              "2020-10-30  41.029999  41.540001  40.490002  ...  26962800   0.389999    0.795315\n",
              "2020-11-02  41.860001  42.669998  41.200001  ...  24310800   0.349998    0.810484\n",
              "2020-11-03  43.299999  44.020000  43.060001  ...  29985200   0.230000    0.835829\n",
              "\n",
              "[10 rows x 8 columns]"
            ]
          },
          "metadata": {
            "tags": []
          },
          "execution_count": 16
        }
      ]
    },
    {
      "cell_type": "code",
      "metadata": {
        "colab": {
          "base_uri": "https://localhost:8080/"
        },
        "id": "Xu-C4eHsUxfd",
        "outputId": "67a73b59-149d-491e-ed77-f46f1d1e1034"
      },
      "source": [
        "data['Normalized'].min()"
      ],
      "execution_count": 17,
      "outputs": [
        {
          "output_type": "execute_result",
          "data": {
            "text/plain": [
              "0.7897465326518228"
            ]
          },
          "metadata": {
            "tags": []
          },
          "execution_count": 17
        }
      ]
    },
    {
      "cell_type": "code",
      "metadata": {
        "colab": {
          "base_uri": "https://localhost:8080/"
        },
        "id": "NDkwXPlYUxrP",
        "outputId": "9a9ad538-7be7-4cf6-e762-2bdf85e7f054"
      },
      "source": [
        "data['Normalized'].argmin()"
      ],
      "execution_count": 18,
      "outputs": [
        {
          "output_type": "execute_result",
          "data": {
            "text/plain": [
              "68"
            ]
          },
          "metadata": {
            "tags": []
          },
          "execution_count": 18
        }
      ]
    },
    {
      "cell_type": "code",
      "metadata": {
        "colab": {
          "base_uri": "https://localhost:8080/"
        },
        "id": "RKZSzF-vUxvU",
        "outputId": "19783595-aab9-4ee8-ad0a-d6838f240472"
      },
      "source": [
        "data['Close'].max()"
      ],
      "execution_count": 19,
      "outputs": [
        {
          "output_type": "execute_result",
          "data": {
            "text/plain": [
              "79.860001"
            ]
          },
          "metadata": {
            "tags": []
          },
          "execution_count": 19
        }
      ]
    },
    {
      "cell_type": "code",
      "metadata": {
        "colab": {
          "base_uri": "https://localhost:8080/"
        },
        "id": "ZbsUoU-OUxzn",
        "outputId": "b98e258a-7579-4aa6-e288-09132b363d0e"
      },
      "source": [
        "data['Close'].argmax()"
      ],
      "execution_count": 20,
      "outputs": [
        {
          "output_type": "execute_result",
          "data": {
            "text/plain": [
              "216"
            ]
          },
          "metadata": {
            "tags": []
          },
          "execution_count": 20
        }
      ]
    },
    {
      "cell_type": "code",
      "metadata": {
        "colab": {
          "base_uri": "https://localhost:8080/",
          "height": 593
        },
        "id": "0AI8wC6cUzLl",
        "outputId": "205cb795-455b-46e3-8aac-766063950357"
      },
      "source": [
        "data.iloc[211:221]"
      ],
      "execution_count": 21,
      "outputs": [
        {
          "output_type": "execute_result",
          "data": {
            "text/html": [
              "<div>\n",
              "<style scoped>\n",
              "    .dataframe tbody tr th:only-of-type {\n",
              "        vertical-align: middle;\n",
              "    }\n",
              "\n",
              "    .dataframe tbody tr th {\n",
              "        vertical-align: top;\n",
              "    }\n",
              "\n",
              "    .dataframe thead th {\n",
              "        text-align: right;\n",
              "    }\n",
              "</style>\n",
              "<table border=\"1\" class=\"dataframe\">\n",
              "  <thead>\n",
              "    <tr style=\"text-align: right;\">\n",
              "      <th></th>\n",
              "      <th>Open</th>\n",
              "      <th>High</th>\n",
              "      <th>Low</th>\n",
              "      <th>Close</th>\n",
              "      <th>Adj Close</th>\n",
              "      <th>Volume</th>\n",
              "      <th>Daily Chg</th>\n",
              "      <th>Normalized</th>\n",
              "    </tr>\n",
              "    <tr>\n",
              "      <th>Date</th>\n",
              "      <th></th>\n",
              "      <th></th>\n",
              "      <th></th>\n",
              "      <th></th>\n",
              "      <th></th>\n",
              "      <th></th>\n",
              "      <th></th>\n",
              "      <th></th>\n",
              "    </tr>\n",
              "  </thead>\n",
              "  <tbody>\n",
              "    <tr>\n",
              "      <th>2021-05-25</th>\n",
              "      <td>78.199997</td>\n",
              "      <td>79.279999</td>\n",
              "      <td>77.190002</td>\n",
              "      <td>77.279999</td>\n",
              "      <td>77.279999</td>\n",
              "      <td>20015800</td>\n",
              "      <td>-0.919998</td>\n",
              "      <td>1.483871</td>\n",
              "    </tr>\n",
              "    <tr>\n",
              "      <th>2021-05-26</th>\n",
              "      <td>77.209999</td>\n",
              "      <td>77.900002</td>\n",
              "      <td>76.680000</td>\n",
              "      <td>77.519997</td>\n",
              "      <td>77.519997</td>\n",
              "      <td>15243400</td>\n",
              "      <td>0.309998</td>\n",
              "      <td>1.488479</td>\n",
              "    </tr>\n",
              "    <tr>\n",
              "      <th>2021-05-27</th>\n",
              "      <td>78.519997</td>\n",
              "      <td>79.110001</td>\n",
              "      <td>77.949997</td>\n",
              "      <td>78.760002</td>\n",
              "      <td>78.760002</td>\n",
              "      <td>17467000</td>\n",
              "      <td>0.240005</td>\n",
              "      <td>1.512289</td>\n",
              "    </tr>\n",
              "    <tr>\n",
              "      <th>2021-05-28</th>\n",
              "      <td>78.660004</td>\n",
              "      <td>78.970001</td>\n",
              "      <td>77.910004</td>\n",
              "      <td>78.709999</td>\n",
              "      <td>78.709999</td>\n",
              "      <td>14392800</td>\n",
              "      <td>0.049995</td>\n",
              "      <td>1.511329</td>\n",
              "    </tr>\n",
              "    <tr>\n",
              "      <th>2021-06-01</th>\n",
              "      <td>79.489998</td>\n",
              "      <td>80.089996</td>\n",
              "      <td>79.339996</td>\n",
              "      <td>79.760002</td>\n",
              "      <td>79.760002</td>\n",
              "      <td>15450500</td>\n",
              "      <td>0.270004</td>\n",
              "      <td>1.531490</td>\n",
              "    </tr>\n",
              "    <tr>\n",
              "      <th>2021-06-02</th>\n",
              "      <td>80.099998</td>\n",
              "      <td>80.290001</td>\n",
              "      <td>79.379997</td>\n",
              "      <td>79.860001</td>\n",
              "      <td>79.860001</td>\n",
              "      <td>15285600</td>\n",
              "      <td>-0.239997</td>\n",
              "      <td>1.533410</td>\n",
              "    </tr>\n",
              "    <tr>\n",
              "      <th>2021-06-03</th>\n",
              "      <td>79.709999</td>\n",
              "      <td>80.290001</td>\n",
              "      <td>79.419998</td>\n",
              "      <td>79.629997</td>\n",
              "      <td>79.629997</td>\n",
              "      <td>22255800</td>\n",
              "      <td>-0.080002</td>\n",
              "      <td>1.528994</td>\n",
              "    </tr>\n",
              "    <tr>\n",
              "      <th>2021-06-04</th>\n",
              "      <td>79.690002</td>\n",
              "      <td>79.870003</td>\n",
              "      <td>78.809998</td>\n",
              "      <td>79.489998</td>\n",
              "      <td>79.489998</td>\n",
              "      <td>13807000</td>\n",
              "      <td>-0.200004</td>\n",
              "      <td>1.526306</td>\n",
              "    </tr>\n",
              "    <tr>\n",
              "      <th>2021-06-07</th>\n",
              "      <td>79.620003</td>\n",
              "      <td>79.650002</td>\n",
              "      <td>79.019997</td>\n",
              "      <td>79.309998</td>\n",
              "      <td>79.309998</td>\n",
              "      <td>12670100</td>\n",
              "      <td>-0.310005</td>\n",
              "      <td>1.522849</td>\n",
              "    </tr>\n",
              "    <tr>\n",
              "      <th>2021-06-08</th>\n",
              "      <td>78.300003</td>\n",
              "      <td>79.419998</td>\n",
              "      <td>77.709999</td>\n",
              "      <td>79.080002</td>\n",
              "      <td>79.080002</td>\n",
              "      <td>15399100</td>\n",
              "      <td>0.779999</td>\n",
              "      <td>1.518433</td>\n",
              "    </tr>\n",
              "  </tbody>\n",
              "</table>\n",
              "</div>"
            ],
            "text/plain": [
              "                 Open       High        Low  ...    Volume  Daily Chg  Normalized\n",
              "Date                                         ...                                 \n",
              "2021-05-25  78.199997  79.279999  77.190002  ...  20015800  -0.919998    1.483871\n",
              "2021-05-26  77.209999  77.900002  76.680000  ...  15243400   0.309998    1.488479\n",
              "2021-05-27  78.519997  79.110001  77.949997  ...  17467000   0.240005    1.512289\n",
              "2021-05-28  78.660004  78.970001  77.910004  ...  14392800   0.049995    1.511329\n",
              "2021-06-01  79.489998  80.089996  79.339996  ...  15450500   0.270004    1.531490\n",
              "2021-06-02  80.099998  80.290001  79.379997  ...  15285600  -0.239997    1.533410\n",
              "2021-06-03  79.709999  80.290001  79.419998  ...  22255800  -0.080002    1.528994\n",
              "2021-06-04  79.690002  79.870003  78.809998  ...  13807000  -0.200004    1.526306\n",
              "2021-06-07  79.620003  79.650002  79.019997  ...  12670100  -0.310005    1.522849\n",
              "2021-06-08  78.300003  79.419998  77.709999  ...  15399100   0.779999    1.518433\n",
              "\n",
              "[10 rows x 8 columns]"
            ]
          },
          "metadata": {
            "tags": []
          },
          "execution_count": 21
        }
      ]
    },
    {
      "cell_type": "code",
      "metadata": {
        "id": "26K7qROAU8_u"
      },
      "source": [
        ""
      ],
      "execution_count": null,
      "outputs": []
    },
    {
      "cell_type": "code",
      "metadata": {
        "colab": {
          "base_uri": "https://localhost:8080/",
          "height": 593
        },
        "id": "lNCMwyaSU9Dn",
        "outputId": "79916767-adfe-4826-c01b-f7929a347d66"
      },
      "source": [
        "data.iloc[211:221]"
      ],
      "execution_count": 22,
      "outputs": [
        {
          "output_type": "execute_result",
          "data": {
            "text/html": [
              "<div>\n",
              "<style scoped>\n",
              "    .dataframe tbody tr th:only-of-type {\n",
              "        vertical-align: middle;\n",
              "    }\n",
              "\n",
              "    .dataframe tbody tr th {\n",
              "        vertical-align: top;\n",
              "    }\n",
              "\n",
              "    .dataframe thead th {\n",
              "        text-align: right;\n",
              "    }\n",
              "</style>\n",
              "<table border=\"1\" class=\"dataframe\">\n",
              "  <thead>\n",
              "    <tr style=\"text-align: right;\">\n",
              "      <th></th>\n",
              "      <th>Open</th>\n",
              "      <th>High</th>\n",
              "      <th>Low</th>\n",
              "      <th>Close</th>\n",
              "      <th>Adj Close</th>\n",
              "      <th>Volume</th>\n",
              "      <th>Daily Chg</th>\n",
              "      <th>Normalized</th>\n",
              "    </tr>\n",
              "    <tr>\n",
              "      <th>Date</th>\n",
              "      <th></th>\n",
              "      <th></th>\n",
              "      <th></th>\n",
              "      <th></th>\n",
              "      <th></th>\n",
              "      <th></th>\n",
              "      <th></th>\n",
              "      <th></th>\n",
              "    </tr>\n",
              "  </thead>\n",
              "  <tbody>\n",
              "    <tr>\n",
              "      <th>2021-05-25</th>\n",
              "      <td>78.199997</td>\n",
              "      <td>79.279999</td>\n",
              "      <td>77.190002</td>\n",
              "      <td>77.279999</td>\n",
              "      <td>77.279999</td>\n",
              "      <td>20015800</td>\n",
              "      <td>-0.919998</td>\n",
              "      <td>1.483871</td>\n",
              "    </tr>\n",
              "    <tr>\n",
              "      <th>2021-05-26</th>\n",
              "      <td>77.209999</td>\n",
              "      <td>77.900002</td>\n",
              "      <td>76.680000</td>\n",
              "      <td>77.519997</td>\n",
              "      <td>77.519997</td>\n",
              "      <td>15243400</td>\n",
              "      <td>0.309998</td>\n",
              "      <td>1.488479</td>\n",
              "    </tr>\n",
              "    <tr>\n",
              "      <th>2021-05-27</th>\n",
              "      <td>78.519997</td>\n",
              "      <td>79.110001</td>\n",
              "      <td>77.949997</td>\n",
              "      <td>78.760002</td>\n",
              "      <td>78.760002</td>\n",
              "      <td>17467000</td>\n",
              "      <td>0.240005</td>\n",
              "      <td>1.512289</td>\n",
              "    </tr>\n",
              "    <tr>\n",
              "      <th>2021-05-28</th>\n",
              "      <td>78.660004</td>\n",
              "      <td>78.970001</td>\n",
              "      <td>77.910004</td>\n",
              "      <td>78.709999</td>\n",
              "      <td>78.709999</td>\n",
              "      <td>14392800</td>\n",
              "      <td>0.049995</td>\n",
              "      <td>1.511329</td>\n",
              "    </tr>\n",
              "    <tr>\n",
              "      <th>2021-06-01</th>\n",
              "      <td>79.489998</td>\n",
              "      <td>80.089996</td>\n",
              "      <td>79.339996</td>\n",
              "      <td>79.760002</td>\n",
              "      <td>79.760002</td>\n",
              "      <td>15450500</td>\n",
              "      <td>0.270004</td>\n",
              "      <td>1.531490</td>\n",
              "    </tr>\n",
              "    <tr>\n",
              "      <th>2021-06-02</th>\n",
              "      <td>80.099998</td>\n",
              "      <td>80.290001</td>\n",
              "      <td>79.379997</td>\n",
              "      <td>79.860001</td>\n",
              "      <td>79.860001</td>\n",
              "      <td>15285600</td>\n",
              "      <td>-0.239997</td>\n",
              "      <td>1.533410</td>\n",
              "    </tr>\n",
              "    <tr>\n",
              "      <th>2021-06-03</th>\n",
              "      <td>79.709999</td>\n",
              "      <td>80.290001</td>\n",
              "      <td>79.419998</td>\n",
              "      <td>79.629997</td>\n",
              "      <td>79.629997</td>\n",
              "      <td>22255800</td>\n",
              "      <td>-0.080002</td>\n",
              "      <td>1.528994</td>\n",
              "    </tr>\n",
              "    <tr>\n",
              "      <th>2021-06-04</th>\n",
              "      <td>79.690002</td>\n",
              "      <td>79.870003</td>\n",
              "      <td>78.809998</td>\n",
              "      <td>79.489998</td>\n",
              "      <td>79.489998</td>\n",
              "      <td>13807000</td>\n",
              "      <td>-0.200004</td>\n",
              "      <td>1.526306</td>\n",
              "    </tr>\n",
              "    <tr>\n",
              "      <th>2021-06-07</th>\n",
              "      <td>79.620003</td>\n",
              "      <td>79.650002</td>\n",
              "      <td>79.019997</td>\n",
              "      <td>79.309998</td>\n",
              "      <td>79.309998</td>\n",
              "      <td>12670100</td>\n",
              "      <td>-0.310005</td>\n",
              "      <td>1.522849</td>\n",
              "    </tr>\n",
              "    <tr>\n",
              "      <th>2021-06-08</th>\n",
              "      <td>78.300003</td>\n",
              "      <td>79.419998</td>\n",
              "      <td>77.709999</td>\n",
              "      <td>79.080002</td>\n",
              "      <td>79.080002</td>\n",
              "      <td>15399100</td>\n",
              "      <td>0.779999</td>\n",
              "      <td>1.518433</td>\n",
              "    </tr>\n",
              "  </tbody>\n",
              "</table>\n",
              "</div>"
            ],
            "text/plain": [
              "                 Open       High        Low  ...    Volume  Daily Chg  Normalized\n",
              "Date                                         ...                                 \n",
              "2021-05-25  78.199997  79.279999  77.190002  ...  20015800  -0.919998    1.483871\n",
              "2021-05-26  77.209999  77.900002  76.680000  ...  15243400   0.309998    1.488479\n",
              "2021-05-27  78.519997  79.110001  77.949997  ...  17467000   0.240005    1.512289\n",
              "2021-05-28  78.660004  78.970001  77.910004  ...  14392800   0.049995    1.511329\n",
              "2021-06-01  79.489998  80.089996  79.339996  ...  15450500   0.270004    1.531490\n",
              "2021-06-02  80.099998  80.290001  79.379997  ...  15285600  -0.239997    1.533410\n",
              "2021-06-03  79.709999  80.290001  79.419998  ...  22255800  -0.080002    1.528994\n",
              "2021-06-04  79.690002  79.870003  78.809998  ...  13807000  -0.200004    1.526306\n",
              "2021-06-07  79.620003  79.650002  79.019997  ...  12670100  -0.310005    1.522849\n",
              "2021-06-08  78.300003  79.419998  77.709999  ...  15399100   0.779999    1.518433\n",
              "\n",
              "[10 rows x 8 columns]"
            ]
          },
          "metadata": {
            "tags": []
          },
          "execution_count": 22
        }
      ]
    },
    {
      "cell_type": "code",
      "metadata": {
        "id": "F3zqYkwWUzQJ"
      },
      "source": [
        "# Drop (delete) columns. axis=1 to define the other columns beyond index. Reduce redundant data\n",
        "data.drop(labels=['High', 'Low', 'Adj Close', 'Volume'], axis=1, inplace=True)"
      ],
      "execution_count": 23,
      "outputs": []
    },
    {
      "cell_type": "code",
      "metadata": {
        "colab": {
          "base_uri": "https://localhost:8080/",
          "height": 234
        },
        "id": "roGIQv4qUS2E",
        "outputId": "a808d8f9-4cf3-471c-875a-def519bb1d22"
      },
      "source": [
        "data.head()"
      ],
      "execution_count": 24,
      "outputs": [
        {
          "output_type": "execute_result",
          "data": {
            "text/html": [
              "<div>\n",
              "<style scoped>\n",
              "    .dataframe tbody tr th:only-of-type {\n",
              "        vertical-align: middle;\n",
              "    }\n",
              "\n",
              "    .dataframe tbody tr th {\n",
              "        vertical-align: top;\n",
              "    }\n",
              "\n",
              "    .dataframe thead th {\n",
              "        text-align: right;\n",
              "    }\n",
              "</style>\n",
              "<table border=\"1\" class=\"dataframe\">\n",
              "  <thead>\n",
              "    <tr style=\"text-align: right;\">\n",
              "      <th></th>\n",
              "      <th>Open</th>\n",
              "      <th>Close</th>\n",
              "      <th>Daily Chg</th>\n",
              "      <th>Normalized</th>\n",
              "    </tr>\n",
              "    <tr>\n",
              "      <th>Date</th>\n",
              "      <th></th>\n",
              "      <th></th>\n",
              "      <th></th>\n",
              "      <th></th>\n",
              "    </tr>\n",
              "  </thead>\n",
              "  <tbody>\n",
              "    <tr>\n",
              "      <th>2020-07-23</th>\n",
              "      <td>51.450001</td>\n",
              "      <td>52.080002</td>\n",
              "      <td>0.630001</td>\n",
              "      <td>1.000000</td>\n",
              "    </tr>\n",
              "    <tr>\n",
              "      <th>2020-07-24</th>\n",
              "      <td>52.099998</td>\n",
              "      <td>51.669998</td>\n",
              "      <td>-0.430000</td>\n",
              "      <td>0.992127</td>\n",
              "    </tr>\n",
              "    <tr>\n",
              "      <th>2020-07-27</th>\n",
              "      <td>51.459999</td>\n",
              "      <td>51.290001</td>\n",
              "      <td>-0.169998</td>\n",
              "      <td>0.984831</td>\n",
              "    </tr>\n",
              "    <tr>\n",
              "      <th>2020-07-28</th>\n",
              "      <td>51.020000</td>\n",
              "      <td>51.270000</td>\n",
              "      <td>0.250000</td>\n",
              "      <td>0.984447</td>\n",
              "    </tr>\n",
              "    <tr>\n",
              "      <th>2020-07-29</th>\n",
              "      <td>51.169998</td>\n",
              "      <td>52.520000</td>\n",
              "      <td>1.350002</td>\n",
              "      <td>1.008449</td>\n",
              "    </tr>\n",
              "  </tbody>\n",
              "</table>\n",
              "</div>"
            ],
            "text/plain": [
              "                 Open      Close  Daily Chg  Normalized\n",
              "Date                                                   \n",
              "2020-07-23  51.450001  52.080002   0.630001    1.000000\n",
              "2020-07-24  52.099998  51.669998  -0.430000    0.992127\n",
              "2020-07-27  51.459999  51.290001  -0.169998    0.984831\n",
              "2020-07-28  51.020000  51.270000   0.250000    0.984447\n",
              "2020-07-29  51.169998  52.520000   1.350002    1.008449"
            ]
          },
          "metadata": {
            "tags": []
          },
          "execution_count": 24
        }
      ]
    }
  ]
}
