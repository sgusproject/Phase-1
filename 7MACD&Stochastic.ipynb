{
  "nbformat": 4,
  "nbformat_minor": 0,
  "metadata": {
    "colab": {
      "name": "7MACD&Stochastic.ipynb",
      "provenance": [],
      "collapsed_sections": [],
      "mount_file_id": "1VNyvLLAceNo9KsowRFvFoLx3q1sb31zY",
      "authorship_tag": "ABX9TyPQGdik0b2NN8qs4sn1z+3r",
      "include_colab_link": true
    },
    "kernelspec": {
      "name": "python3",
      "display_name": "Python 3"
    },
    "language_info": {
      "name": "python"
    }
  },
  "cells": [
    {
      "cell_type": "markdown",
      "metadata": {
        "id": "view-in-github",
        "colab_type": "text"
      },
      "source": [
        "<a href=\"https://colab.research.google.com/github/sgusproject/PythonDataframe-Learn/blob/main/7MACD%26Stochastic.ipynb\" target=\"_parent\"><img src=\"https://colab.research.google.com/assets/colab-badge.svg\" alt=\"Open In Colab\"/></a>"
      ]
    },
    {
      "cell_type": "markdown",
      "metadata": {
        "id": "kCEbSuJ3QJr4"
      },
      "source": [
        "# MACD & Stochastic Oscillator"
      ]
    },
    {
      "cell_type": "markdown",
      "metadata": {
        "id": "se8svvCdQO5A"
      },
      "source": [
        "## MACD - Moving average convergence divergence\n",
        "<li>MACD is a lagging indicator when trading on the crossovers</li>\n",
        "<li>https://www.investopedia.com/terms/m/macd.asp</li>\n",
        "<li><b>Calculation:</b> Will be using default MACD parameters(12-26-9)</li>\n",
        "<li>MACD = 12-Period EMA - 26-Period EMA</li>\n",
        "<li>Signal Line 9-Period EMA</li>"
      ]
    },
    {
      "cell_type": "code",
      "metadata": {
        "id": "h0dLhiCaQCj4"
      },
      "source": [
        "import pandas as pd\n",
        "import matplotlib.pyplot as plt\n",
        "%matplotlib notebook"
      ],
      "execution_count": 1,
      "outputs": []
    },
    {
      "cell_type": "code",
      "metadata": {
        "id": "wzdH-2k1QrXz"
      },
      "source": [
        "data = pd.read_csv(\"BA.csv\", index_col=0, parse_dates=True) # using Boeing Corp data"
      ],
      "execution_count": 2,
      "outputs": []
    },
    {
      "cell_type": "code",
      "metadata": {
        "colab": {
          "base_uri": "https://localhost:8080/",
          "height": 234
        },
        "id": "wrsPtpe1QrbA",
        "outputId": "7223c807-c7d9-4a57-e57d-b71ba35abd81"
      },
      "source": [
        "data.head()"
      ],
      "execution_count": 3,
      "outputs": [
        {
          "output_type": "execute_result",
          "data": {
            "text/html": [
              "<div>\n",
              "<style scoped>\n",
              "    .dataframe tbody tr th:only-of-type {\n",
              "        vertical-align: middle;\n",
              "    }\n",
              "\n",
              "    .dataframe tbody tr th {\n",
              "        vertical-align: top;\n",
              "    }\n",
              "\n",
              "    .dataframe thead th {\n",
              "        text-align: right;\n",
              "    }\n",
              "</style>\n",
              "<table border=\"1\" class=\"dataframe\">\n",
              "  <thead>\n",
              "    <tr style=\"text-align: right;\">\n",
              "      <th></th>\n",
              "      <th>Open</th>\n",
              "      <th>High</th>\n",
              "      <th>Low</th>\n",
              "      <th>Close</th>\n",
              "      <th>Adj Close</th>\n",
              "      <th>Volume</th>\n",
              "    </tr>\n",
              "    <tr>\n",
              "      <th>Date</th>\n",
              "      <th></th>\n",
              "      <th></th>\n",
              "      <th></th>\n",
              "      <th></th>\n",
              "      <th></th>\n",
              "      <th></th>\n",
              "    </tr>\n",
              "  </thead>\n",
              "  <tbody>\n",
              "    <tr>\n",
              "      <th>2020-07-23</th>\n",
              "      <td>178.000000</td>\n",
              "      <td>182.500000</td>\n",
              "      <td>175.419998</td>\n",
              "      <td>176.449997</td>\n",
              "      <td>176.449997</td>\n",
              "      <td>29587200</td>\n",
              "    </tr>\n",
              "    <tr>\n",
              "      <th>2020-07-24</th>\n",
              "      <td>175.679993</td>\n",
              "      <td>181.100006</td>\n",
              "      <td>173.600006</td>\n",
              "      <td>173.759995</td>\n",
              "      <td>173.759995</td>\n",
              "      <td>28548000</td>\n",
              "    </tr>\n",
              "    <tr>\n",
              "      <th>2020-07-27</th>\n",
              "      <td>173.190002</td>\n",
              "      <td>174.139999</td>\n",
              "      <td>169.000000</td>\n",
              "      <td>170.210007</td>\n",
              "      <td>170.210007</td>\n",
              "      <td>30243800</td>\n",
              "    </tr>\n",
              "    <tr>\n",
              "      <th>2020-07-28</th>\n",
              "      <td>168.500000</td>\n",
              "      <td>173.740005</td>\n",
              "      <td>168.229996</td>\n",
              "      <td>170.839996</td>\n",
              "      <td>170.839996</td>\n",
              "      <td>25349100</td>\n",
              "    </tr>\n",
              "    <tr>\n",
              "      <th>2020-07-29</th>\n",
              "      <td>172.899994</td>\n",
              "      <td>173.009995</td>\n",
              "      <td>162.250000</td>\n",
              "      <td>166.009995</td>\n",
              "      <td>166.009995</td>\n",
              "      <td>51709600</td>\n",
              "    </tr>\n",
              "  </tbody>\n",
              "</table>\n",
              "</div>"
            ],
            "text/plain": [
              "                  Open        High  ...   Adj Close    Volume\n",
              "Date                                ...                      \n",
              "2020-07-23  178.000000  182.500000  ...  176.449997  29587200\n",
              "2020-07-24  175.679993  181.100006  ...  173.759995  28548000\n",
              "2020-07-27  173.190002  174.139999  ...  170.210007  30243800\n",
              "2020-07-28  168.500000  173.740005  ...  170.839996  25349100\n",
              "2020-07-29  172.899994  173.009995  ...  166.009995  51709600\n",
              "\n",
              "[5 rows x 6 columns]"
            ]
          },
          "metadata": {
            "tags": []
          },
          "execution_count": 3
        }
      ]
    },
    {
      "cell_type": "code",
      "metadata": {
        "id": "1MDLBnjiQrer"
      },
      "source": [
        "exp1 = data['Close'].ewm(span=12, adjust=False).mean()\n",
        "exp2 = data['Close'].ewm(span=26, adjust=False).mean()\n",
        "data['MACD'] = exp1 - exp2\n",
        "data['Signal Line'] = data['MACD'].ewm(span=9, adjust=False).mean()"
      ],
      "execution_count": 4,
      "outputs": []
    },
    {
      "cell_type": "code",
      "metadata": {
        "colab": {
          "base_uri": "https://localhost:8080/",
          "height": 354
        },
        "id": "Lz7-GZgcQriY",
        "outputId": "d2e29b8c-a680-46df-c950-a71206f1820a"
      },
      "source": [
        "data.tail()"
      ],
      "execution_count": 5,
      "outputs": [
        {
          "output_type": "execute_result",
          "data": {
            "text/html": [
              "<div>\n",
              "<style scoped>\n",
              "    .dataframe tbody tr th:only-of-type {\n",
              "        vertical-align: middle;\n",
              "    }\n",
              "\n",
              "    .dataframe tbody tr th {\n",
              "        vertical-align: top;\n",
              "    }\n",
              "\n",
              "    .dataframe thead th {\n",
              "        text-align: right;\n",
              "    }\n",
              "</style>\n",
              "<table border=\"1\" class=\"dataframe\">\n",
              "  <thead>\n",
              "    <tr style=\"text-align: right;\">\n",
              "      <th></th>\n",
              "      <th>Open</th>\n",
              "      <th>High</th>\n",
              "      <th>Low</th>\n",
              "      <th>Close</th>\n",
              "      <th>Adj Close</th>\n",
              "      <th>Volume</th>\n",
              "      <th>MACD</th>\n",
              "      <th>Signal Line</th>\n",
              "    </tr>\n",
              "    <tr>\n",
              "      <th>Date</th>\n",
              "      <th></th>\n",
              "      <th></th>\n",
              "      <th></th>\n",
              "      <th></th>\n",
              "      <th></th>\n",
              "      <th></th>\n",
              "      <th></th>\n",
              "      <th></th>\n",
              "    </tr>\n",
              "  </thead>\n",
              "  <tbody>\n",
              "    <tr>\n",
              "      <th>2021-07-16</th>\n",
              "      <td>223.110001</td>\n",
              "      <td>224.000000</td>\n",
              "      <td>217.029999</td>\n",
              "      <td>217.740005</td>\n",
              "      <td>217.740005</td>\n",
              "      <td>12388900</td>\n",
              "      <td>-4.902169</td>\n",
              "      <td>-2.672019</td>\n",
              "    </tr>\n",
              "    <tr>\n",
              "      <th>2021-07-19</th>\n",
              "      <td>211.179993</td>\n",
              "      <td>211.550003</td>\n",
              "      <td>204.800003</td>\n",
              "      <td>206.990005</td>\n",
              "      <td>206.990005</td>\n",
              "      <td>24123600</td>\n",
              "      <td>-6.449561</td>\n",
              "      <td>-3.427528</td>\n",
              "    </tr>\n",
              "    <tr>\n",
              "      <th>2021-07-20</th>\n",
              "      <td>208.100006</td>\n",
              "      <td>217.369995</td>\n",
              "      <td>206.619995</td>\n",
              "      <td>217.149994</td>\n",
              "      <td>217.149994</td>\n",
              "      <td>17009300</td>\n",
              "      <td>-6.777923</td>\n",
              "      <td>-4.097607</td>\n",
              "    </tr>\n",
              "    <tr>\n",
              "      <th>2021-07-21</th>\n",
              "      <td>219.500000</td>\n",
              "      <td>224.089996</td>\n",
              "      <td>218.899994</td>\n",
              "      <td>222.539993</td>\n",
              "      <td>222.539993</td>\n",
              "      <td>11421000</td>\n",
              "      <td>-6.527974</td>\n",
              "      <td>-4.583680</td>\n",
              "    </tr>\n",
              "    <tr>\n",
              "      <th>2021-07-22</th>\n",
              "      <td>221.520004</td>\n",
              "      <td>222.250000</td>\n",
              "      <td>218.309998</td>\n",
              "      <td>220.869995</td>\n",
              "      <td>220.869995</td>\n",
              "      <td>9754300</td>\n",
              "      <td>-6.390971</td>\n",
              "      <td>-4.945138</td>\n",
              "    </tr>\n",
              "  </tbody>\n",
              "</table>\n",
              "</div>"
            ],
            "text/plain": [
              "                  Open        High         Low  ...    Volume      MACD  Signal Line\n",
              "Date                                            ...                                 \n",
              "2021-07-16  223.110001  224.000000  217.029999  ...  12388900 -4.902169    -2.672019\n",
              "2021-07-19  211.179993  211.550003  204.800003  ...  24123600 -6.449561    -3.427528\n",
              "2021-07-20  208.100006  217.369995  206.619995  ...  17009300 -6.777923    -4.097607\n",
              "2021-07-21  219.500000  224.089996  218.899994  ...  11421000 -6.527974    -4.583680\n",
              "2021-07-22  221.520004  222.250000  218.309998  ...   9754300 -6.390971    -4.945138\n",
              "\n",
              "[5 rows x 8 columns]"
            ]
          },
          "metadata": {
            "tags": []
          },
          "execution_count": 5
        }
      ]
    },
    {
      "cell_type": "code",
      "metadata": {
        "colab": {
          "base_uri": "https://localhost:8080/",
          "height": 294
        },
        "id": "SeUKCqhMQrmF",
        "outputId": "1336257f-77d4-42c7-cee8-d2a44a5b8013"
      },
      "source": [
        "fig, ax = plt.subplots()\n",
        "data[['MACD', 'Signal Line']].plot(ax=ax)\n",
        "data['Close'].plot(ax=ax, alpha=0.25, secondary_y=True)"
      ],
      "execution_count": 6,
      "outputs": [
        {
          "output_type": "execute_result",
          "data": {
            "text/plain": [
              "<matplotlib.axes._subplots.AxesSubplot at 0x7f061c676490>"
            ]
          },
          "metadata": {
            "tags": []
          },
          "execution_count": 6
        },
        {
          "output_type": "display_data",
          "data": {
            "image/png": "[encoded data removed]",
            "text/plain": [
              "<Figure size 432x288 with 2 Axes>"
            ]
          },
          "metadata": {
            "tags": [],
            "needs_background": "light"
          }
        }
      ]
    },
    {
      "cell_type": "markdown",
      "metadata": {
        "id": "8joveIMsRLui"
      },
      "source": [
        "## Stochastic Oscillator\n",
        "<li>Lagging Indicator</li>\n",
        "<li>https://www.investopedia.com/terms/s/stochasticoscillator.asp</li>\n",
        "<li>14-high: Maximum of last 14 trading days</li>\n",
        "<li>14-low: Minimum of last 14 trading days</li>\n",
        "<li>%K: (Last close - 14-low)*100/(14-high - 14-low)</li>\n",
        "<li>%D: Simple Moving Average of %K</li>"
      ]
    },
    {
      "cell_type": "code",
      "metadata": {
        "id": "DfP4aFu7Qrs6"
      },
      "source": [
        ""
      ],
      "execution_count": null,
      "outputs": []
    },
    {
      "cell_type": "code",
      "metadata": {
        "id": "c58q6wk2Qrwa"
      },
      "source": [
        "high14 = data['High'].rolling(14).max()\n",
        "low14 = data['Low'].rolling(14).min()\n",
        "data['%K'] = (data['Close'] - low14)*100/(high14 - low14)\n",
        "data['%D'] = data['%K'].rolling(3).mean()"
      ],
      "execution_count": 8,
      "outputs": []
    },
    {
      "cell_type": "code",
      "metadata": {
        "colab": {
          "base_uri": "https://localhost:8080/",
          "height": 354
        },
        "id": "kS4DdyS6Qr0y",
        "outputId": "3d5bf7ee-ef9c-4148-ea37-1e5e70a0aad2"
      },
      "source": [
        "data.tail()"
      ],
      "execution_count": 9,
      "outputs": [
        {
          "output_type": "execute_result",
          "data": {
            "text/html": [
              "<div>\n",
              "<style scoped>\n",
              "    .dataframe tbody tr th:only-of-type {\n",
              "        vertical-align: middle;\n",
              "    }\n",
              "\n",
              "    .dataframe tbody tr th {\n",
              "        vertical-align: top;\n",
              "    }\n",
              "\n",
              "    .dataframe thead th {\n",
              "        text-align: right;\n",
              "    }\n",
              "</style>\n",
              "<table border=\"1\" class=\"dataframe\">\n",
              "  <thead>\n",
              "    <tr style=\"text-align: right;\">\n",
              "      <th></th>\n",
              "      <th>Open</th>\n",
              "      <th>High</th>\n",
              "      <th>Low</th>\n",
              "      <th>Close</th>\n",
              "      <th>Adj Close</th>\n",
              "      <th>Volume</th>\n",
              "      <th>MACD</th>\n",
              "      <th>Signal Line</th>\n",
              "      <th>%K</th>\n",
              "      <th>%D</th>\n",
              "    </tr>\n",
              "    <tr>\n",
              "      <th>Date</th>\n",
              "      <th></th>\n",
              "      <th></th>\n",
              "      <th></th>\n",
              "      <th></th>\n",
              "      <th></th>\n",
              "      <th></th>\n",
              "      <th></th>\n",
              "      <th></th>\n",
              "      <th></th>\n",
              "      <th></th>\n",
              "    </tr>\n",
              "  </thead>\n",
              "  <tbody>\n",
              "    <tr>\n",
              "      <th>2021-07-16</th>\n",
              "      <td>223.110001</td>\n",
              "      <td>224.000000</td>\n",
              "      <td>217.029999</td>\n",
              "      <td>217.740005</td>\n",
              "      <td>217.740005</td>\n",
              "      <td>12388900</td>\n",
              "      <td>-4.902169</td>\n",
              "      <td>-2.672019</td>\n",
              "      <td>2.531215</td>\n",
              "      <td>3.096368</td>\n",
              "    </tr>\n",
              "    <tr>\n",
              "      <th>2021-07-19</th>\n",
              "      <td>211.179993</td>\n",
              "      <td>211.550003</td>\n",
              "      <td>204.800003</td>\n",
              "      <td>206.990005</td>\n",
              "      <td>206.990005</td>\n",
              "      <td>24123600</td>\n",
              "      <td>-6.449561</td>\n",
              "      <td>-3.427528</td>\n",
              "      <td>5.534502</td>\n",
              "      <td>4.762638</td>\n",
              "    </tr>\n",
              "    <tr>\n",
              "      <th>2021-07-20</th>\n",
              "      <td>208.100006</td>\n",
              "      <td>217.369995</td>\n",
              "      <td>206.619995</td>\n",
              "      <td>217.149994</td>\n",
              "      <td>217.149994</td>\n",
              "      <td>17009300</td>\n",
              "      <td>-6.777923</td>\n",
              "      <td>-4.097607</td>\n",
              "      <td>33.378354</td>\n",
              "      <td>13.814690</td>\n",
              "    </tr>\n",
              "    <tr>\n",
              "      <th>2021-07-21</th>\n",
              "      <td>219.500000</td>\n",
              "      <td>224.089996</td>\n",
              "      <td>218.899994</td>\n",
              "      <td>222.539993</td>\n",
              "      <td>222.539993</td>\n",
              "      <td>11421000</td>\n",
              "      <td>-6.527974</td>\n",
              "      <td>-4.583680</td>\n",
              "      <td>47.945919</td>\n",
              "      <td>28.952925</td>\n",
              "    </tr>\n",
              "    <tr>\n",
              "      <th>2021-07-22</th>\n",
              "      <td>221.520004</td>\n",
              "      <td>222.250000</td>\n",
              "      <td>218.309998</td>\n",
              "      <td>220.869995</td>\n",
              "      <td>220.869995</td>\n",
              "      <td>9754300</td>\n",
              "      <td>-6.390971</td>\n",
              "      <td>-4.945138</td>\n",
              "      <td>44.676096</td>\n",
              "      <td>42.000123</td>\n",
              "    </tr>\n",
              "  </tbody>\n",
              "</table>\n",
              "</div>"
            ],
            "text/plain": [
              "                  Open        High  ...         %K         %D\n",
              "Date                                ...                      \n",
              "2021-07-16  223.110001  224.000000  ...   2.531215   3.096368\n",
              "2021-07-19  211.179993  211.550003  ...   5.534502   4.762638\n",
              "2021-07-20  208.100006  217.369995  ...  33.378354  13.814690\n",
              "2021-07-21  219.500000  224.089996  ...  47.945919  28.952925\n",
              "2021-07-22  221.520004  222.250000  ...  44.676096  42.000123\n",
              "\n",
              "[5 rows x 10 columns]"
            ]
          },
          "metadata": {
            "tags": []
          },
          "execution_count": 9
        }
      ]
    },
    {
      "cell_type": "code",
      "metadata": {
        "colab": {
          "base_uri": "https://localhost:8080/",
          "height": 302
        },
        "id": "UT3sShhGQr4L",
        "outputId": "20fba894-644c-4c10-d992-3e643774f457"
      },
      "source": [
        "fig, ax = plt.subplots()\n",
        "data[['%K', '%D']].loc['2021-05-01':].plot(ax=ax)\n",
        "ax.axhline(80, c='y', alpha=0.3)\n",
        "ax.axhline(20, c='y', alpha=0.3)\n",
        "data['Close'].loc['2021-05-01':].plot(ax=ax, alpha=0.3, secondary_y=True)"
      ],
      "execution_count": 10,
      "outputs": [
        {
          "output_type": "execute_result",
          "data": {
            "text/plain": [
              "<matplotlib.axes._subplots.AxesSubplot at 0x7f061c4e4ed0>"
            ]
          },
          "metadata": {
            "tags": []
          },
          "execution_count": 10
        },
        {
          "output_type": "display_data",
          "data": {
            "image/png": "[encoded data removed]",
            "text/plain": [
              "<Figure size 432x288 with 2 Axes>"
            ]
          },
          "metadata": {
            "tags": [],
            "needs_background": "light"
          }
        }
      ]
    },
    {
      "cell_type": "code",
      "metadata": {
        "id": "f1I-ab33Qr7r"
      },
      "source": [
        ""
      ],
      "execution_count": null,
      "outputs": []
    },
    {
      "cell_type": "code",
      "metadata": {
        "id": "igOVymbfQr_E"
      },
      "source": [
        ""
      ],
      "execution_count": null,
      "outputs": []
    },
    {
      "cell_type": "code",
      "metadata": {
        "id": "LSaH4vSlQsBk"
      },
      "source": [
        ""
      ],
      "execution_count": null,
      "outputs": []
    }
  ]
}